{
  "nbformat": 4,
  "nbformat_minor": 0,
  "metadata": {
    "colab": {
      "provenance": [],
      "authorship_tag": "ABX9TyP4aX7jqxc57Kz8DR16nq3y",
      "include_colab_link": true
    },
    "kernelspec": {
      "name": "python3",
      "display_name": "Python 3"
    },
    "language_info": {
      "name": "python"
    }
  },
  "cells": [
    {
      "cell_type": "markdown",
      "metadata": {
        "id": "view-in-github",
        "colab_type": "text"
      },
      "source": [
        "<a href=\"https://colab.research.google.com/github/CeSaRLoPeZArTeAgA/Maestria-IMCA/blob/main/Clase6_SistemasLineales.ipynb\" target=\"_parent\"><img src=\"https://colab.research.google.com/assets/colab-badge.svg\" alt=\"Open In Colab\"/></a>"
      ]
    },
    {
      "cell_type": "markdown",
      "source": [
        "# MAESTRIA DE MODELIZACION MATEMATICA Y COMPUTACIONAL\n",
        "---\n",
        "![IMCA.jpg](data:image/jpeg;base64,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)\n",
        "\n",
        "\n",
        "---\n",
        "\n",
        "\n",
        "# CLASE: SISTEMAS LINEALES Y CALCULO DE VALORES PROPIOS"
      ],
      "metadata": {
        "id": "-o82_Xii3hes"
      }
    },
    {
      "cell_type": "markdown",
      "source": [
        "# METODO DE JACOBI\n",
        "\n",
        "Supongamos que tenemos un sistema de ecuaciones lineales de la forma $Ax=b$, donde $A$ es la matriz de coeficientes, $x$ es el vector de incógnitas y $b$ es el vector de términos constantes. Se deseara que la matriz $A$ tenga la diagonal dominante, el cual es una propiedad la matriz. Es asi una matriz se considera diagonal dominante si, para cada fila de la matriz, el valor absoluto del elemento en la diagonal principal es mayor o igual que la suma de los valores absolutos de los elementos fuera de la diagonal en esa fila\n",
        "\n",
        "\n",
        "1. Inicializa un vector de solución inicial $x^{(0)}$ con valores iniciales (pueden ser arbitrarios).\n",
        "\n",
        "2. Para cada componente $x_i^{(k)}$ en la k-ésima iteración, utiliza la siguiente fórmula para actualizarla:\n",
        "\n",
        "  $x_i^{(k+1)}=\\dfrac{1}{A_{ii}}(b_i- \\sum_{j≠i}^{n}​A_{ij}​x_j^{(k)})$\n",
        "\n",
        "  Donde $A_{ij}$ es el elemento de la matriz $A$ en la fila $i$, columna $j$, $b_i$​ es el i-ésimo elemento del vector $b$, y $x_j^{(k)}$​ es el j-ésimo componente del vector de solución en la k-ésima iteración.\n",
        "\n",
        "3. Repite el paso 2 hasta que se alcance una convergencia deseada o después de un número predefinido de iteraciones."
      ],
      "metadata": {
        "id": "kVt3HVj84Vuk"
      }
    },
    {
      "cell_type": "code",
      "source": [
        "#metodo Jacobi\n",
        "import numpy as np\n",
        "import pandas as pd\n",
        "\n",
        "N=50 #numero maximo de iteraciones\n",
        "tol=0.001 #toleracia\n",
        "\n",
        "#inicializando matriz vacia\n",
        "Resul=np.empty(shape=[0, 4])\n",
        "\n",
        "A=np.array([[25,-0.9,-0.3],[3.7,-7.3,-0.1],[0.7,0.1,-8.2]],dtype='float')\n",
        "b=np.array([20.2,-18.9,-56.4],dtype='float')\n",
        "x=np.array([0,0,0],dtype='float')\n",
        "\n",
        "print(\"matriz A: \")\n",
        "print(A)\n",
        "print(\"matriz b: \")\n",
        "print(b)\n",
        "\n",
        "n=len(b) #longitud de las soluciones\n",
        "x1=np.zeros_like(x) #inicializamos con ceros el vector x1\n",
        "iter=1 #inicializamos el vector iter\n",
        "\n",
        "while iter<N:\n",
        "  x1[:]=x #mantiene el vector x1 en las iteraciones\n",
        "  #rellenando la matriz con los calculos\n",
        "  row = np.array([iter, x1[0], x1[1],x[2]])\n",
        "  Resul = np.vstack([Resul, row])\n",
        "  for j in range(n):\n",
        "    suma=0\n",
        "    for i in range(n):\n",
        "      if i==j:\n",
        "        continue\n",
        "      suma+=A[j,i]*x1[i]\n",
        "    x[j]=(b[j]- suma)/A[j,j]\n",
        "  iter+=1\n",
        "  if(abs(np.linalg.norm(np.array(x),2)-np.linalg.norm(np.array(x1),2))<tol):\n",
        "    break\n",
        "row = np.array([iter, x[0], x[1],x[2]])\n",
        "Resul = np.vstack([Resul, row])\n",
        "\n",
        "#creacion de dataframe de los calculos\n",
        "calculos= pd.DataFrame(Resul,columns=['n', 'x1', 'x2','x3'])\n",
        "pp.pprint(calculos)\n",
        "calculos=calculos.style.format(\"{:.8f}\").hide()\n",
        "calculos\n",
        "print(\"La solucion del sistema de ecuacion sera x: \",x)\n",
        "print(\"Numero de Iteraciones:\",iter)\n",
        "print(\"comprobacion A@x: \",A@x)"
      ],
      "metadata": {
        "id": "ZnOQzedFO3cb",
        "colab": {
          "base_uri": "https://localhost:8080/"
        },
        "outputId": "78284286-58ee-434e-a169-e5469766db78"
      },
      "execution_count": null,
      "outputs": [
        {
          "output_type": "stream",
          "name": "stdout",
          "text": [
            "matriz A: \n",
            "[[25.  -0.9 -0.3]\n",
            " [ 3.7 -7.3 -0.1]\n",
            " [ 0.7  0.1 -8.2]]\n",
            "matriz b: \n",
            "[ 20.2 -18.9 -56.4]\n",
            "     n        x1        x2        x3\n",
            "0  1.0  0.000000  0.000000  0.000000\n",
            "1  2.0  0.808000  2.589041  6.878049\n",
            "2  3.0  0.983742  2.904355  6.978598\n",
            "3  4.0  0.996300  2.992053  6.997446\n",
            "4  5.0  0.999683  2.998160  6.999587\n",
            "5  6.0  0.999929  2.999845  6.999951\n",
            "6  7.0  0.999994  2.999965  6.999992\n",
            "La solucion del sistema de ecuacion sera x:  [0.99999383 2.99996459 6.99999203]\n",
            "Numero de Iteraciones: 7\n",
            "comprobacion A@x:  [ 20.19988002 -18.89976352 -56.39994253]\n"
          ]
        }
      ]
    },
    {
      "cell_type": "code",
      "source": [
        "import numpy as np\n",
        "y=[2,3,5]\n",
        "x=np.array(y)\n",
        "np.linalg.norm(x,2)"
      ],
      "metadata": {
        "colab": {
          "base_uri": "https://localhost:8080/"
        },
        "id": "jc9gdO1gqBqJ",
        "outputId": "5ff71a9f-a223-450f-e9c2-c9599102a29b"
      },
      "execution_count": null,
      "outputs": [
        {
          "output_type": "execute_result",
          "data": {
            "text/plain": [
              "6.164414002968976"
            ]
          },
          "metadata": {},
          "execution_count": 36
        }
      ]
    },
    {
      "cell_type": "code",
      "execution_count": null,
      "metadata": {
        "id": "icLiINm3InuV"
      },
      "outputs": [],
      "source": [
        "import numpy as np\n",
        "\n",
        "#metodo Jacobi\n",
        "A=np.array([[7,-6],[-8,9]],dtype='float')\n",
        "b=np.array([3,-4],dtype='float')\n",
        "x=np.array([0,0],dtype='float')\n",
        "print(A)\n",
        "print(b)\n",
        "\n",
        "n=len(b)\n",
        "\n",
        "\n",
        "for k in range(50):\n",
        "  for j in range(n):\n",
        "    suma=0\n",
        "    for i in range(n):\n",
        "      if i==j:\n",
        "        continue\n",
        "      suma+=A[j,i]*x[i]\n",
        "    x[j]=(b[j]- suma)/A[j,j]\n",
        "  #print(x)\n",
        "\n",
        "print(A@x)"
      ]
    },
    {
      "cell_type": "markdown",
      "source": [
        "# METODO DE POTENCIA"
      ],
      "metadata": {
        "id": "rDBpnkxlAUwN"
      }
    },
    {
      "cell_type": "code",
      "source": [
        "#impresion de resultados\n",
        "import numpy as np\n",
        "def imprime(iter,a,r):\n",
        "  longi=len(a)\n",
        "  cad1='print(\"{:>5,.0f} '\n",
        "  cad2='.format(iter,'\n",
        "  for i in range(longi):\n",
        "    cad1=cad1+'{:>30,.3f}'\n",
        "    cad2=cad2+'a['+str(i)+']'\n",
        "    if(i!=(longi-1)):\n",
        "      cad2=cad2+','\n",
        "      cad1=cad1+' '\n",
        "    else:\n",
        "      cad2=cad2+',r))'\n",
        "      cad1=cad1+' {:>20,.10f}\"'\n",
        "  eval(cad1+cad2)\n",
        "\n",
        "def cabezera(a):\n",
        "  longi=len(a)\n",
        "  cad1='print(\"{:^5} '\n",
        "  cad2='.format(\"iteracion\",'\n",
        "  for i in range(longi):\n",
        "    cad1=cad1+'{:^30}'\n",
        "    cad2=cad2+'\"'+'x['+str(i)+']'+'\"'\n",
        "    if(i!=(longi-1)):\n",
        "      cad2=cad2+','\n",
        "      cad1=cad1+' '\n",
        "    else:\n",
        "      cad2=cad2+',\"eigenvalor\"))'\n",
        "      cad1=cad1+' {:^20}\"'\n",
        "  eval(cad1+cad2)"
      ],
      "metadata": {
        "id": "_46BrcK3pqjN"
      },
      "execution_count": 173,
      "outputs": []
    },
    {
      "cell_type": "code",
      "source": [
        "#metodo de la potencia\n",
        "import numpy as np\n",
        "from numpy.linalg import eig\n",
        "A=np.array([[-2,-3],[6,7]],dtype='float')\n",
        "x=np.array([1,1],dtype='float')#inicializamos el proceso con un vector no nulo\n",
        "\n",
        "#A=np.array([[1,2,-1],[1,0,1],[4,-4,5]],dtype='float')\n",
        "#x=np.array([1,0,0],dtype='float')\n",
        "\n",
        "def phi(x):\n",
        "  return max(np.absolute(x))\n",
        "  #return x[0]\n",
        "\n",
        "print(\"########    METODO DE LA POTENCIA PARA CALCULO DE VALOR PROPIO DOMINANTE    ########\\n\")\n",
        "cabezera(x)\n",
        "for i in range(15):\n",
        "  x0=x\n",
        "  x=A@x\n",
        "  r=phi(x)/phi(x0)\n",
        "  #print('%d %11.2f %11.2f \\n',i,x,r)\n",
        "  imprime(i+1,x,r)\n",
        "  #print(x)\n",
        "\n",
        "print(\"Valor propio: \",r)\n",
        "print(\"vector propio: \",x/np.min(x))\n",
        "print(\"Usando Linealg eig\\n\", eig(A))\n"
      ],
      "metadata": {
        "id": "FA12PrT1i2G7",
        "colab": {
          "base_uri": "https://localhost:8080/"
        },
        "outputId": "9f3c7aeb-3e04-4bbf-c4bd-235d4b67151b"
      },
      "execution_count": 174,
      "outputs": [
        {
          "output_type": "stream",
          "name": "stdout",
          "text": [
            "########    METODO DE LA POTENCIA PARA CALCULO DE VALOR PROPIO DOMINANTE    ########\n",
            "\n",
            "iteracion              x[0]                           x[1]                   eigenvalor     \n",
            "    1                         -5.000                         13.000        13.0000000000\n",
            "    2                        -29.000                         61.000         4.6923076923\n",
            "    3                       -125.000                        253.000         4.1475409836\n",
            "    4                       -509.000                      1,021.000         4.0355731225\n",
            "    5                     -2,045.000                      4,093.000         4.0088148874\n",
            "    6                     -8,189.000                     16,381.000         4.0021988761\n",
            "    7                    -32,765.000                     65,533.000         4.0005494170\n",
            "    8                   -131,069.000                    262,141.000         4.0001373354\n",
            "    9                   -524,285.000                  1,048,573.000         4.0000343327\n",
            "   10                 -2,097,149.000                  4,194,301.000         4.0000085831\n",
            "   11                 -8,388,605.000                 16,777,213.000         4.0000021458\n",
            "   12                -33,554,429.000                 67,108,861.000         4.0000005364\n",
            "   13               -134,217,725.000                268,435,453.000         4.0000001341\n",
            "   14               -536,870,909.000              1,073,741,821.000         4.0000000335\n",
            "   15             -2,147,483,645.000              4,294,967,293.000         4.0000000084\n",
            "Valor propio:  4.000000008381903\n",
            "vector propio:  [ 1. -2.]\n",
            "Usando Linealg eig\n",
            " (array([1., 4.]), array([[-0.70710678,  0.4472136 ],\n",
            "       [ 0.70710678, -0.89442719]]))\n"
          ]
        }
      ]
    },
    {
      "cell_type": "code",
      "source": [
        "import numpy as np\n",
        "a=np.array([2,-13.5,13.,8.,-1.])\n",
        "iter=5\n",
        "r=2.003\n",
        "print(a)\n",
        "cabezera(a)\n",
        "imprime(iter,a,r)\n",
        "A=np.array([[3,4,-1],[2,0,1],[1,3,-2]],dtype='float')\n",
        "print(A)\n",
        "B=np.linalg.inv(A)\n",
        "print(B)\n",
        "print(A@B)\n",
        "print(np.matmul(A,B))"
      ],
      "metadata": {
        "colab": {
          "base_uri": "https://localhost:8080/"
        },
        "id": "So_lUefcpvz8",
        "outputId": "cd0ae010-a6f6-4700-bd98-d3e2247d2acc"
      },
      "execution_count": 192,
      "outputs": [
        {
          "output_type": "stream",
          "name": "stdout",
          "text": [
            "[  2.  -13.5  13.    8.   -1. ]\n",
            "iteracion              x[0]                           x[1]                           x[2]                           x[3]                           x[4]                   eigenvalor     \n",
            "    5                          2.000                        -13.500                         13.000                          8.000                         -1.000         2.0030000000\n",
            "[[ 3.  4. -1.]\n",
            " [ 2.  0.  1.]\n",
            " [ 1.  3. -2.]]\n",
            "[[-0.6  1.   0.8]\n",
            " [ 1.  -1.  -1. ]\n",
            " [ 1.2 -1.  -1.6]]\n",
            "[[ 1.00000000e+00 -3.33066907e-16 -2.22044605e-16]\n",
            " [ 2.22044605e-16  1.00000000e+00 -4.44089210e-16]\n",
            " [ 0.00000000e+00 -2.22044605e-16  1.00000000e+00]]\n",
            "[[ 1.00000000e+00 -3.33066907e-16 -2.22044605e-16]\n",
            " [ 2.22044605e-16  1.00000000e+00 -4.44089210e-16]\n",
            " [ 0.00000000e+00 -2.22044605e-16  1.00000000e+00]]\n"
          ]
        }
      ]
    },
    {
      "cell_type": "markdown",
      "source": [
        "# METODO DE POTENCIA NORMALIZADA"
      ],
      "metadata": {
        "id": "u2zxhbUnAcTt"
      }
    },
    {
      "cell_type": "code",
      "source": [
        "#impresion de resultados\n",
        "import numpy as np\n",
        "def imprime(iter,a,r):\n",
        "  longi=len(a)\n",
        "  cad1='print(\"{:>5,.0f} '\n",
        "  cad2='.format(iter,'\n",
        "  for i in range(longi):\n",
        "    cad1=cad1+'{:>30,.10f}'\n",
        "    cad2=cad2+'a['+str(i)+']'\n",
        "    if(i!=(longi-1)):\n",
        "      cad2=cad2+','\n",
        "      cad1=cad1+' '\n",
        "    else:\n",
        "      cad2=cad2+',r))'\n",
        "      cad1=cad1+' {:>20,.10f}\"'\n",
        "  eval(cad1+cad2)\n",
        "\n",
        "def cabezera(a):\n",
        "  longi=len(a)\n",
        "  cad1='print(\"{:^5} '\n",
        "  cad2='.format(\"iteracion\",'\n",
        "  for i in range(longi):\n",
        "    cad1=cad1+'{:^30}'\n",
        "    cad2=cad2+'\"'+'x['+str(i)+']'+'\"'\n",
        "    if(i!=(longi-1)):\n",
        "      cad2=cad2+','\n",
        "      cad1=cad1+' '\n",
        "    else:\n",
        "      cad2=cad2+',\"eigenvalor\"))'\n",
        "      cad1=cad1+' {:^20}\"'\n",
        "  eval(cad1+cad2)"
      ],
      "metadata": {
        "id": "K_5fS5Pi8jUf"
      },
      "execution_count": 203,
      "outputs": []
    },
    {
      "cell_type": "code",
      "source": [
        "#metodo de la potencia normalizada\n",
        "import numpy as np\n",
        "from numpy.linalg import eig\n",
        "from numpy.linalg import norm\n",
        "\n",
        "A=np.array([[-4,14,0],[-5,13,0],[-1,0,2]],dtype='float')\n",
        "x=np.array([1,1,1],dtype='float')\n",
        "\n",
        "\n",
        "#A=np.array([[6,5,-5],[2,6,-2],[2,5,-1]],dtype='float')\n",
        "#x=np.array([-1,1,1],dtype='float')\n",
        "\n",
        "#A=np.array([[-1,0],[-1,-3]],dtype='float')\n",
        "#x=np.array([1,1],dtype='float')\n",
        "\n",
        "#A=np.array([[1,2,-1],[1,0,1],[4,-4,5]],dtype='float')\n",
        "#x=np.array([1,0,0],dtype='float')\n",
        "\n",
        "#A=np.array([[-2,-3],[6,7]],dtype='float')\n",
        "#x=np.array([1,1],dtype='float')#inicializamos el proceso con un vector no nulo\n",
        "\n",
        "print(\"METODO DE LA POTENCIA NORMALIZADA PARA CALCULO DE VALOR PROPIO DOMINANTE\\n\")\n",
        "def phi(x):\n",
        "  #return x[1]\n",
        "  return max(np.absolute(x))\n",
        "cabezera(x)\n",
        "for i in range(20):\n",
        "  x0=x\n",
        "  x=A@x\n",
        "  r=phi(x)/phi(x0)\n",
        "  x /=norm(x)\n",
        "  #print(x,r)\n",
        "  imprime(i+1,x,r)\n",
        "\n",
        "print(\"Valor propio: \",r)\n",
        "print(\"vector propio: \",x)\n",
        "print(\"Usando eig\\n\", eig(A))\n"
      ],
      "metadata": {
        "id": "SRw9bNI_lXH8",
        "colab": {
          "base_uri": "https://localhost:8080/"
        },
        "outputId": "529fca02-2034-4d44-c040-c4740d9647e2"
      },
      "execution_count": 208,
      "outputs": [
        {
          "output_type": "stream",
          "name": "stdout",
          "text": [
            "METODO DE LA POTENCIA NORMALIZADA PARA CALCULO DE VALOR PROPIO DOMINANTE\n",
            "\n",
            "iteracion              x[0]                           x[1]                           x[2]                   eigenvalor     \n",
            "    1                   0.7784989442                   0.6227991553                   0.0778498944        10.0000000000\n",
            "    2                   0.7968581126                   0.5976435844                  -0.0885397903         7.2000000000\n",
            "    3                   0.7982443818                   0.5833324329                  -0.1500972342         6.5000000000\n",
            "    4                   0.7979903505                   0.5763263643                  -0.1762365520         6.2307692308\n",
            "    5                   0.7977209134                   0.5729086560                  -0.1881940920         6.1111111111\n",
            "    6                   0.7975636051                   0.5712279874                  -0.1938836821         6.0545454545\n",
            "    7                   0.7974818465                   0.5703962086                  -0.1966491033         6.0270270270\n",
            "    8                   0.7974408356                   0.5699828792                  -0.1980091694         6.0134529148\n",
            "    9                   0.7974204870                   0.5697769849                  -0.1986825468         6.0067114094\n",
            "   10                   0.7974104119                   0.5696742725                  -0.1990172313         6.0033519553\n",
            "   11                   0.7974054186                   0.5696229888                  -0.1991839579         6.0016750419\n",
            "   12                   0.7974029394                   0.5695973697                  -0.1992671288         6.0008372872\n",
            "   13                   0.7974017064                   0.5695845673                  -0.1993086534         6.0004185852\n",
            "   14                   0.7974010922                   0.5695781685                  -0.1993293961         6.0002092780\n",
            "   15                   0.7974007859                   0.5695749698                  -0.1993397612         6.0001046353\n",
            "   16                   0.7974006331                   0.5695733707                  -0.1993449417         6.0000523168\n",
            "   17                   0.7974005568                   0.5695725712                  -0.1993475312         6.0000261582\n",
            "   18                   0.7974005186                   0.5695721715                  -0.1993488258         6.0000130790\n",
            "   19                   0.7974004996                   0.5695719716                  -0.1993494730         6.0000065395\n",
            "   20                   0.7974004901                   0.5695718717                  -0.1993497966         6.0000032697\n",
            "Valor propio:  6.000003269744076\n",
            "vector propio:  [ 0.79740049  0.56957187 -0.1993498 ]\n",
            "Usando eig\n",
            " (array([2., 6., 3.]), array([[ 0.        ,  0.79740048,  0.66666667],\n",
            "       [ 0.        ,  0.56957177,  0.33333333],\n",
            "       [ 1.        , -0.19935012, -0.66666667]]))\n"
          ]
        }
      ]
    },
    {
      "cell_type": "markdown",
      "source": [
        "# METODO DE LA POTENCIA NORMALIZADA INVERSA"
      ],
      "metadata": {
        "id": "2kSxjxx7F836"
      }
    },
    {
      "cell_type": "code",
      "source": [
        "#impresion de resultados\n",
        "import numpy as np\n",
        "def imprime(iter,a,r):\n",
        "  longi=len(a)\n",
        "  cad1='print(\"{:>5,.0f} '\n",
        "  cad2='.format(iter,'\n",
        "  for i in range(longi):\n",
        "    cad1=cad1+'{:>30,.10f}'\n",
        "    cad2=cad2+'a['+str(i)+']'\n",
        "    if(i!=(longi-1)):\n",
        "      cad2=cad2+','\n",
        "      cad1=cad1+' '\n",
        "    else:\n",
        "      cad2=cad2+',r))'\n",
        "      cad1=cad1+' {:>20,.10f}\"'\n",
        "  eval(cad1+cad2)\n",
        "\n",
        "def cabezera(a):\n",
        "  longi=len(a)\n",
        "  cad1='print(\"{:^5} '\n",
        "  cad2='.format(\"iteracion\",'\n",
        "  for i in range(longi):\n",
        "    cad1=cad1+'{:^30}'\n",
        "    cad2=cad2+'\"'+'x['+str(i)+']'+'\"'\n",
        "    if(i!=(longi-1)):\n",
        "      cad2=cad2+','\n",
        "      cad1=cad1+' '\n",
        "    else:\n",
        "      cad2=cad2+',\"eigenvalor\"))'\n",
        "      cad1=cad1+' {:^20}\"'\n",
        "  eval(cad1+cad2)"
      ],
      "metadata": {
        "id": "cXkKoYb0GGUw"
      },
      "execution_count": 209,
      "outputs": []
    },
    {
      "cell_type": "code",
      "source": [
        "#metodo de la potencia normalizada inversa\n",
        "import numpy as np\n",
        "from numpy.linalg import eig\n",
        "from numpy.linalg import norm\n",
        "\n",
        "\n",
        "A=np.array([[-4,14,0],[-5,13,0],[-1,0,2]],dtype='float')\n",
        "x=np.array([1,1,1],dtype='float')\n",
        "\n",
        "#A=np.array([[6,5,-5],[2,6,-2],[2,5,-1]],dtype='float')\n",
        "#x=np.array([-1,1,1],dtype='float')\n",
        "\n",
        "#A=np.array([[-1,0],[-1,-3]],dtype='float')\n",
        "#x=np.array([1,1],dtype='float')\n",
        "\n",
        "#A=np.array([[1,2,-1],[1,0,1],[4,-4,5]],dtype='float')\n",
        "#x=np.array([1,0,0],dtype='float')\n",
        "\n",
        "#A=np.array([[-2,-3],[6,7]],dtype='float')\n",
        "#x=np.array([1,1],dtype='float')#inicializamos el proceso con un vector no nulo\n",
        "\n",
        "B=np.linalg.inv(A)\n",
        "print(\"METODO DE LA POTENCIA NORMALIZADA INVERSA PARA CALCULO DE VALOR PROPIO DOMINANTE\\n\")\n",
        "def phi(x):\n",
        "  return max(np.absolute(x))\n",
        "  #return x[1]\n",
        "cabezera(x)\n",
        "for i in range(20):\n",
        "  x0=x\n",
        "  x=B@x\n",
        "  r=phi(x)/phi(x0)\n",
        "  x /=norm(x)\n",
        "  #print(x,r)\n",
        "  imprime(i+1,x,r)\n",
        "\n",
        "print(\"Valor propio: \",1/r)\n",
        "print(\"vector propio: \",x)\n",
        "print(\"Usando eig\\n\", eig(A))\n"
      ],
      "metadata": {
        "colab": {
          "base_uri": "https://localhost:8080/"
        },
        "id": "Dpveya4ZGTNK",
        "outputId": "7b3d4286-24b6-4fce-910c-c1cffdca2147"
      },
      "execution_count": 211,
      "outputs": [
        {
          "output_type": "stream",
          "name": "stdout",
          "text": [
            "METODO DE LA POTENCIA NORMALIZADA INVERSA PARA CALCULO DE VALOR PROPIO DOMINANTE\n",
            "\n",
            "iteracion              x[0]                           x[1]                           x[2]                   eigenvalor     \n",
            "    1                  -0.1160517706                   0.1160517706                   0.9864400504         0.4722222222\n",
            "    2                  -0.3905667329                  -0.1301889110                   0.9113223769         0.4117647059\n",
            "    3                  -0.4354416202                  -0.1915943129                   0.8795920729         0.4007936508\n",
            "    4                  -0.4123619682                  -0.1953293534                   0.8898337209         0.4059405941\n",
            "    5                  -0.3594855483                  -0.1752863417                   0.9165396003         0.4180216802\n",
            "    6                  -0.2937082587                  -0.1450848025                   0.9448205432         0.4327390600\n",
            "    7                  -0.2271487210                  -0.1128996613                   0.9672937119         0.4474615065\n",
            "    8                  -0.1680806066                  -0.0837923968                   0.9822055507         0.4605905603\n",
            "    9                  -0.1203235530                  -0.0600733466                   0.9909154533         0.4713808963\n",
            "   10                  -0.0841419490                  -0.0420401081                   0.9955665531         0.4797275188\n",
            "   11                  -0.0579071368                  -0.0289429562                   0.9979023343         0.4859018347\n",
            "   12                  -0.0394278083                  -0.0197102929                   0.9990280038         0.4903243874\n",
            "   13                  -0.0266554518                  -0.0133265054                   0.9995558469         0.4934208994\n",
            "   14                  -0.0179359732                  -0.0089675761                   0.9997989215         0.4955549758\n",
            "   15                  -0.0120312259                  -0.0060154753                   0.9999095277         0.4970099102\n",
            "   16                  -0.0080537346                  -0.0040268212                   0.9999594602         0.4979945607\n",
            "   17                  -0.0053838025                  -0.0026918858                   0.9999818840         0.4986576386\n",
            "   18                  -0.0035957147                  -0.0017978522                   0.9999919192         0.4991026773\n",
            "   19                  -0.0024000385                  -0.0012000175                   0.9999963999         0.4994007074\n",
            "   20                  -0.0016013126                  -0.0008006557                   0.9999983974         0.4995999915\n",
            "Valor propio:  2.0016013151827132\n",
            "vector propio:  [-1.60131262e-03 -8.00655736e-04  9.99998397e-01]\n",
            "Usando eig\n",
            " (array([2., 6., 3.]), array([[ 0.        ,  0.79740048,  0.66666667],\n",
            "       [ 0.        ,  0.56957177,  0.33333333],\n",
            "       [ 1.        , -0.19935012, -0.66666667]]))\n"
          ]
        }
      ]
    },
    {
      "cell_type": "markdown",
      "source": [
        "# METODO DE POTENCIA NORMALIZADA CON DESPLAZAMIENTO"
      ],
      "metadata": {
        "id": "ieUDbpHyMPyo"
      }
    },
    {
      "cell_type": "code",
      "source": [
        "#impresion de resultados\n",
        "import numpy as np\n",
        "def imprime(iter,a,r):\n",
        "  longi=len(a)\n",
        "  cad1='print(\"{:>5,.0f} '\n",
        "  cad2='.format(iter,'\n",
        "  for i in range(longi):\n",
        "    cad1=cad1+'{:>30,.10f}'\n",
        "    cad2=cad2+'a['+str(i)+']'\n",
        "    if(i!=(longi-1)):\n",
        "      cad2=cad2+','\n",
        "      cad1=cad1+' '\n",
        "    else:\n",
        "      cad2=cad2+',r))'\n",
        "      cad1=cad1+' {:>20,.10f}\"'\n",
        "  eval(cad1+cad2)\n",
        "\n",
        "def cabezera(a):\n",
        "  longi=len(a)\n",
        "  cad1='print(\"{:^5} '\n",
        "  cad2='.format(\"iteracion\",'\n",
        "  for i in range(longi):\n",
        "    cad1=cad1+'{:^30}'\n",
        "    cad2=cad2+'\"'+'x['+str(i)+']'+'\"'\n",
        "    if(i!=(longi-1)):\n",
        "      cad2=cad2+','\n",
        "      cad1=cad1+' '\n",
        "    else:\n",
        "      cad2=cad2+',\"eigenvalor\"))'\n",
        "      cad1=cad1+' {:^20}\"'\n",
        "  eval(cad1+cad2)"
      ],
      "metadata": {
        "id": "8Zm5mq7nMZEw"
      },
      "execution_count": 218,
      "outputs": []
    },
    {
      "cell_type": "code",
      "source": [
        "#metodo de la potencia normalizada desplazada u=5\n",
        "import numpy as np\n",
        "from numpy.linalg import eig\n",
        "from numpy.linalg import norm\n",
        "\n",
        "A=np.array([[-4,14,0],[-5,13,0],[-1,0,2]],dtype='float')\n",
        "x=np.array([1,1,1],dtype='float')\n",
        "\n",
        "#A=np.array([[6,5,-5],[2,6,-2],[2,5,-1]],dtype='float')\n",
        "#x=np.array([-1,1,1],dtype='float')\n",
        "\n",
        "#A=np.array([[-1,0],[-1,-3]],dtype='float')\n",
        "#x=np.array([1,1],dtype='float')\n",
        "\n",
        "#A=np.array([[1,2,-1],[1,0,1],[4,-4,5]],dtype='float')\n",
        "#x=np.array([1,0,0],dtype='float')\n",
        "\n",
        "#A=np.array([[-2,-3],[6,7]],dtype='float')\n",
        "#x=np.array([1,1],dtype='float')#inicializamos el proceso con un vector no nulo\n",
        "u=5\n",
        "B=np.identity(len(A),dtype='float')\n",
        "A=A-u*B\n",
        "print(\"METODO DE LA POTENCIA NORMALIZADA PARA CALCULO DE VALOR PROPIO DOMINANTE\\n\")\n",
        "def phi(x):\n",
        "  #return x[1]\n",
        "  return max(np.absolute(x))\n",
        "cabezera(x)\n",
        "for i in range(20):\n",
        "  x0=x\n",
        "  x=A@x\n",
        "  r=phi(x)/phi(x0)\n",
        "  x /=norm(x)\n",
        "  #print(x,r)\n",
        "  imprime(i+1,x,r)\n",
        "\n",
        "print(\"Valor propio: \",r)\n",
        "print(\"vector propio: \",x)\n",
        "print(\"Usando eig\\n\", eig(A))\n"
      ],
      "metadata": {
        "colab": {
          "base_uri": "https://localhost:8080/"
        },
        "id": "UcG4TWPJMfsI",
        "outputId": "2b59616e-9c8f-45d0-ddef-b96edf715c50"
      },
      "execution_count": 219,
      "outputs": [
        {
          "output_type": "stream",
          "name": "stdout",
          "text": [
            "METODO DE LA POTENCIA NORMALIZADA PARA CALCULO DE VALOR PROPIO DOMINANTE\n",
            "\n",
            "iteracion              x[0]                           x[1]                           x[2]                   eigenvalor     \n",
            "    1                   0.7071067812                   0.4242640687                  -0.5656854249         5.0000000000\n",
            "    2                  -0.3905667329                  -0.1301889110                   0.9113223769         1.4000000000\n",
            "    3                   0.5583978135                   0.3006757457                  -0.7731662033         2.5714285714\n",
            "    4                  -0.4123619682                  -0.1953293534                   0.8898337209         2.2777777778\n",
            "    5                   0.3891766812                   0.1989125259                  -0.8994305520         2.5365853659\n",
            "    6                  -0.2937082587                  -0.1450848025                   0.9448205432         2.5673076923\n",
            "    7                   0.2326349164                   0.1169898134                  -0.9655021384         2.6891385768\n",
            "    8                  -0.1680806066                  -0.0837923968                   0.9822055507         2.7590529248\n",
            "    9                   0.1211077624                   0.0606422810                  -0.9907852561         2.8288743059\n",
            "   10                  -0.0841419490                  -0.0420401081                   0.9955665531         2.8777658815\n",
            "   11                   0.0580042987                   0.0290127612                  -0.9978946643         2.9154833509\n",
            "   12                  -0.0394278083                  -0.0197102929                   0.9990280038         2.9418733251\n",
            "   13                   0.0266667558                   0.0133345983                  -0.9995554375         2.9605338307\n",
            "   14                  -0.0179359732                  -0.0089675761                   0.9997989215         2.9733213839\n",
            "   15                   0.0120325070                   0.0060163912                  -0.9999095068         2.9820604195\n",
            "   16                  -0.0080537346                  -0.0040268212                   0.9999594602         2.9879664041\n",
            "   17                   0.0053839461                   0.0026919884                  -0.9999818830         2.9919459389\n",
            "   18                  -0.0035957147                  -0.0017978522                   0.9999919192         2.9946159564\n",
            "   19                   0.0024000545                   0.0012000290                  -0.9999963998         2.9964042563\n",
            "   20                  -0.0016013126                  -0.0008006557                   0.9999983974         2.9975999368\n",
            "Valor propio:  2.9975999368381485\n",
            "vector propio:  [-1.60131262e-03 -8.00655736e-04  9.99998397e-01]\n",
            "Usando eig\n",
            " (array([-3.,  1., -2.]), array([[ 0.        ,  0.79740048,  0.66666667],\n",
            "       [ 0.        ,  0.56957177,  0.33333333],\n",
            "       [ 1.        , -0.19935012, -0.66666667]]))\n"
          ]
        }
      ]
    },
    {
      "cell_type": "code",
      "source": [
        "c=np.array([4,-1,-7,3,5],dtype='float')\n",
        "tupla=np.where(c==np.amax(c))\n",
        "pos=tupla[0]\n",
        "pos=pos[0]\n"
      ],
      "metadata": {
        "id": "qmfmv3HSNj_5"
      },
      "execution_count": 253,
      "outputs": []
    },
    {
      "cell_type": "code",
      "source": [
        "#metodo de la potencia simetrica\n",
        "import numpy as np\n",
        "from numpy.linalg import eig\n",
        "from numpy.linalg import norm\n",
        "\n",
        "A=np.array([[4,-1,1],[-1,3,-2],[1,-2,3]],dtype='float')\n",
        "x=np.array([1,0,0],dtype='float')\n",
        "\n",
        "\n",
        "for i in range(20):\n",
        "  x0=x\n",
        "  x=A@x\n",
        "\n",
        "  r=(x0 @ x)/(x0 @ x0)\n",
        "  x /=norm(x,np.inf)\n",
        "  print(x,r)\n",
        "print(\"Usando eig\\n\", eig(A))\n"
      ],
      "metadata": {
        "id": "lFOpdBOZqyYE",
        "colab": {
          "base_uri": "https://localhost:8080/"
        },
        "outputId": "a1c63a2f-c2cc-4b15-b909-4aab204f252d"
      },
      "execution_count": null,
      "outputs": [
        {
          "output_type": "stream",
          "name": "stdout",
          "text": [
            "[ 1.   -0.25  0.25] 4.0\n",
            "[ 1.  -0.5  0.5] 5.0\n",
            "[ 1.  -0.7  0.7] 5.666666666666667\n",
            "[ 1.         -0.83333333  0.83333333] 5.90909090909091\n",
            "[ 1.         -0.91176471  0.91176471] 5.976744186046512\n",
            "[ 1.         -0.95454545  0.95454545] 5.994152046783625\n",
            "[ 1.         -0.97692308  0.97692308] 5.998535871156662\n",
            "[ 1.         -0.98837209  0.98837209] 5.9996338337605275\n",
            "[ 1.         -0.99416342  0.99416342] 5.9999084500595075\n",
            "[ 1.         -0.99707602  0.99707602] 5.999977111991028\n",
            "[ 1.         -0.99853659  0.99853659] 5.999994277965015\n",
            "[ 1.         -0.99926794  0.99926794] 5.999998569489208\n",
            "[ 1.         -0.99963388  0.99963388] 5.999999642372173\n",
            "[ 1.         -0.99981692  0.99981692] 5.9999999105930355\n",
            "[ 1.         -0.99990845  0.99990845] 5.999999977648258\n",
            "[ 1.         -0.99995423  0.99995423] 5.999999994412064\n",
            "[ 1.         -0.99997711  0.99997711] 5.999999998603016\n",
            "[ 1.         -0.99998856  0.99998856] 5.999999999650754\n",
            "[ 1.         -0.99999428  0.99999428] 5.9999999999126885\n",
            "[ 1.         -0.99999714  0.99999714] 5.999999999978173\n",
            "Usando eig\n",
            " (array([3., 6., 1.]), array([[-8.16496581e-01, -5.77350269e-01,  3.14018492e-17],\n",
            "       [-4.08248290e-01,  5.77350269e-01,  7.07106781e-01],\n",
            "       [ 4.08248290e-01, -5.77350269e-01,  7.07106781e-01]]))\n"
          ]
        }
      ]
    }
  ]
}