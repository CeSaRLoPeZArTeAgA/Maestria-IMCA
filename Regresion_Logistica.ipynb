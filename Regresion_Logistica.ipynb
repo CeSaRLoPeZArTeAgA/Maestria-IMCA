{
  "nbformat": 4,
  "nbformat_minor": 0,
  "metadata": {
    "colab": {
      "provenance": [],
      "authorship_tag": "ABX9TyPpePCFT5IC8BCMb1d0WU3o",
      "include_colab_link": true
    },
    "kernelspec": {
      "name": "python3",
      "display_name": "Python 3"
    },
    "language_info": {
      "name": "python"
    }
  },
  "cells": [
    {
      "cell_type": "markdown",
      "metadata": {
        "id": "view-in-github",
        "colab_type": "text"
      },
      "source": [
        "<a href=\"https://colab.research.google.com/github/CeSaRLoPeZArTeAgA/Maestria-IMCA/blob/main/Regresion_Logistica.ipynb\" target=\"_parent\"><img src=\"https://colab.research.google.com/assets/colab-badge.svg\" alt=\"Open In Colab\"/></a>"
      ]
    },
    {
      "cell_type": "markdown",
      "source": [
        "# MAESTRIA DE MODELIZACION MATEMATICA Y COMPUTACIONAL\n",
        "---\n",
        "![IMCA.jpg](data:image/jpeg;base64,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)\n",
        "\n",
        "\n",
        "---\n",
        "\n",
        "\n",
        "# CLASE: REGRESION LOGISTICA"
      ],
      "metadata": {
        "id": "BAUJ3lXbmUuk"
      }
    },
    {
      "cell_type": "markdown",
      "source": [
        "\n",
        "\n",
        "---\n",
        "\n",
        "\n",
        "\n",
        "**CASO 1: FUNCION LOGISTICA**\n",
        "\n",
        "Regresión logística binaria simple. En esta ocasión queremos predecir cuál es la probabilidad de que un alumno apruebe un examen en **función** de las horas de estudio.\n",
        "\n",
        "Como la variable objetivo es una variable cualitativa binaria (solo toma dos valores: aprobado=1, desaprobado=0) y solo tenemos una variable explicativa (las horas de estudio) podemos usar una regresión logística binaria simple para modelar la relación entre ambas variables."
      ],
      "metadata": {
        "id": "Vl91DjQ7yLnp"
      }
    },
    {
      "cell_type": "code",
      "source": [
        "#importacion de librerias\n",
        "import pandas as pd\n",
        "import numpy as np\n",
        "import seaborn as sns\n",
        "import matplotlib.pyplot as plt"
      ],
      "metadata": {
        "id": "HkPqX5e_ypmB"
      },
      "execution_count": null,
      "outputs": []
    },
    {
      "cell_type": "code",
      "execution_count": null,
      "metadata": {
        "colab": {
          "base_uri": "https://localhost:8080/",
          "height": 206
        },
        "id": "4FTzXjhZmOAH",
        "outputId": "00110a9c-9d11-4f44-d6ff-664ae1783e91"
      },
      "outputs": [
        {
          "output_type": "execute_result",
          "data": {
            "text/plain": [
              "   Unnamed: 0  Horas  Aprobado\n",
              "0           0   0.50         0\n",
              "1           1   0.75         0\n",
              "2           2   1.00         0\n",
              "3           3   1.25         0\n",
              "4           4   1.50         0"
            ],
            "text/html": [
              "\n",
              "  <div id=\"df-cadd031a-c482-4a04-8227-7247ef68e276\" class=\"colab-df-container\">\n",
              "    <div>\n",
              "<style scoped>\n",
              "    .dataframe tbody tr th:only-of-type {\n",
              "        vertical-align: middle;\n",
              "    }\n",
              "\n",
              "    .dataframe tbody tr th {\n",
              "        vertical-align: top;\n",
              "    }\n",
              "\n",
              "    .dataframe thead th {\n",
              "        text-align: right;\n",
              "    }\n",
              "</style>\n",
              "<table border=\"1\" class=\"dataframe\">\n",
              "  <thead>\n",
              "    <tr style=\"text-align: right;\">\n",
              "      <th></th>\n",
              "      <th>Unnamed: 0</th>\n",
              "      <th>Horas</th>\n",
              "      <th>Aprobado</th>\n",
              "    </tr>\n",
              "  </thead>\n",
              "  <tbody>\n",
              "    <tr>\n",
              "      <th>0</th>\n",
              "      <td>0</td>\n",
              "      <td>0.50</td>\n",
              "      <td>0</td>\n",
              "    </tr>\n",
              "    <tr>\n",
              "      <th>1</th>\n",
              "      <td>1</td>\n",
              "      <td>0.75</td>\n",
              "      <td>0</td>\n",
              "    </tr>\n",
              "    <tr>\n",
              "      <th>2</th>\n",
              "      <td>2</td>\n",
              "      <td>1.00</td>\n",
              "      <td>0</td>\n",
              "    </tr>\n",
              "    <tr>\n",
              "      <th>3</th>\n",
              "      <td>3</td>\n",
              "      <td>1.25</td>\n",
              "      <td>0</td>\n",
              "    </tr>\n",
              "    <tr>\n",
              "      <th>4</th>\n",
              "      <td>4</td>\n",
              "      <td>1.50</td>\n",
              "      <td>0</td>\n",
              "    </tr>\n",
              "  </tbody>\n",
              "</table>\n",
              "</div>\n",
              "    <div class=\"colab-df-buttons\">\n",
              "\n",
              "  <div class=\"colab-df-container\">\n",
              "    <button class=\"colab-df-convert\" onclick=\"convertToInteractive('df-cadd031a-c482-4a04-8227-7247ef68e276')\"\n",
              "            title=\"Convert this dataframe to an interactive table.\"\n",
              "            style=\"display:none;\">\n",
              "\n",
              "  <svg xmlns=\"http://www.w3.org/2000/svg\" height=\"24px\" viewBox=\"0 -960 960 960\">\n",
              "    <path d=\"M120-120v-720h720v720H120Zm60-500h600v-160H180v160Zm220 220h160v-160H400v160Zm0 220h160v-160H400v160ZM180-400h160v-160H180v160Zm440 0h160v-160H620v160ZM180-180h160v-160H180v160Zm440 0h160v-160H620v160Z\"/>\n",
              "  </svg>\n",
              "    </button>\n",
              "\n",
              "  <style>\n",
              "    .colab-df-container {\n",
              "      display:flex;\n",
              "      gap: 12px;\n",
              "    }\n",
              "\n",
              "    .colab-df-convert {\n",
              "      background-color: #E8F0FE;\n",
              "      border: none;\n",
              "      border-radius: 50%;\n",
              "      cursor: pointer;\n",
              "      display: none;\n",
              "      fill: #1967D2;\n",
              "      height: 32px;\n",
              "      padding: 0 0 0 0;\n",
              "      width: 32px;\n",
              "    }\n",
              "\n",
              "    .colab-df-convert:hover {\n",
              "      background-color: #E2EBFA;\n",
              "      box-shadow: 0px 1px 2px rgba(60, 64, 67, 0.3), 0px 1px 3px 1px rgba(60, 64, 67, 0.15);\n",
              "      fill: #174EA6;\n",
              "    }\n",
              "\n",
              "    .colab-df-buttons div {\n",
              "      margin-bottom: 4px;\n",
              "    }\n",
              "\n",
              "    [theme=dark] .colab-df-convert {\n",
              "      background-color: #3B4455;\n",
              "      fill: #D2E3FC;\n",
              "    }\n",
              "\n",
              "    [theme=dark] .colab-df-convert:hover {\n",
              "      background-color: #434B5C;\n",
              "      box-shadow: 0px 1px 3px 1px rgba(0, 0, 0, 0.15);\n",
              "      filter: drop-shadow(0px 1px 2px rgba(0, 0, 0, 0.3));\n",
              "      fill: #FFFFFF;\n",
              "    }\n",
              "  </style>\n",
              "\n",
              "    <script>\n",
              "      const buttonEl =\n",
              "        document.querySelector('#df-cadd031a-c482-4a04-8227-7247ef68e276 button.colab-df-convert');\n",
              "      buttonEl.style.display =\n",
              "        google.colab.kernel.accessAllowed ? 'block' : 'none';\n",
              "\n",
              "      async function convertToInteractive(key) {\n",
              "        const element = document.querySelector('#df-cadd031a-c482-4a04-8227-7247ef68e276');\n",
              "        const dataTable =\n",
              "          await google.colab.kernel.invokeFunction('convertToInteractive',\n",
              "                                                    [key], {});\n",
              "        if (!dataTable) return;\n",
              "\n",
              "        const docLinkHtml = 'Like what you see? Visit the ' +\n",
              "          '<a target=\"_blank\" href=https://colab.research.google.com/notebooks/data_table.ipynb>data table notebook</a>'\n",
              "          + ' to learn more about interactive tables.';\n",
              "        element.innerHTML = '';\n",
              "        dataTable['output_type'] = 'display_data';\n",
              "        await google.colab.output.renderOutput(dataTable, element);\n",
              "        const docLink = document.createElement('div');\n",
              "        docLink.innerHTML = docLinkHtml;\n",
              "        element.appendChild(docLink);\n",
              "      }\n",
              "    </script>\n",
              "  </div>\n",
              "\n",
              "\n",
              "<div id=\"df-c3d6e8dc-fed4-4833-bd60-c66f36908e06\">\n",
              "  <button class=\"colab-df-quickchart\" onclick=\"quickchart('df-c3d6e8dc-fed4-4833-bd60-c66f36908e06')\"\n",
              "            title=\"Suggest charts\"\n",
              "            style=\"display:none;\">\n",
              "\n",
              "<svg xmlns=\"http://www.w3.org/2000/svg\" height=\"24px\"viewBox=\"0 0 24 24\"\n",
              "     width=\"24px\">\n",
              "    <g>\n",
              "        <path d=\"M19 3H5c-1.1 0-2 .9-2 2v14c0 1.1.9 2 2 2h14c1.1 0 2-.9 2-2V5c0-1.1-.9-2-2-2zM9 17H7v-7h2v7zm4 0h-2V7h2v10zm4 0h-2v-4h2v4z\"/>\n",
              "    </g>\n",
              "</svg>\n",
              "  </button>\n",
              "\n",
              "<style>\n",
              "  .colab-df-quickchart {\n",
              "      --bg-color: #E8F0FE;\n",
              "      --fill-color: #1967D2;\n",
              "      --hover-bg-color: #E2EBFA;\n",
              "      --hover-fill-color: #174EA6;\n",
              "      --disabled-fill-color: #AAA;\n",
              "      --disabled-bg-color: #DDD;\n",
              "  }\n",
              "\n",
              "  [theme=dark] .colab-df-quickchart {\n",
              "      --bg-color: #3B4455;\n",
              "      --fill-color: #D2E3FC;\n",
              "      --hover-bg-color: #434B5C;\n",
              "      --hover-fill-color: #FFFFFF;\n",
              "      --disabled-bg-color: #3B4455;\n",
              "      --disabled-fill-color: #666;\n",
              "  }\n",
              "\n",
              "  .colab-df-quickchart {\n",
              "    background-color: var(--bg-color);\n",
              "    border: none;\n",
              "    border-radius: 50%;\n",
              "    cursor: pointer;\n",
              "    display: none;\n",
              "    fill: var(--fill-color);\n",
              "    height: 32px;\n",
              "    padding: 0;\n",
              "    width: 32px;\n",
              "  }\n",
              "\n",
              "  .colab-df-quickchart:hover {\n",
              "    background-color: var(--hover-bg-color);\n",
              "    box-shadow: 0 1px 2px rgba(60, 64, 67, 0.3), 0 1px 3px 1px rgba(60, 64, 67, 0.15);\n",
              "    fill: var(--button-hover-fill-color);\n",
              "  }\n",
              "\n",
              "  .colab-df-quickchart-complete:disabled,\n",
              "  .colab-df-quickchart-complete:disabled:hover {\n",
              "    background-color: var(--disabled-bg-color);\n",
              "    fill: var(--disabled-fill-color);\n",
              "    box-shadow: none;\n",
              "  }\n",
              "\n",
              "  .colab-df-spinner {\n",
              "    border: 2px solid var(--fill-color);\n",
              "    border-color: transparent;\n",
              "    border-bottom-color: var(--fill-color);\n",
              "    animation:\n",
              "      spin 1s steps(1) infinite;\n",
              "  }\n",
              "\n",
              "  @keyframes spin {\n",
              "    0% {\n",
              "      border-color: transparent;\n",
              "      border-bottom-color: var(--fill-color);\n",
              "      border-left-color: var(--fill-color);\n",
              "    }\n",
              "    20% {\n",
              "      border-color: transparent;\n",
              "      border-left-color: var(--fill-color);\n",
              "      border-top-color: var(--fill-color);\n",
              "    }\n",
              "    30% {\n",
              "      border-color: transparent;\n",
              "      border-left-color: var(--fill-color);\n",
              "      border-top-color: var(--fill-color);\n",
              "      border-right-color: var(--fill-color);\n",
              "    }\n",
              "    40% {\n",
              "      border-color: transparent;\n",
              "      border-right-color: var(--fill-color);\n",
              "      border-top-color: var(--fill-color);\n",
              "    }\n",
              "    60% {\n",
              "      border-color: transparent;\n",
              "      border-right-color: var(--fill-color);\n",
              "    }\n",
              "    80% {\n",
              "      border-color: transparent;\n",
              "      border-right-color: var(--fill-color);\n",
              "      border-bottom-color: var(--fill-color);\n",
              "    }\n",
              "    90% {\n",
              "      border-color: transparent;\n",
              "      border-bottom-color: var(--fill-color);\n",
              "    }\n",
              "  }\n",
              "</style>\n",
              "\n",
              "  <script>\n",
              "    async function quickchart(key) {\n",
              "      const quickchartButtonEl =\n",
              "        document.querySelector('#' + key + ' button');\n",
              "      quickchartButtonEl.disabled = true;  // To prevent multiple clicks.\n",
              "      quickchartButtonEl.classList.add('colab-df-spinner');\n",
              "      try {\n",
              "        const charts = await google.colab.kernel.invokeFunction(\n",
              "            'suggestCharts', [key], {});\n",
              "      } catch (error) {\n",
              "        console.error('Error during call to suggestCharts:', error);\n",
              "      }\n",
              "      quickchartButtonEl.classList.remove('colab-df-spinner');\n",
              "      quickchartButtonEl.classList.add('colab-df-quickchart-complete');\n",
              "    }\n",
              "    (() => {\n",
              "      let quickchartButtonEl =\n",
              "        document.querySelector('#df-c3d6e8dc-fed4-4833-bd60-c66f36908e06 button');\n",
              "      quickchartButtonEl.style.display =\n",
              "        google.colab.kernel.accessAllowed ? 'block' : 'none';\n",
              "    })();\n",
              "  </script>\n",
              "</div>\n",
              "\n",
              "    </div>\n",
              "  </div>\n"
            ]
          },
          "metadata": {},
          "execution_count": 39
        }
      ],
      "source": [
        "#lectura de archivo VentasCaf.csv\n",
        "df=pd.read_excel('reg_log.xlsx')\n",
        "#se muestra los primeros 5 elementos de la data\n",
        "df.head()"
      ]
    },
    {
      "cell_type": "code",
      "source": [
        "#vemos la informacion basica de la data, cuanto datos no nulos\n",
        "df.info()"
      ],
      "metadata": {
        "colab": {
          "base_uri": "https://localhost:8080/"
        },
        "id": "j_iN_rWU9_a0",
        "outputId": "dff93b93-e12e-4d6b-a905-baa9567bd2ee"
      },
      "execution_count": null,
      "outputs": [
        {
          "output_type": "stream",
          "name": "stdout",
          "text": [
            "<class 'pandas.core.frame.DataFrame'>\n",
            "RangeIndex: 20 entries, 0 to 19\n",
            "Data columns (total 3 columns):\n",
            " #   Column      Non-Null Count  Dtype  \n",
            "---  ------      --------------  -----  \n",
            " 0   Unnamed: 0  20 non-null     int64  \n",
            " 1   Horas       20 non-null     float64\n",
            " 2   Aprobado    20 non-null     int64  \n",
            "dtypes: float64(1), int64(2)\n",
            "memory usage: 608.0 bytes\n"
          ]
        }
      ]
    },
    {
      "cell_type": "code",
      "source": [
        "#crea el dataframe de variable objetico y la variable dependientes\n",
        "X=df[['Horas']]\n",
        "y=df['Aprobado']"
      ],
      "metadata": {
        "id": "AOK_5kZvLi_q"
      },
      "execution_count": null,
      "outputs": []
    },
    {
      "cell_type": "code",
      "source": [
        "#Diagrama de dispersion entre X=Horas y y=Aprobado\n",
        "import matplotlib.pyplot as plt\n",
        "plt.scatter(X, y)\n",
        "plt.show()"
      ],
      "metadata": {
        "colab": {
          "base_uri": "https://localhost:8080/",
          "height": 430
        },
        "id": "51E2xeLVMGUq",
        "outputId": "09dd472c-6d73-4f85-814c-ddb8ed37ad3e"
      },
      "execution_count": null,
      "outputs": [
        {
          "output_type": "display_data",
          "data": {
            "text/plain": [
              "<Figure size 640x480 with 1 Axes>"
            ],
            "image/png": "[encoded data removed]"
          },
          "metadata": {}
        }
      ]
    },
    {
      "cell_type": "markdown",
      "source": [
        "\n",
        "\n",
        "---\n",
        "\n",
        "\n",
        "**DIVISION DE LA DATA EN TRAIN Y TEST**\n",
        "\n",
        "La función train_test_split nos permite dividir la data de forma aleatoria en conjuntos de entrenamiento(train) y prueba(test) para poder entrenar nuestro modelo"
      ],
      "metadata": {
        "id": "7HLkqaW6nVKt"
      }
    },
    {
      "cell_type": "code",
      "source": [
        "#se carga la libreria para la division de la data del sklean\n",
        "from sklearn.model_selection import train_test_split\n",
        "#se devide la data en df_train y df_test, con un 20% de la data en df_test y una semilla de aleatoriedad 2023\n",
        "X_train, X_test, y_train, y_test = train_test_split(X, y, test_size = 0.20, random_state = 2023)"
      ],
      "metadata": {
        "id": "AJy334jdl-i3"
      },
      "execution_count": null,
      "outputs": []
    },
    {
      "cell_type": "markdown",
      "source": [
        "\n",
        "\n",
        "---\n",
        "\n",
        "\n",
        "\n",
        "**MODELO FUNCION LOGISTICA(Sigmoide)**\n",
        "\n",
        "La regresión logística utiliza una función logística o sigmoide para transformar la salida de la regresión lineal en un valor entre 0 y 1. La función sigmoide tiene la forma:\n",
        "\n",
        "\n",
        "$$\n",
        "f( z) =\\frac{1}{1+e^{-z}}\n",
        "$$\n",
        "\n",
        "\n",
        "$$\n",
        "z=b_{0} +b_{1} x\n",
        "$$"
      ],
      "metadata": {
        "id": "-gd3b3s3NhqX"
      }
    },
    {
      "cell_type": "code",
      "source": [
        "#cargamos la libreria para cargar el modelo de regresion logistica\n",
        "from sklearn.linear_model import LogisticRegression\n",
        "\n",
        "#definimos el objeto del modelo logistico a usar modelo\n",
        "modelo=LogisticRegression()\n",
        "\n",
        "#ajuste de la recta de regresión (entrenamiento del modelo X_train y y_train)\n",
        "modelo.fit(X_train,y_train)"
      ],
      "metadata": {
        "colab": {
          "base_uri": "https://localhost:8080/",
          "height": 74
        },
        "id": "85ch6oj4MiqE",
        "outputId": "ce7200bb-e212-455e-9ee9-d359fe731a5a"
      },
      "execution_count": null,
      "outputs": [
        {
          "output_type": "execute_result",
          "data": {
            "text/plain": [
              "LogisticRegression()"
            ],
            "text/html": [
              "<style>#sk-container-id-5 {color: black;background-color: white;}#sk-container-id-5 pre{padding: 0;}#sk-container-id-5 div.sk-toggleable {background-color: white;}#sk-container-id-5 label.sk-toggleable__label {cursor: pointer;display: block;width: 100%;margin-bottom: 0;padding: 0.3em;box-sizing: border-box;text-align: center;}#sk-container-id-5 label.sk-toggleable__label-arrow:before {content: \"▸\";float: left;margin-right: 0.25em;color: #696969;}#sk-container-id-5 label.sk-toggleable__label-arrow:hover:before {color: black;}#sk-container-id-5 div.sk-estimator:hover label.sk-toggleable__label-arrow:before {color: black;}#sk-container-id-5 div.sk-toggleable__content {max-height: 0;max-width: 0;overflow: hidden;text-align: left;background-color: #f0f8ff;}#sk-container-id-5 div.sk-toggleable__content pre {margin: 0.2em;color: black;border-radius: 0.25em;background-color: #f0f8ff;}#sk-container-id-5 input.sk-toggleable__control:checked~div.sk-toggleable__content {max-height: 200px;max-width: 100%;overflow: auto;}#sk-container-id-5 input.sk-toggleable__control:checked~label.sk-toggleable__label-arrow:before {content: \"▾\";}#sk-container-id-5 div.sk-estimator input.sk-toggleable__control:checked~label.sk-toggleable__label {background-color: #d4ebff;}#sk-container-id-5 div.sk-label input.sk-toggleable__control:checked~label.sk-toggleable__label {background-color: #d4ebff;}#sk-container-id-5 input.sk-hidden--visually {border: 0;clip: rect(1px 1px 1px 1px);clip: rect(1px, 1px, 1px, 1px);height: 1px;margin: -1px;overflow: hidden;padding: 0;position: absolute;width: 1px;}#sk-container-id-5 div.sk-estimator {font-family: monospace;background-color: #f0f8ff;border: 1px dotted black;border-radius: 0.25em;box-sizing: border-box;margin-bottom: 0.5em;}#sk-container-id-5 div.sk-estimator:hover {background-color: #d4ebff;}#sk-container-id-5 div.sk-parallel-item::after {content: \"\";width: 100%;border-bottom: 1px solid gray;flex-grow: 1;}#sk-container-id-5 div.sk-label:hover label.sk-toggleable__label {background-color: #d4ebff;}#sk-container-id-5 div.sk-serial::before {content: \"\";position: absolute;border-left: 1px solid gray;box-sizing: border-box;top: 0;bottom: 0;left: 50%;z-index: 0;}#sk-container-id-5 div.sk-serial {display: flex;flex-direction: column;align-items: center;background-color: white;padding-right: 0.2em;padding-left: 0.2em;position: relative;}#sk-container-id-5 div.sk-item {position: relative;z-index: 1;}#sk-container-id-5 div.sk-parallel {display: flex;align-items: stretch;justify-content: center;background-color: white;position: relative;}#sk-container-id-5 div.sk-item::before, #sk-container-id-5 div.sk-parallel-item::before {content: \"\";position: absolute;border-left: 1px solid gray;box-sizing: border-box;top: 0;bottom: 0;left: 50%;z-index: -1;}#sk-container-id-5 div.sk-parallel-item {display: flex;flex-direction: column;z-index: 1;position: relative;background-color: white;}#sk-container-id-5 div.sk-parallel-item:first-child::after {align-self: flex-end;width: 50%;}#sk-container-id-5 div.sk-parallel-item:last-child::after {align-self: flex-start;width: 50%;}#sk-container-id-5 div.sk-parallel-item:only-child::after {width: 0;}#sk-container-id-5 div.sk-dashed-wrapped {border: 1px dashed gray;margin: 0 0.4em 0.5em 0.4em;box-sizing: border-box;padding-bottom: 0.4em;background-color: white;}#sk-container-id-5 div.sk-label label {font-family: monospace;font-weight: bold;display: inline-block;line-height: 1.2em;}#sk-container-id-5 div.sk-label-container {text-align: center;}#sk-container-id-5 div.sk-container {/* jupyter's `normalize.less` sets `[hidden] { display: none; }` but bootstrap.min.css set `[hidden] { display: none !important; }` so we also need the `!important` here to be able to override the default hidden behavior on the sphinx rendered scikit-learn.org. See: https://github.com/scikit-learn/scikit-learn/issues/21755 */display: inline-block !important;position: relative;}#sk-container-id-5 div.sk-text-repr-fallback {display: none;}</style><div id=\"sk-container-id-5\" class=\"sk-top-container\"><div class=\"sk-text-repr-fallback\"><pre>LogisticRegression()</pre><b>In a Jupyter environment, please rerun this cell to show the HTML representation or trust the notebook. <br />On GitHub, the HTML representation is unable to render, please try loading this page with nbviewer.org.</b></div><div class=\"sk-container\" hidden><div class=\"sk-item\"><div class=\"sk-estimator sk-toggleable\"><input class=\"sk-toggleable__control sk-hidden--visually\" id=\"sk-estimator-id-5\" type=\"checkbox\" checked><label for=\"sk-estimator-id-5\" class=\"sk-toggleable__label sk-toggleable__label-arrow\">LogisticRegression</label><div class=\"sk-toggleable__content\"><pre>LogisticRegression()</pre></div></div></div></div></div>"
            ]
          },
          "metadata": {},
          "execution_count": 44
        }
      ]
    },
    {
      "cell_type": "code",
      "source": [
        "#coeficiente del modelo\n",
        "print(modelo.intercept_)\n",
        "print(modelo.coef_)"
      ],
      "metadata": {
        "colab": {
          "base_uri": "https://localhost:8080/"
        },
        "id": "YGsdmYT9hIvd",
        "outputId": "b0e268f0-4334-456f-8be0-1a1da0fea01f"
      },
      "execution_count": null,
      "outputs": [
        {
          "output_type": "stream",
          "name": "stdout",
          "text": [
            "[-3.03792195]\n",
            "[[1.06371456]]\n"
          ]
        }
      ]
    },
    {
      "cell_type": "code",
      "source": [
        "#prediciremos los valores que asume los valores de 2,4 y 7 horas. Arrojando los\n",
        "#los valores de 0,1 y 1.\n",
        "modelo.predict([[2], [4], [7]])"
      ],
      "metadata": {
        "colab": {
          "base_uri": "https://localhost:8080/"
        },
        "id": "sW1RLCvzmef0",
        "outputId": "c664bc18-1549-4d77-f4f5-0db3434840fa"
      },
      "execution_count": null,
      "outputs": [
        {
          "output_type": "stream",
          "name": "stderr",
          "text": [
            "/usr/local/lib/python3.10/dist-packages/sklearn/base.py:439: UserWarning: X does not have valid feature names, but LogisticRegression was fitted with feature names\n",
            "  warnings.warn(\n"
          ]
        },
        {
          "output_type": "execute_result",
          "data": {
            "text/plain": [
              "array([0, 1, 1])"
            ]
          },
          "metadata": {},
          "execution_count": 46
        }
      ]
    },
    {
      "cell_type": "code",
      "source": [
        "#a continuacion se muestra la probabilidad que toma las variable 2,4 y 7. El resultado\n",
        "#nos dara por filas [prob_desacierto prob_acierto]\n",
        "modelo.predict_proba([[2], [4], [7]])"
      ],
      "metadata": {
        "colab": {
          "base_uri": "https://localhost:8080/"
        },
        "id": "EYKJmMK_3HuS",
        "outputId": "eb68b800-adac-4b6c-9a76-7c8aa6dca196"
      },
      "execution_count": null,
      "outputs": [
        {
          "output_type": "stream",
          "name": "stderr",
          "text": [
            "/usr/local/lib/python3.10/dist-packages/sklearn/base.py:439: UserWarning: X does not have valid feature names, but LogisticRegression was fitted with feature names\n",
            "  warnings.warn(\n"
          ]
        },
        {
          "output_type": "execute_result",
          "data": {
            "text/plain": [
              "array([[0.713101  , 0.286899  ],\n",
              "       [0.22847606, 0.77152394],\n",
              "       [0.01203201, 0.98796799]])"
            ]
          },
          "metadata": {},
          "execution_count": 47
        }
      ]
    },
    {
      "cell_type": "markdown",
      "source": [
        "\n",
        "\n",
        "---\n",
        "\n",
        "\n",
        "**CALCULO DE ERROR - ACCURACY SCORE(accuracy_score)**\n",
        "\n",
        "La accuracy_score es una métrica comúnmente utilizada para evaluar el rendimiento de un modelo de clasificación. Esta métrica se utiliza para medir la precisión del modelo al predecir las clases correctas en relación con el total de predicciones realizadas. La fórmula para calcular la precisión es la siguiente:\n",
        "\n",
        "$$\n",
        "Accuracy=\\frac{Numero\\ de\\ prediciones\\ correctas}{Numero\\ total\\ de\\ prediciones}\n",
        "$$"
      ],
      "metadata": {
        "id": "XoFUwxRiOz5U"
      }
    },
    {
      "cell_type": "code",
      "source": [
        "#obtenemos las predicciones del modelo para poder evaluarlas los errores\n",
        "from sklearn.metrics import accuracy_score\n",
        "\n",
        "#obtenemos las predicciones del modelo para poder evaluarlas los errores\n",
        "predicciones_train=modelo.predict(X_train)\n",
        "predicciones_test=modelo.predict(X_test)\n",
        "\n",
        "print('Accuracy Score train:', accuracy_score(y_train, predicciones_train))\n",
        "print('Accuracy Score test:', accuracy_score(y_test, predicciones_test) )"
      ],
      "metadata": {
        "colab": {
          "base_uri": "https://localhost:8080/"
        },
        "id": "Am-9DlgVN6XE",
        "outputId": "c6ce25d6-355c-491e-9d01-63821342ac55"
      },
      "execution_count": null,
      "outputs": [
        {
          "output_type": "stream",
          "name": "stdout",
          "text": [
            "Accuracy Score train: 0.8125\n",
            "Accuracy Score test: 0.5\n"
          ]
        }
      ]
    },
    {
      "cell_type": "code",
      "source": [
        "#plotearemos la grafica de dispersion y probabilidad\n",
        "plt.scatter(X_train, y_train)\n",
        "#al estar desordenado la data de X_train, esta se debera ordenar para la grafica de probabilidades\n",
        "df_sorted = X_train.sort_values(by='Horas')\n",
        "probabilidades=modelo.predict_proba(df_sorted)\n",
        "plt.plot(df_sorted, probabilidades[:,1], color='r')\n",
        "plt.plot([0, 6], [.5, .5], color='g')\n",
        "#plt.scatter(X, predicciones)"
      ],
      "metadata": {
        "colab": {
          "base_uri": "https://localhost:8080/",
          "height": 448
        },
        "id": "CH5h7PDw_HiY",
        "outputId": "9a152bec-aa0e-43b5-ed63-088a88b017c7"
      },
      "execution_count": null,
      "outputs": [
        {
          "output_type": "execute_result",
          "data": {
            "text/plain": [
              "[<matplotlib.lines.Line2D at 0x7f708010d930>]"
            ]
          },
          "metadata": {},
          "execution_count": 52
        },
        {
          "output_type": "display_data",
          "data": {
            "text/plain": [
              "<Figure size 640x480 with 1 Axes>"
            ],
            "image/png": "[encoded data removed]"
          },
          "metadata": {}
        }
      ]
    },
    {
      "cell_type": "markdown",
      "source": [
        "\n",
        "\n",
        "---\n",
        "\n",
        "\n",
        "\n",
        "---\n",
        "\n",
        "\n",
        "\n",
        "**CASO 2:REGRESION LOGISTICA**\n",
        "\n",
        " El departamento de crédito al consumo de un banco desea automatizar el proceso de toma de decisiones para la aprobación de líneas de crédito con garantía hipotecaria. Para hacer esto, seguirán las recomendaciones de la Ley de Igualdad de Oportunidades de Crédito para crear un modelo de calificación crediticia empíricamente derivado y estadísticamente sólido. El modelo se basará en datos recopilados de solicitantes recientes a los que se les otorgó crédito a través del proceso actual de suscripción de préstamos. Las posibles variables explicativas son:\n",
        "* la cantidad del préstamo,\n",
        "* el valor de la propiedad,\n",
        "* el tipo de trabajo,\n",
        "* la cantidad de años que lleva en el trabajo actual,\n",
        "* el número de reportes negativos de crédito (major derogatory) entre otras.\n",
        "\n",
        "**BAD =** Cliente moroso o pagador (1 o 0).\n",
        "\n",
        "**LOAN =** cantidad del prestamo solicitado.\n",
        "\n",
        "**MORTDUE =** monto adeudado de la hipoteca existente.\n",
        "\n",
        "**VALUE =** valor de la propiedad actual.\n",
        "\n",
        "**REASON=** razon del prestamo\n",
        "\n",
        "**JOB=** tipo de trabajo\n",
        "\n",
        "**YOJ =** años en el trabajo actual.\n",
        "\n",
        "**DEROG =** cantidad de reportes de crédito negativos.\n",
        "\n",
        "**DELINQ =** número de líneas de crédito morosas.\n",
        "\n",
        "**CLAGE =** Antiguedad del tradeline más antiguo en meses\n",
        "\n",
        "**NINQ=** ---\n",
        "\n",
        "**CLNO =** Número de líneas de crédito.\n",
        "\n",
        "**DEBTINC=** ---"
      ],
      "metadata": {
        "id": "r_cgAySYEMNy"
      }
    },
    {
      "cell_type": "code",
      "source": [
        "#importacion de librerias\n",
        "import pandas as pd\n",
        "import numpy as np\n",
        "import seaborn as sns\n",
        "import matplotlib.pyplot as plt"
      ],
      "metadata": {
        "id": "TCo5vQNBEtrm"
      },
      "execution_count": 1,
      "outputs": []
    },
    {
      "cell_type": "code",
      "source": [
        "#lectura de archivo credit.csv\n",
        "df=pd.read_csv('credit.csv')\n",
        "#se muestra los primeros 5 elementos de la data\n",
        "df.head()"
      ],
      "metadata": {
        "colab": {
          "base_uri": "https://localhost:8080/",
          "height": 206
        },
        "id": "-dr3ySZrEdAK",
        "outputId": "bbfba275-0753-4107-8dab-acdaf999df3a"
      },
      "execution_count": 2,
      "outputs": [
        {
          "output_type": "execute_result",
          "data": {
            "text/plain": [
              "   BAD  LOAN  MORTDUE     VALUE   REASON     JOB   YOJ  DEROG  DELINQ  \\\n",
              "0    1  1100  25860.0   39025.0  HomeImp   Other  10.5    0.0     0.0   \n",
              "1    1  1300  70053.0   68400.0  HomeImp   Other   7.0    0.0     2.0   \n",
              "2    1  1500  13500.0   16700.0  HomeImp   Other   4.0    0.0     0.0   \n",
              "3    1  1500      NaN       NaN      NaN     NaN   NaN    NaN     NaN   \n",
              "4    0  1700  97800.0  112000.0  HomeImp  Office   3.0    0.0     0.0   \n",
              "\n",
              "        CLAGE  NINQ  CLNO  DEBTINC  \n",
              "0   94.366667   1.0   9.0      NaN  \n",
              "1  121.833333   0.0  14.0      NaN  \n",
              "2  149.466667   1.0  10.0      NaN  \n",
              "3         NaN   NaN   NaN      NaN  \n",
              "4   93.333333   0.0  14.0      NaN  "
            ],
            "text/html": [
              "\n",
              "  <div id=\"df-9624d9bf-a113-43b3-b670-c76f05c1db7f\" class=\"colab-df-container\">\n",
              "    <div>\n",
              "<style scoped>\n",
              "    .dataframe tbody tr th:only-of-type {\n",
              "        vertical-align: middle;\n",
              "    }\n",
              "\n",
              "    .dataframe tbody tr th {\n",
              "        vertical-align: top;\n",
              "    }\n",
              "\n",
              "    .dataframe thead th {\n",
              "        text-align: right;\n",
              "    }\n",
              "</style>\n",
              "<table border=\"1\" class=\"dataframe\">\n",
              "  <thead>\n",
              "    <tr style=\"text-align: right;\">\n",
              "      <th></th>\n",
              "      <th>BAD</th>\n",
              "      <th>LOAN</th>\n",
              "      <th>MORTDUE</th>\n",
              "      <th>VALUE</th>\n",
              "      <th>REASON</th>\n",
              "      <th>JOB</th>\n",
              "      <th>YOJ</th>\n",
              "      <th>DEROG</th>\n",
              "      <th>DELINQ</th>\n",
              "      <th>CLAGE</th>\n",
              "      <th>NINQ</th>\n",
              "      <th>CLNO</th>\n",
              "      <th>DEBTINC</th>\n",
              "    </tr>\n",
              "  </thead>\n",
              "  <tbody>\n",
              "    <tr>\n",
              "      <th>0</th>\n",
              "      <td>1</td>\n",
              "      <td>1100</td>\n",
              "      <td>25860.0</td>\n",
              "      <td>39025.0</td>\n",
              "      <td>HomeImp</td>\n",
              "      <td>Other</td>\n",
              "      <td>10.5</td>\n",
              "      <td>0.0</td>\n",
              "      <td>0.0</td>\n",
              "      <td>94.366667</td>\n",
              "      <td>1.0</td>\n",
              "      <td>9.0</td>\n",
              "      <td>NaN</td>\n",
              "    </tr>\n",
              "    <tr>\n",
              "      <th>1</th>\n",
              "      <td>1</td>\n",
              "      <td>1300</td>\n",
              "      <td>70053.0</td>\n",
              "      <td>68400.0</td>\n",
              "      <td>HomeImp</td>\n",
              "      <td>Other</td>\n",
              "      <td>7.0</td>\n",
              "      <td>0.0</td>\n",
              "      <td>2.0</td>\n",
              "      <td>121.833333</td>\n",
              "      <td>0.0</td>\n",
              "      <td>14.0</td>\n",
              "      <td>NaN</td>\n",
              "    </tr>\n",
              "    <tr>\n",
              "      <th>2</th>\n",
              "      <td>1</td>\n",
              "      <td>1500</td>\n",
              "      <td>13500.0</td>\n",
              "      <td>16700.0</td>\n",
              "      <td>HomeImp</td>\n",
              "      <td>Other</td>\n",
              "      <td>4.0</td>\n",
              "      <td>0.0</td>\n",
              "      <td>0.0</td>\n",
              "      <td>149.466667</td>\n",
              "      <td>1.0</td>\n",
              "      <td>10.0</td>\n",
              "      <td>NaN</td>\n",
              "    </tr>\n",
              "    <tr>\n",
              "      <th>3</th>\n",
              "      <td>1</td>\n",
              "      <td>1500</td>\n",
              "      <td>NaN</td>\n",
              "      <td>NaN</td>\n",
              "      <td>NaN</td>\n",
              "      <td>NaN</td>\n",
              "      <td>NaN</td>\n",
              "      <td>NaN</td>\n",
              "      <td>NaN</td>\n",
              "      <td>NaN</td>\n",
              "      <td>NaN</td>\n",
              "      <td>NaN</td>\n",
              "      <td>NaN</td>\n",
              "    </tr>\n",
              "    <tr>\n",
              "      <th>4</th>\n",
              "      <td>0</td>\n",
              "      <td>1700</td>\n",
              "      <td>97800.0</td>\n",
              "      <td>112000.0</td>\n",
              "      <td>HomeImp</td>\n",
              "      <td>Office</td>\n",
              "      <td>3.0</td>\n",
              "      <td>0.0</td>\n",
              "      <td>0.0</td>\n",
              "      <td>93.333333</td>\n",
              "      <td>0.0</td>\n",
              "      <td>14.0</td>\n",
              "      <td>NaN</td>\n",
              "    </tr>\n",
              "  </tbody>\n",
              "</table>\n",
              "</div>\n",
              "    <div class=\"colab-df-buttons\">\n",
              "\n",
              "  <div class=\"colab-df-container\">\n",
              "    <button class=\"colab-df-convert\" onclick=\"convertToInteractive('df-9624d9bf-a113-43b3-b670-c76f05c1db7f')\"\n",
              "            title=\"Convert this dataframe to an interactive table.\"\n",
              "            style=\"display:none;\">\n",
              "\n",
              "  <svg xmlns=\"http://www.w3.org/2000/svg\" height=\"24px\" viewBox=\"0 -960 960 960\">\n",
              "    <path d=\"M120-120v-720h720v720H120Zm60-500h600v-160H180v160Zm220 220h160v-160H400v160Zm0 220h160v-160H400v160ZM180-400h160v-160H180v160Zm440 0h160v-160H620v160ZM180-180h160v-160H180v160Zm440 0h160v-160H620v160Z\"/>\n",
              "  </svg>\n",
              "    </button>\n",
              "\n",
              "  <style>\n",
              "    .colab-df-container {\n",
              "      display:flex;\n",
              "      gap: 12px;\n",
              "    }\n",
              "\n",
              "    .colab-df-convert {\n",
              "      background-color: #E8F0FE;\n",
              "      border: none;\n",
              "      border-radius: 50%;\n",
              "      cursor: pointer;\n",
              "      display: none;\n",
              "      fill: #1967D2;\n",
              "      height: 32px;\n",
              "      padding: 0 0 0 0;\n",
              "      width: 32px;\n",
              "    }\n",
              "\n",
              "    .colab-df-convert:hover {\n",
              "      background-color: #E2EBFA;\n",
              "      box-shadow: 0px 1px 2px rgba(60, 64, 67, 0.3), 0px 1px 3px 1px rgba(60, 64, 67, 0.15);\n",
              "      fill: #174EA6;\n",
              "    }\n",
              "\n",
              "    .colab-df-buttons div {\n",
              "      margin-bottom: 4px;\n",
              "    }\n",
              "\n",
              "    [theme=dark] .colab-df-convert {\n",
              "      background-color: #3B4455;\n",
              "      fill: #D2E3FC;\n",
              "    }\n",
              "\n",
              "    [theme=dark] .colab-df-convert:hover {\n",
              "      background-color: #434B5C;\n",
              "      box-shadow: 0px 1px 3px 1px rgba(0, 0, 0, 0.15);\n",
              "      filter: drop-shadow(0px 1px 2px rgba(0, 0, 0, 0.3));\n",
              "      fill: #FFFFFF;\n",
              "    }\n",
              "  </style>\n",
              "\n",
              "    <script>\n",
              "      const buttonEl =\n",
              "        document.querySelector('#df-9624d9bf-a113-43b3-b670-c76f05c1db7f button.colab-df-convert');\n",
              "      buttonEl.style.display =\n",
              "        google.colab.kernel.accessAllowed ? 'block' : 'none';\n",
              "\n",
              "      async function convertToInteractive(key) {\n",
              "        const element = document.querySelector('#df-9624d9bf-a113-43b3-b670-c76f05c1db7f');\n",
              "        const dataTable =\n",
              "          await google.colab.kernel.invokeFunction('convertToInteractive',\n",
              "                                                    [key], {});\n",
              "        if (!dataTable) return;\n",
              "\n",
              "        const docLinkHtml = 'Like what you see? Visit the ' +\n",
              "          '<a target=\"_blank\" href=https://colab.research.google.com/notebooks/data_table.ipynb>data table notebook</a>'\n",
              "          + ' to learn more about interactive tables.';\n",
              "        element.innerHTML = '';\n",
              "        dataTable['output_type'] = 'display_data';\n",
              "        await google.colab.output.renderOutput(dataTable, element);\n",
              "        const docLink = document.createElement('div');\n",
              "        docLink.innerHTML = docLinkHtml;\n",
              "        element.appendChild(docLink);\n",
              "      }\n",
              "    </script>\n",
              "  </div>\n",
              "\n",
              "\n",
              "<div id=\"df-9130f545-537d-4ce1-86bb-482b2ee830de\">\n",
              "  <button class=\"colab-df-quickchart\" onclick=\"quickchart('df-9130f545-537d-4ce1-86bb-482b2ee830de')\"\n",
              "            title=\"Suggest charts\"\n",
              "            style=\"display:none;\">\n",
              "\n",
              "<svg xmlns=\"http://www.w3.org/2000/svg\" height=\"24px\"viewBox=\"0 0 24 24\"\n",
              "     width=\"24px\">\n",
              "    <g>\n",
              "        <path d=\"M19 3H5c-1.1 0-2 .9-2 2v14c0 1.1.9 2 2 2h14c1.1 0 2-.9 2-2V5c0-1.1-.9-2-2-2zM9 17H7v-7h2v7zm4 0h-2V7h2v10zm4 0h-2v-4h2v4z\"/>\n",
              "    </g>\n",
              "</svg>\n",
              "  </button>\n",
              "\n",
              "<style>\n",
              "  .colab-df-quickchart {\n",
              "      --bg-color: #E8F0FE;\n",
              "      --fill-color: #1967D2;\n",
              "      --hover-bg-color: #E2EBFA;\n",
              "      --hover-fill-color: #174EA6;\n",
              "      --disabled-fill-color: #AAA;\n",
              "      --disabled-bg-color: #DDD;\n",
              "  }\n",
              "\n",
              "  [theme=dark] .colab-df-quickchart {\n",
              "      --bg-color: #3B4455;\n",
              "      --fill-color: #D2E3FC;\n",
              "      --hover-bg-color: #434B5C;\n",
              "      --hover-fill-color: #FFFFFF;\n",
              "      --disabled-bg-color: #3B4455;\n",
              "      --disabled-fill-color: #666;\n",
              "  }\n",
              "\n",
              "  .colab-df-quickchart {\n",
              "    background-color: var(--bg-color);\n",
              "    border: none;\n",
              "    border-radius: 50%;\n",
              "    cursor: pointer;\n",
              "    display: none;\n",
              "    fill: var(--fill-color);\n",
              "    height: 32px;\n",
              "    padding: 0;\n",
              "    width: 32px;\n",
              "  }\n",
              "\n",
              "  .colab-df-quickchart:hover {\n",
              "    background-color: var(--hover-bg-color);\n",
              "    box-shadow: 0 1px 2px rgba(60, 64, 67, 0.3), 0 1px 3px 1px rgba(60, 64, 67, 0.15);\n",
              "    fill: var(--button-hover-fill-color);\n",
              "  }\n",
              "\n",
              "  .colab-df-quickchart-complete:disabled,\n",
              "  .colab-df-quickchart-complete:disabled:hover {\n",
              "    background-color: var(--disabled-bg-color);\n",
              "    fill: var(--disabled-fill-color);\n",
              "    box-shadow: none;\n",
              "  }\n",
              "\n",
              "  .colab-df-spinner {\n",
              "    border: 2px solid var(--fill-color);\n",
              "    border-color: transparent;\n",
              "    border-bottom-color: var(--fill-color);\n",
              "    animation:\n",
              "      spin 1s steps(1) infinite;\n",
              "  }\n",
              "\n",
              "  @keyframes spin {\n",
              "    0% {\n",
              "      border-color: transparent;\n",
              "      border-bottom-color: var(--fill-color);\n",
              "      border-left-color: var(--fill-color);\n",
              "    }\n",
              "    20% {\n",
              "      border-color: transparent;\n",
              "      border-left-color: var(--fill-color);\n",
              "      border-top-color: var(--fill-color);\n",
              "    }\n",
              "    30% {\n",
              "      border-color: transparent;\n",
              "      border-left-color: var(--fill-color);\n",
              "      border-top-color: var(--fill-color);\n",
              "      border-right-color: var(--fill-color);\n",
              "    }\n",
              "    40% {\n",
              "      border-color: transparent;\n",
              "      border-right-color: var(--fill-color);\n",
              "      border-top-color: var(--fill-color);\n",
              "    }\n",
              "    60% {\n",
              "      border-color: transparent;\n",
              "      border-right-color: var(--fill-color);\n",
              "    }\n",
              "    80% {\n",
              "      border-color: transparent;\n",
              "      border-right-color: var(--fill-color);\n",
              "      border-bottom-color: var(--fill-color);\n",
              "    }\n",
              "    90% {\n",
              "      border-color: transparent;\n",
              "      border-bottom-color: var(--fill-color);\n",
              "    }\n",
              "  }\n",
              "</style>\n",
              "\n",
              "  <script>\n",
              "    async function quickchart(key) {\n",
              "      const quickchartButtonEl =\n",
              "        document.querySelector('#' + key + ' button');\n",
              "      quickchartButtonEl.disabled = true;  // To prevent multiple clicks.\n",
              "      quickchartButtonEl.classList.add('colab-df-spinner');\n",
              "      try {\n",
              "        const charts = await google.colab.kernel.invokeFunction(\n",
              "            'suggestCharts', [key], {});\n",
              "      } catch (error) {\n",
              "        console.error('Error during call to suggestCharts:', error);\n",
              "      }\n",
              "      quickchartButtonEl.classList.remove('colab-df-spinner');\n",
              "      quickchartButtonEl.classList.add('colab-df-quickchart-complete');\n",
              "    }\n",
              "    (() => {\n",
              "      let quickchartButtonEl =\n",
              "        document.querySelector('#df-9130f545-537d-4ce1-86bb-482b2ee830de button');\n",
              "      quickchartButtonEl.style.display =\n",
              "        google.colab.kernel.accessAllowed ? 'block' : 'none';\n",
              "    })();\n",
              "  </script>\n",
              "</div>\n",
              "\n",
              "    </div>\n",
              "  </div>\n"
            ]
          },
          "metadata": {},
          "execution_count": 2
        }
      ]
    },
    {
      "cell_type": "code",
      "source": [
        "#tamaño de la data\n",
        "df.shape"
      ],
      "metadata": {
        "colab": {
          "base_uri": "https://localhost:8080/"
        },
        "id": "otY9RRoAJmGJ",
        "outputId": "bc74c968-1732-4279-8fa3-9f639d86e7d6"
      },
      "execution_count": 3,
      "outputs": [
        {
          "output_type": "execute_result",
          "data": {
            "text/plain": [
              "(5960, 13)"
            ]
          },
          "metadata": {},
          "execution_count": 3
        }
      ]
    },
    {
      "cell_type": "code",
      "source": [
        "#informacion basica de la data\n",
        "df.info()"
      ],
      "metadata": {
        "colab": {
          "base_uri": "https://localhost:8080/"
        },
        "id": "22_qnU5UJppx",
        "outputId": "4e448ca4-6f9d-4168-c65d-37e1ea65d174"
      },
      "execution_count": 4,
      "outputs": [
        {
          "output_type": "stream",
          "name": "stdout",
          "text": [
            "<class 'pandas.core.frame.DataFrame'>\n",
            "RangeIndex: 5960 entries, 0 to 5959\n",
            "Data columns (total 13 columns):\n",
            " #   Column   Non-Null Count  Dtype  \n",
            "---  ------   --------------  -----  \n",
            " 0   BAD      5960 non-null   int64  \n",
            " 1   LOAN     5960 non-null   int64  \n",
            " 2   MORTDUE  5442 non-null   float64\n",
            " 3   VALUE    5848 non-null   float64\n",
            " 4   REASON   5708 non-null   object \n",
            " 5   JOB      5681 non-null   object \n",
            " 6   YOJ      5445 non-null   float64\n",
            " 7   DEROG    5252 non-null   float64\n",
            " 8   DELINQ   5380 non-null   float64\n",
            " 9   CLAGE    5652 non-null   float64\n",
            " 10  NINQ     5450 non-null   float64\n",
            " 11  CLNO     5738 non-null   float64\n",
            " 12  DEBTINC  4693 non-null   float64\n",
            "dtypes: float64(9), int64(2), object(2)\n",
            "memory usage: 605.4+ KB\n"
          ]
        }
      ]
    },
    {
      "cell_type": "code",
      "source": [
        "#elimina una fila completa en el cual tenga NaN, en cualquier posicion de la fila\n",
        "df.dropna(inplace=True)\n",
        "df.info()"
      ],
      "metadata": {
        "colab": {
          "base_uri": "https://localhost:8080/"
        },
        "id": "YRb_V_D_KYHX",
        "outputId": "7dcf7050-441e-4f96-b08e-7a9c158fb13d"
      },
      "execution_count": 5,
      "outputs": [
        {
          "output_type": "stream",
          "name": "stdout",
          "text": [
            "<class 'pandas.core.frame.DataFrame'>\n",
            "Int64Index: 3364 entries, 5 to 5959\n",
            "Data columns (total 13 columns):\n",
            " #   Column   Non-Null Count  Dtype  \n",
            "---  ------   --------------  -----  \n",
            " 0   BAD      3364 non-null   int64  \n",
            " 1   LOAN     3364 non-null   int64  \n",
            " 2   MORTDUE  3364 non-null   float64\n",
            " 3   VALUE    3364 non-null   float64\n",
            " 4   REASON   3364 non-null   object \n",
            " 5   JOB      3364 non-null   object \n",
            " 6   YOJ      3364 non-null   float64\n",
            " 7   DEROG    3364 non-null   float64\n",
            " 8   DELINQ   3364 non-null   float64\n",
            " 9   CLAGE    3364 non-null   float64\n",
            " 10  NINQ     3364 non-null   float64\n",
            " 11  CLNO     3364 non-null   float64\n",
            " 12  DEBTINC  3364 non-null   float64\n",
            "dtypes: float64(9), int64(2), object(2)\n",
            "memory usage: 367.9+ KB\n"
          ]
        }
      ]
    },
    {
      "cell_type": "markdown",
      "source": [
        "OBSERVACION:\n",
        "\n",
        "Para nuestra dataframe se eliminara la variable 'DEBTINC'. Para el modelo se usara la variable objetivo 'BAD'. Se usara todas las variables menos las variables JOB, REASON y DEBTINC"
      ],
      "metadata": {
        "id": "43DSDH94P18N"
      }
    },
    {
      "cell_type": "markdown",
      "source": [
        "---\n",
        "\n",
        "\n",
        "**DIVISION DE LA DATA EN TRAIN Y TEST**\n",
        "\n",
        "La función train_test_split nos permite dividir la data de forma aleatoria en conjuntos de entrenamiento(train) y prueba(test) para poder entrenar nuestro modelo"
      ],
      "metadata": {
        "id": "8oTag5oQib-q"
      }
    },
    {
      "cell_type": "code",
      "source": [
        "df.drop(['DEBTINC'], axis=1, inplace=True)\n",
        "X=df.drop(columns=['BAD', 'JOB', 'REASON'])\n",
        "y=df['BAD']"
      ],
      "metadata": {
        "id": "P2l7Uorshs0R"
      },
      "execution_count": 6,
      "outputs": []
    },
    {
      "cell_type": "code",
      "source": [
        "#se carga la libreria para la division de la data del sklean\n",
        "from sklearn.model_selection import train_test_split\n",
        "#se devide la data en df_train y df_test, con un 20% de la data en df_test y una semilla de aleatoriedad 2023\n",
        "X_train, X_test, y_train, y_test = train_test_split(X, y, test_size = 0.20, random_state = 2023)"
      ],
      "metadata": {
        "id": "jsVM6W4mjGoH"
      },
      "execution_count": 7,
      "outputs": []
    },
    {
      "cell_type": "markdown",
      "source": [
        "\n",
        "\n",
        "---\n",
        "\n",
        "\n",
        "**MODELO REGRESION LOGISTICA**\n",
        "\n",
        " La ecuación de regresión logística es de la forma:\n",
        "\n",
        "\n",
        "$$\n",
        "p( Y=1) =\\frac{1}{1+e^{-z}}\n",
        "$$\n",
        "\n",
        "\n",
        "$$\n",
        "z=b_{0} +b_{1} X_{1}+...+b_{n} X_{n}\n",
        "$$\n",
        "\n",
        "Donde:\n",
        "\n",
        "*$p(Y=1)$ es la probabilidad de que la variable dependiente $Y$ sea igual a 1.\n",
        "\n",
        "*$b_{0},b_{1},...,b_{n}$ son los coeficientes del modelo\n",
        "\n",
        "*$X_{1},X_{2},...,b_{n}$ son las variables independiente."
      ],
      "metadata": {
        "id": "JgtwkuKrf5P2"
      }
    },
    {
      "cell_type": "code",
      "source": [
        "#cargamos la libreria para cargar el modelo de regresion logistica\n",
        "from sklearn.linear_model import LogisticRegression\n",
        "\n",
        "#definimos el objeto del modelo logistico a usar modelo\n",
        "modelo=LogisticRegression()\n",
        "\n",
        "#ajuste de la recta de regresión (entrenamiento del modelo X_train y y_train)\n",
        "modelo.fit(X_train,y_train)"
      ],
      "metadata": {
        "id": "JHFpbEKffiXi",
        "colab": {
          "base_uri": "https://localhost:8080/",
          "height": 74
        },
        "outputId": "f0d42cc9-a213-4184-be2f-79a6bfc862d8"
      },
      "execution_count": 8,
      "outputs": [
        {
          "output_type": "execute_result",
          "data": {
            "text/plain": [
              "LogisticRegression()"
            ],
            "text/html": [
              "<style>#sk-container-id-1 {color: black;background-color: white;}#sk-container-id-1 pre{padding: 0;}#sk-container-id-1 div.sk-toggleable {background-color: white;}#sk-container-id-1 label.sk-toggleable__label {cursor: pointer;display: block;width: 100%;margin-bottom: 0;padding: 0.3em;box-sizing: border-box;text-align: center;}#sk-container-id-1 label.sk-toggleable__label-arrow:before {content: \"▸\";float: left;margin-right: 0.25em;color: #696969;}#sk-container-id-1 label.sk-toggleable__label-arrow:hover:before {color: black;}#sk-container-id-1 div.sk-estimator:hover label.sk-toggleable__label-arrow:before {color: black;}#sk-container-id-1 div.sk-toggleable__content {max-height: 0;max-width: 0;overflow: hidden;text-align: left;background-color: #f0f8ff;}#sk-container-id-1 div.sk-toggleable__content pre {margin: 0.2em;color: black;border-radius: 0.25em;background-color: #f0f8ff;}#sk-container-id-1 input.sk-toggleable__control:checked~div.sk-toggleable__content {max-height: 200px;max-width: 100%;overflow: auto;}#sk-container-id-1 input.sk-toggleable__control:checked~label.sk-toggleable__label-arrow:before {content: \"▾\";}#sk-container-id-1 div.sk-estimator input.sk-toggleable__control:checked~label.sk-toggleable__label {background-color: #d4ebff;}#sk-container-id-1 div.sk-label input.sk-toggleable__control:checked~label.sk-toggleable__label {background-color: #d4ebff;}#sk-container-id-1 input.sk-hidden--visually {border: 0;clip: rect(1px 1px 1px 1px);clip: rect(1px, 1px, 1px, 1px);height: 1px;margin: -1px;overflow: hidden;padding: 0;position: absolute;width: 1px;}#sk-container-id-1 div.sk-estimator {font-family: monospace;background-color: #f0f8ff;border: 1px dotted black;border-radius: 0.25em;box-sizing: border-box;margin-bottom: 0.5em;}#sk-container-id-1 div.sk-estimator:hover {background-color: #d4ebff;}#sk-container-id-1 div.sk-parallel-item::after {content: \"\";width: 100%;border-bottom: 1px solid gray;flex-grow: 1;}#sk-container-id-1 div.sk-label:hover label.sk-toggleable__label {background-color: #d4ebff;}#sk-container-id-1 div.sk-serial::before {content: \"\";position: absolute;border-left: 1px solid gray;box-sizing: border-box;top: 0;bottom: 0;left: 50%;z-index: 0;}#sk-container-id-1 div.sk-serial {display: flex;flex-direction: column;align-items: center;background-color: white;padding-right: 0.2em;padding-left: 0.2em;position: relative;}#sk-container-id-1 div.sk-item {position: relative;z-index: 1;}#sk-container-id-1 div.sk-parallel {display: flex;align-items: stretch;justify-content: center;background-color: white;position: relative;}#sk-container-id-1 div.sk-item::before, #sk-container-id-1 div.sk-parallel-item::before {content: \"\";position: absolute;border-left: 1px solid gray;box-sizing: border-box;top: 0;bottom: 0;left: 50%;z-index: -1;}#sk-container-id-1 div.sk-parallel-item {display: flex;flex-direction: column;z-index: 1;position: relative;background-color: white;}#sk-container-id-1 div.sk-parallel-item:first-child::after {align-self: flex-end;width: 50%;}#sk-container-id-1 div.sk-parallel-item:last-child::after {align-self: flex-start;width: 50%;}#sk-container-id-1 div.sk-parallel-item:only-child::after {width: 0;}#sk-container-id-1 div.sk-dashed-wrapped {border: 1px dashed gray;margin: 0 0.4em 0.5em 0.4em;box-sizing: border-box;padding-bottom: 0.4em;background-color: white;}#sk-container-id-1 div.sk-label label {font-family: monospace;font-weight: bold;display: inline-block;line-height: 1.2em;}#sk-container-id-1 div.sk-label-container {text-align: center;}#sk-container-id-1 div.sk-container {/* jupyter's `normalize.less` sets `[hidden] { display: none; }` but bootstrap.min.css set `[hidden] { display: none !important; }` so we also need the `!important` here to be able to override the default hidden behavior on the sphinx rendered scikit-learn.org. See: https://github.com/scikit-learn/scikit-learn/issues/21755 */display: inline-block !important;position: relative;}#sk-container-id-1 div.sk-text-repr-fallback {display: none;}</style><div id=\"sk-container-id-1\" class=\"sk-top-container\"><div class=\"sk-text-repr-fallback\"><pre>LogisticRegression()</pre><b>In a Jupyter environment, please rerun this cell to show the HTML representation or trust the notebook. <br />On GitHub, the HTML representation is unable to render, please try loading this page with nbviewer.org.</b></div><div class=\"sk-container\" hidden><div class=\"sk-item\"><div class=\"sk-estimator sk-toggleable\"><input class=\"sk-toggleable__control sk-hidden--visually\" id=\"sk-estimator-id-1\" type=\"checkbox\" checked><label for=\"sk-estimator-id-1\" class=\"sk-toggleable__label sk-toggleable__label-arrow\">LogisticRegression</label><div class=\"sk-toggleable__content\"><pre>LogisticRegression()</pre></div></div></div></div></div>"
            ]
          },
          "metadata": {},
          "execution_count": 8
        }
      ]
    },
    {
      "cell_type": "code",
      "source": [
        "#coeficiente del modelo\n",
        "print(modelo.intercept_)\n",
        "print(modelo.coef_)"
      ],
      "metadata": {
        "id": "krWqsokQfgsz",
        "colab": {
          "base_uri": "https://localhost:8080/"
        },
        "outputId": "5128efc2-296c-44e9-dc8c-1b4a21aca085"
      },
      "execution_count": 9,
      "outputs": [
        {
          "output_type": "stream",
          "name": "stdout",
          "text": [
            "[-3.29408438e-05]\n",
            "[[-2.27409687e-05 -6.71444255e-07 -2.92163111e-06 -5.39377741e-04\n",
            "   6.18851564e-05  8.44273756e-05 -8.82950337e-03  5.49913258e-05\n",
            "  -3.66698914e-04]]\n"
          ]
        }
      ]
    },
    {
      "cell_type": "code",
      "source": [
        "#prediciremos del valor de la varible objetivo cuando la variable dependiente\n",
        "#asumen los valores de 1200,40000, 50000,4 ,0 , 1, 110, 0 y 10.\n",
        "modelo.predict([[1200, 40000, 50000, 4, 0, 1, 110, 0, 10]])"
      ],
      "metadata": {
        "colab": {
          "base_uri": "https://localhost:8080/"
        },
        "id": "RRXlijF6qOVX",
        "outputId": "f6dced60-4996-4b8b-b308-3b9fe5e165a9"
      },
      "execution_count": 11,
      "outputs": [
        {
          "output_type": "stream",
          "name": "stderr",
          "text": [
            "/usr/local/lib/python3.10/dist-packages/sklearn/base.py:439: UserWarning: X does not have valid feature names, but LogisticRegression was fitted with feature names\n",
            "  warnings.warn(\n"
          ]
        },
        {
          "output_type": "execute_result",
          "data": {
            "text/plain": [
              "array([0])"
            ]
          },
          "metadata": {},
          "execution_count": 11
        }
      ]
    },
    {
      "cell_type": "code",
      "source": [
        "#a continuacion se muestra la probabilidad que toma las variable 2,4 y 7. El resultado\n",
        "#nos dara por filas [prob_desacierto prob_acierto]\n",
        "modelo.predict_proba([[1200, 40000, 50000, 4, 0, 1, 110, 0, 10]])"
      ],
      "metadata": {
        "colab": {
          "base_uri": "https://localhost:8080/"
        },
        "id": "KdlXQFGBqVGh",
        "outputId": "f294ba5c-3b21-4b6c-b032-ca720fa61fc3"
      },
      "execution_count": 12,
      "outputs": [
        {
          "output_type": "stream",
          "name": "stderr",
          "text": [
            "/usr/local/lib/python3.10/dist-packages/sklearn/base.py:439: UserWarning: X does not have valid feature names, but LogisticRegression was fitted with feature names\n",
            "  warnings.warn(\n"
          ]
        },
        {
          "output_type": "execute_result",
          "data": {
            "text/plain": [
              "array([[0.76445242, 0.23554758]])"
            ]
          },
          "metadata": {},
          "execution_count": 12
        }
      ]
    },
    {
      "cell_type": "markdown",
      "source": [
        "---\n",
        "\n",
        "\n",
        "**CALCULO DE ERROR - ACCURACY SCORE(accuracy_score)**\n",
        "\n",
        "La accuracy_score es una métrica comúnmente utilizada para evaluar el rendimiento de un modelo de clasificación. Esta métrica se utiliza para medir la precisión del modelo al predecir las clases correctas en relación con el total de predicciones realizadas. La fórmula para calcular la precisión es la siguiente:\n",
        "\n",
        "$$\n",
        "Accuracy=\\frac{Numero\\ de\\ prediciones\\ correctas}{Numero\\ total\\ de\\ prediciones}\n",
        "$$"
      ],
      "metadata": {
        "id": "l5bi7jZ0roX2"
      }
    },
    {
      "cell_type": "code",
      "source": [
        "#obtenemos las predicciones del modelo para poder evaluarlas los errores\n",
        "from sklearn.metrics import accuracy_score\n",
        "\n",
        "#obtenemos las predicciones del modelo para poder evaluarlas los errores\n",
        "predicciones_train=modelo.predict(X_train)\n",
        "predicciones_test=modelo.predict(X_test)\n",
        "\n",
        "print('Accuracy Score train:', accuracy_score(y_train, predicciones_train))\n",
        "print('Accuracy Score test:', accuracy_score(y_test, predicciones_test) )"
      ],
      "metadata": {
        "colab": {
          "base_uri": "https://localhost:8080/"
        },
        "id": "Z-VOD8TmrpsX",
        "outputId": "ca14887e-911f-458c-9c98-d8e0603256d8"
      },
      "execution_count": 13,
      "outputs": [
        {
          "output_type": "stream",
          "name": "stdout",
          "text": [
            "Accuracy Score train: 0.9067261241174285\n",
            "Accuracy Score test: 0.9271916790490342\n"
          ]
        }
      ]
    }
  ]
}