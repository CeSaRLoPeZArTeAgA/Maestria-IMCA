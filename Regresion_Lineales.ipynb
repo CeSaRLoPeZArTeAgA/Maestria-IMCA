{
  "nbformat": 4,
  "nbformat_minor": 0,
  "metadata": {
    "colab": {
      "provenance": [],
      "authorship_tag": "ABX9TyPS410Q98frLeWcuvBuhTDL",
      "include_colab_link": true
    },
    "kernelspec": {
      "name": "python3",
      "display_name": "Python 3"
    },
    "language_info": {
      "name": "python"
    }
  },
  "cells": [
    {
      "cell_type": "markdown",
      "metadata": {
        "id": "view-in-github",
        "colab_type": "text"
      },
      "source": [
        "<a href=\"https://colab.research.google.com/github/CeSaRLoPeZArTeAgA/Maestria-IMCA/blob/main/Regresion_Lineales.ipynb\" target=\"_parent\"><img src=\"https://colab.research.google.com/assets/colab-badge.svg\" alt=\"Open In Colab\"/></a>"
      ]
    },
    {
      "cell_type": "markdown",
      "source": [
        "# MAESTRIA DE MODELIZACION MATEMATICA Y COMPUTACIONAL\n",
        "---\n",
        "![IMCA.jpg](data:image/jpeg;base64,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)\n",
        "\n",
        "\n",
        "---\n",
        "\n",
        "\n",
        "# CLASE: REGRESION LINEAL SIMPLE Y REGRESION LINEAL MULTIPLE"
      ],
      "metadata": {
        "id": "ehaCSFpw7dP4"
      }
    },
    {
      "cell_type": "markdown",
      "source": [
        "# **1.- REGRESION LINEAL SIMPLE**"
      ],
      "metadata": {
        "id": "w4uI1gGhbi2F"
      }
    },
    {
      "cell_type": "code",
      "execution_count": 29,
      "metadata": {
        "id": "pObjVzoGbLL8"
      },
      "outputs": [],
      "source": [
        "#importacion de librerias\n",
        "import pandas as pd\n",
        "import numpy as np\n",
        "import seaborn as sns\n",
        "import matplotlib.pyplot as plt"
      ]
    },
    {
      "cell_type": "markdown",
      "source": [
        "**LECTURA DE LA DATA**\n",
        "\n",
        "Para este ejemplo usaremos las ventas anuales de cafeterias en Canadá con el fin de predecir las ventas de cada una en función de sus características."
      ],
      "metadata": {
        "id": "UZjrQZzccZbc"
      }
    },
    {
      "cell_type": "code",
      "source": [
        "#lectura de archivo VentasCaf.csv desde\n",
        "df_ventas = pd.read_csv('VentasCaf.csv')\n",
        "#se muestra los primeros 5 elementos de la data\n",
        "df_ventas.head()"
      ],
      "metadata": {
        "colab": {
          "base_uri": "https://localhost:8080/",
          "height": 206
        },
        "id": "ae6NJrnLb2vy",
        "outputId": "8a35156b-c902-4e69-b7d6-eca8e8531389"
      },
      "execution_count": 30,
      "outputs": [
        {
          "output_type": "execute_result",
          "data": {
            "text/plain": [
              "   Unnamed: 0       area  publicidad_exterior  num_productos  delivery  ventas\n",
              "0           0  52.324250                    0      28.717111         1   83188\n",
              "1           1  53.972180                    0      24.061171         1   68638\n",
              "2           2  53.231438                    0      16.724146         1   84210\n",
              "3           3  43.583231                    0      29.307826         1   82888\n",
              "4           4  36.769380                    0      18.313163         0   57796"
            ],
            "text/html": [
              "\n",
              "  <div id=\"df-1aa52f47-2ac7-4dee-b7ec-ad35416b6581\" class=\"colab-df-container\">\n",
              "    <div>\n",
              "<style scoped>\n",
              "    .dataframe tbody tr th:only-of-type {\n",
              "        vertical-align: middle;\n",
              "    }\n",
              "\n",
              "    .dataframe tbody tr th {\n",
              "        vertical-align: top;\n",
              "    }\n",
              "\n",
              "    .dataframe thead th {\n",
              "        text-align: right;\n",
              "    }\n",
              "</style>\n",
              "<table border=\"1\" class=\"dataframe\">\n",
              "  <thead>\n",
              "    <tr style=\"text-align: right;\">\n",
              "      <th></th>\n",
              "      <th>Unnamed: 0</th>\n",
              "      <th>area</th>\n",
              "      <th>publicidad_exterior</th>\n",
              "      <th>num_productos</th>\n",
              "      <th>delivery</th>\n",
              "      <th>ventas</th>\n",
              "    </tr>\n",
              "  </thead>\n",
              "  <tbody>\n",
              "    <tr>\n",
              "      <th>0</th>\n",
              "      <td>0</td>\n",
              "      <td>52.324250</td>\n",
              "      <td>0</td>\n",
              "      <td>28.717111</td>\n",
              "      <td>1</td>\n",
              "      <td>83188</td>\n",
              "    </tr>\n",
              "    <tr>\n",
              "      <th>1</th>\n",
              "      <td>1</td>\n",
              "      <td>53.972180</td>\n",
              "      <td>0</td>\n",
              "      <td>24.061171</td>\n",
              "      <td>1</td>\n",
              "      <td>68638</td>\n",
              "    </tr>\n",
              "    <tr>\n",
              "      <th>2</th>\n",
              "      <td>2</td>\n",
              "      <td>53.231438</td>\n",
              "      <td>0</td>\n",
              "      <td>16.724146</td>\n",
              "      <td>1</td>\n",
              "      <td>84210</td>\n",
              "    </tr>\n",
              "    <tr>\n",
              "      <th>3</th>\n",
              "      <td>3</td>\n",
              "      <td>43.583231</td>\n",
              "      <td>0</td>\n",
              "      <td>29.307826</td>\n",
              "      <td>1</td>\n",
              "      <td>82888</td>\n",
              "    </tr>\n",
              "    <tr>\n",
              "      <th>4</th>\n",
              "      <td>4</td>\n",
              "      <td>36.769380</td>\n",
              "      <td>0</td>\n",
              "      <td>18.313163</td>\n",
              "      <td>0</td>\n",
              "      <td>57796</td>\n",
              "    </tr>\n",
              "  </tbody>\n",
              "</table>\n",
              "</div>\n",
              "    <div class=\"colab-df-buttons\">\n",
              "\n",
              "  <div class=\"colab-df-container\">\n",
              "    <button class=\"colab-df-convert\" onclick=\"convertToInteractive('df-1aa52f47-2ac7-4dee-b7ec-ad35416b6581')\"\n",
              "            title=\"Convert this dataframe to an interactive table.\"\n",
              "            style=\"display:none;\">\n",
              "\n",
              "  <svg xmlns=\"http://www.w3.org/2000/svg\" height=\"24px\" viewBox=\"0 -960 960 960\">\n",
              "    <path d=\"M120-120v-720h720v720H120Zm60-500h600v-160H180v160Zm220 220h160v-160H400v160Zm0 220h160v-160H400v160ZM180-400h160v-160H180v160Zm440 0h160v-160H620v160ZM180-180h160v-160H180v160Zm440 0h160v-160H620v160Z\"/>\n",
              "  </svg>\n",
              "    </button>\n",
              "\n",
              "  <style>\n",
              "    .colab-df-container {\n",
              "      display:flex;\n",
              "      gap: 12px;\n",
              "    }\n",
              "\n",
              "    .colab-df-convert {\n",
              "      background-color: #E8F0FE;\n",
              "      border: none;\n",
              "      border-radius: 50%;\n",
              "      cursor: pointer;\n",
              "      display: none;\n",
              "      fill: #1967D2;\n",
              "      height: 32px;\n",
              "      padding: 0 0 0 0;\n",
              "      width: 32px;\n",
              "    }\n",
              "\n",
              "    .colab-df-convert:hover {\n",
              "      background-color: #E2EBFA;\n",
              "      box-shadow: 0px 1px 2px rgba(60, 64, 67, 0.3), 0px 1px 3px 1px rgba(60, 64, 67, 0.15);\n",
              "      fill: #174EA6;\n",
              "    }\n",
              "\n",
              "    .colab-df-buttons div {\n",
              "      margin-bottom: 4px;\n",
              "    }\n",
              "\n",
              "    [theme=dark] .colab-df-convert {\n",
              "      background-color: #3B4455;\n",
              "      fill: #D2E3FC;\n",
              "    }\n",
              "\n",
              "    [theme=dark] .colab-df-convert:hover {\n",
              "      background-color: #434B5C;\n",
              "      box-shadow: 0px 1px 3px 1px rgba(0, 0, 0, 0.15);\n",
              "      filter: drop-shadow(0px 1px 2px rgba(0, 0, 0, 0.3));\n",
              "      fill: #FFFFFF;\n",
              "    }\n",
              "  </style>\n",
              "\n",
              "    <script>\n",
              "      const buttonEl =\n",
              "        document.querySelector('#df-1aa52f47-2ac7-4dee-b7ec-ad35416b6581 button.colab-df-convert');\n",
              "      buttonEl.style.display =\n",
              "        google.colab.kernel.accessAllowed ? 'block' : 'none';\n",
              "\n",
              "      async function convertToInteractive(key) {\n",
              "        const element = document.querySelector('#df-1aa52f47-2ac7-4dee-b7ec-ad35416b6581');\n",
              "        const dataTable =\n",
              "          await google.colab.kernel.invokeFunction('convertToInteractive',\n",
              "                                                    [key], {});\n",
              "        if (!dataTable) return;\n",
              "\n",
              "        const docLinkHtml = 'Like what you see? Visit the ' +\n",
              "          '<a target=\"_blank\" href=https://colab.research.google.com/notebooks/data_table.ipynb>data table notebook</a>'\n",
              "          + ' to learn more about interactive tables.';\n",
              "        element.innerHTML = '';\n",
              "        dataTable['output_type'] = 'display_data';\n",
              "        await google.colab.output.renderOutput(dataTable, element);\n",
              "        const docLink = document.createElement('div');\n",
              "        docLink.innerHTML = docLinkHtml;\n",
              "        element.appendChild(docLink);\n",
              "      }\n",
              "    </script>\n",
              "  </div>\n",
              "\n",
              "\n",
              "<div id=\"df-05916315-1432-4962-a211-7e77e67e7a82\">\n",
              "  <button class=\"colab-df-quickchart\" onclick=\"quickchart('df-05916315-1432-4962-a211-7e77e67e7a82')\"\n",
              "            title=\"Suggest charts\"\n",
              "            style=\"display:none;\">\n",
              "\n",
              "<svg xmlns=\"http://www.w3.org/2000/svg\" height=\"24px\"viewBox=\"0 0 24 24\"\n",
              "     width=\"24px\">\n",
              "    <g>\n",
              "        <path d=\"M19 3H5c-1.1 0-2 .9-2 2v14c0 1.1.9 2 2 2h14c1.1 0 2-.9 2-2V5c0-1.1-.9-2-2-2zM9 17H7v-7h2v7zm4 0h-2V7h2v10zm4 0h-2v-4h2v4z\"/>\n",
              "    </g>\n",
              "</svg>\n",
              "  </button>\n",
              "\n",
              "<style>\n",
              "  .colab-df-quickchart {\n",
              "      --bg-color: #E8F0FE;\n",
              "      --fill-color: #1967D2;\n",
              "      --hover-bg-color: #E2EBFA;\n",
              "      --hover-fill-color: #174EA6;\n",
              "      --disabled-fill-color: #AAA;\n",
              "      --disabled-bg-color: #DDD;\n",
              "  }\n",
              "\n",
              "  [theme=dark] .colab-df-quickchart {\n",
              "      --bg-color: #3B4455;\n",
              "      --fill-color: #D2E3FC;\n",
              "      --hover-bg-color: #434B5C;\n",
              "      --hover-fill-color: #FFFFFF;\n",
              "      --disabled-bg-color: #3B4455;\n",
              "      --disabled-fill-color: #666;\n",
              "  }\n",
              "\n",
              "  .colab-df-quickchart {\n",
              "    background-color: var(--bg-color);\n",
              "    border: none;\n",
              "    border-radius: 50%;\n",
              "    cursor: pointer;\n",
              "    display: none;\n",
              "    fill: var(--fill-color);\n",
              "    height: 32px;\n",
              "    padding: 0;\n",
              "    width: 32px;\n",
              "  }\n",
              "\n",
              "  .colab-df-quickchart:hover {\n",
              "    background-color: var(--hover-bg-color);\n",
              "    box-shadow: 0 1px 2px rgba(60, 64, 67, 0.3), 0 1px 3px 1px rgba(60, 64, 67, 0.15);\n",
              "    fill: var(--button-hover-fill-color);\n",
              "  }\n",
              "\n",
              "  .colab-df-quickchart-complete:disabled,\n",
              "  .colab-df-quickchart-complete:disabled:hover {\n",
              "    background-color: var(--disabled-bg-color);\n",
              "    fill: var(--disabled-fill-color);\n",
              "    box-shadow: none;\n",
              "  }\n",
              "\n",
              "  .colab-df-spinner {\n",
              "    border: 2px solid var(--fill-color);\n",
              "    border-color: transparent;\n",
              "    border-bottom-color: var(--fill-color);\n",
              "    animation:\n",
              "      spin 1s steps(1) infinite;\n",
              "  }\n",
              "\n",
              "  @keyframes spin {\n",
              "    0% {\n",
              "      border-color: transparent;\n",
              "      border-bottom-color: var(--fill-color);\n",
              "      border-left-color: var(--fill-color);\n",
              "    }\n",
              "    20% {\n",
              "      border-color: transparent;\n",
              "      border-left-color: var(--fill-color);\n",
              "      border-top-color: var(--fill-color);\n",
              "    }\n",
              "    30% {\n",
              "      border-color: transparent;\n",
              "      border-left-color: var(--fill-color);\n",
              "      border-top-color: var(--fill-color);\n",
              "      border-right-color: var(--fill-color);\n",
              "    }\n",
              "    40% {\n",
              "      border-color: transparent;\n",
              "      border-right-color: var(--fill-color);\n",
              "      border-top-color: var(--fill-color);\n",
              "    }\n",
              "    60% {\n",
              "      border-color: transparent;\n",
              "      border-right-color: var(--fill-color);\n",
              "    }\n",
              "    80% {\n",
              "      border-color: transparent;\n",
              "      border-right-color: var(--fill-color);\n",
              "      border-bottom-color: var(--fill-color);\n",
              "    }\n",
              "    90% {\n",
              "      border-color: transparent;\n",
              "      border-bottom-color: var(--fill-color);\n",
              "    }\n",
              "  }\n",
              "</style>\n",
              "\n",
              "  <script>\n",
              "    async function quickchart(key) {\n",
              "      const quickchartButtonEl =\n",
              "        document.querySelector('#' + key + ' button');\n",
              "      quickchartButtonEl.disabled = true;  // To prevent multiple clicks.\n",
              "      quickchartButtonEl.classList.add('colab-df-spinner');\n",
              "      try {\n",
              "        const charts = await google.colab.kernel.invokeFunction(\n",
              "            'suggestCharts', [key], {});\n",
              "      } catch (error) {\n",
              "        console.error('Error during call to suggestCharts:', error);\n",
              "      }\n",
              "      quickchartButtonEl.classList.remove('colab-df-spinner');\n",
              "      quickchartButtonEl.classList.add('colab-df-quickchart-complete');\n",
              "    }\n",
              "    (() => {\n",
              "      let quickchartButtonEl =\n",
              "        document.querySelector('#df-05916315-1432-4962-a211-7e77e67e7a82 button');\n",
              "      quickchartButtonEl.style.display =\n",
              "        google.colab.kernel.accessAllowed ? 'block' : 'none';\n",
              "    })();\n",
              "  </script>\n",
              "</div>\n",
              "\n",
              "    </div>\n",
              "  </div>\n"
            ]
          },
          "metadata": {},
          "execution_count": 30
        }
      ]
    },
    {
      "cell_type": "code",
      "source": [
        "#se elimina la primera columna, la cual no aporta informacion\n",
        "df_ventas = df_ventas.drop(\"Unnamed: 0\",axis=1)\n",
        "df_ventas = df_ventas.drop(\"publicidad_exterior\",axis=1)\n",
        "df_ventas = df_ventas.drop(\"delivery\",axis=1)\n",
        "\n",
        "#se muestra los primeros 5 elementos de la data\n",
        "df_ventas.head()"
      ],
      "metadata": {
        "colab": {
          "base_uri": "https://localhost:8080/",
          "height": 206
        },
        "id": "4Aq9lxg6cra8",
        "outputId": "0f3e91d8-c29a-4505-f695-b2f60b20136d"
      },
      "execution_count": 31,
      "outputs": [
        {
          "output_type": "execute_result",
          "data": {
            "text/plain": [
              "        area  num_productos  ventas\n",
              "0  52.324250      28.717111   83188\n",
              "1  53.972180      24.061171   68638\n",
              "2  53.231438      16.724146   84210\n",
              "3  43.583231      29.307826   82888\n",
              "4  36.769380      18.313163   57796"
            ],
            "text/html": [
              "\n",
              "  <div id=\"df-06567231-2adf-490b-8002-31103c049156\" class=\"colab-df-container\">\n",
              "    <div>\n",
              "<style scoped>\n",
              "    .dataframe tbody tr th:only-of-type {\n",
              "        vertical-align: middle;\n",
              "    }\n",
              "\n",
              "    .dataframe tbody tr th {\n",
              "        vertical-align: top;\n",
              "    }\n",
              "\n",
              "    .dataframe thead th {\n",
              "        text-align: right;\n",
              "    }\n",
              "</style>\n",
              "<table border=\"1\" class=\"dataframe\">\n",
              "  <thead>\n",
              "    <tr style=\"text-align: right;\">\n",
              "      <th></th>\n",
              "      <th>area</th>\n",
              "      <th>num_productos</th>\n",
              "      <th>ventas</th>\n",
              "    </tr>\n",
              "  </thead>\n",
              "  <tbody>\n",
              "    <tr>\n",
              "      <th>0</th>\n",
              "      <td>52.324250</td>\n",
              "      <td>28.717111</td>\n",
              "      <td>83188</td>\n",
              "    </tr>\n",
              "    <tr>\n",
              "      <th>1</th>\n",
              "      <td>53.972180</td>\n",
              "      <td>24.061171</td>\n",
              "      <td>68638</td>\n",
              "    </tr>\n",
              "    <tr>\n",
              "      <th>2</th>\n",
              "      <td>53.231438</td>\n",
              "      <td>16.724146</td>\n",
              "      <td>84210</td>\n",
              "    </tr>\n",
              "    <tr>\n",
              "      <th>3</th>\n",
              "      <td>43.583231</td>\n",
              "      <td>29.307826</td>\n",
              "      <td>82888</td>\n",
              "    </tr>\n",
              "    <tr>\n",
              "      <th>4</th>\n",
              "      <td>36.769380</td>\n",
              "      <td>18.313163</td>\n",
              "      <td>57796</td>\n",
              "    </tr>\n",
              "  </tbody>\n",
              "</table>\n",
              "</div>\n",
              "    <div class=\"colab-df-buttons\">\n",
              "\n",
              "  <div class=\"colab-df-container\">\n",
              "    <button class=\"colab-df-convert\" onclick=\"convertToInteractive('df-06567231-2adf-490b-8002-31103c049156')\"\n",
              "            title=\"Convert this dataframe to an interactive table.\"\n",
              "            style=\"display:none;\">\n",
              "\n",
              "  <svg xmlns=\"http://www.w3.org/2000/svg\" height=\"24px\" viewBox=\"0 -960 960 960\">\n",
              "    <path d=\"M120-120v-720h720v720H120Zm60-500h600v-160H180v160Zm220 220h160v-160H400v160Zm0 220h160v-160H400v160ZM180-400h160v-160H180v160Zm440 0h160v-160H620v160ZM180-180h160v-160H180v160Zm440 0h160v-160H620v160Z\"/>\n",
              "  </svg>\n",
              "    </button>\n",
              "\n",
              "  <style>\n",
              "    .colab-df-container {\n",
              "      display:flex;\n",
              "      gap: 12px;\n",
              "    }\n",
              "\n",
              "    .colab-df-convert {\n",
              "      background-color: #E8F0FE;\n",
              "      border: none;\n",
              "      border-radius: 50%;\n",
              "      cursor: pointer;\n",
              "      display: none;\n",
              "      fill: #1967D2;\n",
              "      height: 32px;\n",
              "      padding: 0 0 0 0;\n",
              "      width: 32px;\n",
              "    }\n",
              "\n",
              "    .colab-df-convert:hover {\n",
              "      background-color: #E2EBFA;\n",
              "      box-shadow: 0px 1px 2px rgba(60, 64, 67, 0.3), 0px 1px 3px 1px rgba(60, 64, 67, 0.15);\n",
              "      fill: #174EA6;\n",
              "    }\n",
              "\n",
              "    .colab-df-buttons div {\n",
              "      margin-bottom: 4px;\n",
              "    }\n",
              "\n",
              "    [theme=dark] .colab-df-convert {\n",
              "      background-color: #3B4455;\n",
              "      fill: #D2E3FC;\n",
              "    }\n",
              "\n",
              "    [theme=dark] .colab-df-convert:hover {\n",
              "      background-color: #434B5C;\n",
              "      box-shadow: 0px 1px 3px 1px rgba(0, 0, 0, 0.15);\n",
              "      filter: drop-shadow(0px 1px 2px rgba(0, 0, 0, 0.3));\n",
              "      fill: #FFFFFF;\n",
              "    }\n",
              "  </style>\n",
              "\n",
              "    <script>\n",
              "      const buttonEl =\n",
              "        document.querySelector('#df-06567231-2adf-490b-8002-31103c049156 button.colab-df-convert');\n",
              "      buttonEl.style.display =\n",
              "        google.colab.kernel.accessAllowed ? 'block' : 'none';\n",
              "\n",
              "      async function convertToInteractive(key) {\n",
              "        const element = document.querySelector('#df-06567231-2adf-490b-8002-31103c049156');\n",
              "        const dataTable =\n",
              "          await google.colab.kernel.invokeFunction('convertToInteractive',\n",
              "                                                    [key], {});\n",
              "        if (!dataTable) return;\n",
              "\n",
              "        const docLinkHtml = 'Like what you see? Visit the ' +\n",
              "          '<a target=\"_blank\" href=https://colab.research.google.com/notebooks/data_table.ipynb>data table notebook</a>'\n",
              "          + ' to learn more about interactive tables.';\n",
              "        element.innerHTML = '';\n",
              "        dataTable['output_type'] = 'display_data';\n",
              "        await google.colab.output.renderOutput(dataTable, element);\n",
              "        const docLink = document.createElement('div');\n",
              "        docLink.innerHTML = docLinkHtml;\n",
              "        element.appendChild(docLink);\n",
              "      }\n",
              "    </script>\n",
              "  </div>\n",
              "\n",
              "\n",
              "<div id=\"df-6763fb47-5c2b-4302-a311-dd206a679156\">\n",
              "  <button class=\"colab-df-quickchart\" onclick=\"quickchart('df-6763fb47-5c2b-4302-a311-dd206a679156')\"\n",
              "            title=\"Suggest charts\"\n",
              "            style=\"display:none;\">\n",
              "\n",
              "<svg xmlns=\"http://www.w3.org/2000/svg\" height=\"24px\"viewBox=\"0 0 24 24\"\n",
              "     width=\"24px\">\n",
              "    <g>\n",
              "        <path d=\"M19 3H5c-1.1 0-2 .9-2 2v14c0 1.1.9 2 2 2h14c1.1 0 2-.9 2-2V5c0-1.1-.9-2-2-2zM9 17H7v-7h2v7zm4 0h-2V7h2v10zm4 0h-2v-4h2v4z\"/>\n",
              "    </g>\n",
              "</svg>\n",
              "  </button>\n",
              "\n",
              "<style>\n",
              "  .colab-df-quickchart {\n",
              "      --bg-color: #E8F0FE;\n",
              "      --fill-color: #1967D2;\n",
              "      --hover-bg-color: #E2EBFA;\n",
              "      --hover-fill-color: #174EA6;\n",
              "      --disabled-fill-color: #AAA;\n",
              "      --disabled-bg-color: #DDD;\n",
              "  }\n",
              "\n",
              "  [theme=dark] .colab-df-quickchart {\n",
              "      --bg-color: #3B4455;\n",
              "      --fill-color: #D2E3FC;\n",
              "      --hover-bg-color: #434B5C;\n",
              "      --hover-fill-color: #FFFFFF;\n",
              "      --disabled-bg-color: #3B4455;\n",
              "      --disabled-fill-color: #666;\n",
              "  }\n",
              "\n",
              "  .colab-df-quickchart {\n",
              "    background-color: var(--bg-color);\n",
              "    border: none;\n",
              "    border-radius: 50%;\n",
              "    cursor: pointer;\n",
              "    display: none;\n",
              "    fill: var(--fill-color);\n",
              "    height: 32px;\n",
              "    padding: 0;\n",
              "    width: 32px;\n",
              "  }\n",
              "\n",
              "  .colab-df-quickchart:hover {\n",
              "    background-color: var(--hover-bg-color);\n",
              "    box-shadow: 0 1px 2px rgba(60, 64, 67, 0.3), 0 1px 3px 1px rgba(60, 64, 67, 0.15);\n",
              "    fill: var(--button-hover-fill-color);\n",
              "  }\n",
              "\n",
              "  .colab-df-quickchart-complete:disabled,\n",
              "  .colab-df-quickchart-complete:disabled:hover {\n",
              "    background-color: var(--disabled-bg-color);\n",
              "    fill: var(--disabled-fill-color);\n",
              "    box-shadow: none;\n",
              "  }\n",
              "\n",
              "  .colab-df-spinner {\n",
              "    border: 2px solid var(--fill-color);\n",
              "    border-color: transparent;\n",
              "    border-bottom-color: var(--fill-color);\n",
              "    animation:\n",
              "      spin 1s steps(1) infinite;\n",
              "  }\n",
              "\n",
              "  @keyframes spin {\n",
              "    0% {\n",
              "      border-color: transparent;\n",
              "      border-bottom-color: var(--fill-color);\n",
              "      border-left-color: var(--fill-color);\n",
              "    }\n",
              "    20% {\n",
              "      border-color: transparent;\n",
              "      border-left-color: var(--fill-color);\n",
              "      border-top-color: var(--fill-color);\n",
              "    }\n",
              "    30% {\n",
              "      border-color: transparent;\n",
              "      border-left-color: var(--fill-color);\n",
              "      border-top-color: var(--fill-color);\n",
              "      border-right-color: var(--fill-color);\n",
              "    }\n",
              "    40% {\n",
              "      border-color: transparent;\n",
              "      border-right-color: var(--fill-color);\n",
              "      border-top-color: var(--fill-color);\n",
              "    }\n",
              "    60% {\n",
              "      border-color: transparent;\n",
              "      border-right-color: var(--fill-color);\n",
              "    }\n",
              "    80% {\n",
              "      border-color: transparent;\n",
              "      border-right-color: var(--fill-color);\n",
              "      border-bottom-color: var(--fill-color);\n",
              "    }\n",
              "    90% {\n",
              "      border-color: transparent;\n",
              "      border-bottom-color: var(--fill-color);\n",
              "    }\n",
              "  }\n",
              "</style>\n",
              "\n",
              "  <script>\n",
              "    async function quickchart(key) {\n",
              "      const quickchartButtonEl =\n",
              "        document.querySelector('#' + key + ' button');\n",
              "      quickchartButtonEl.disabled = true;  // To prevent multiple clicks.\n",
              "      quickchartButtonEl.classList.add('colab-df-spinner');\n",
              "      try {\n",
              "        const charts = await google.colab.kernel.invokeFunction(\n",
              "            'suggestCharts', [key], {});\n",
              "      } catch (error) {\n",
              "        console.error('Error during call to suggestCharts:', error);\n",
              "      }\n",
              "      quickchartButtonEl.classList.remove('colab-df-spinner');\n",
              "      quickchartButtonEl.classList.add('colab-df-quickchart-complete');\n",
              "    }\n",
              "    (() => {\n",
              "      let quickchartButtonEl =\n",
              "        document.querySelector('#df-6763fb47-5c2b-4302-a311-dd206a679156 button');\n",
              "      quickchartButtonEl.style.display =\n",
              "        google.colab.kernel.accessAllowed ? 'block' : 'none';\n",
              "    })();\n",
              "  </script>\n",
              "</div>\n",
              "\n",
              "    </div>\n",
              "  </div>\n"
            ]
          },
          "metadata": {},
          "execution_count": 31
        }
      ]
    },
    {
      "cell_type": "code",
      "source": [
        "#vemos las dimensiones de la base de datos\n",
        "df_ventas.shape"
      ],
      "metadata": {
        "colab": {
          "base_uri": "https://localhost:8080/"
        },
        "id": "bmepc8cteCKQ",
        "outputId": "d533523e-e106-448a-ffb2-e9ec3ab498f7"
      },
      "execution_count": 32,
      "outputs": [
        {
          "output_type": "execute_result",
          "data": {
            "text/plain": [
              "(1116, 3)"
            ]
          },
          "metadata": {},
          "execution_count": 32
        }
      ]
    },
    {
      "cell_type": "code",
      "source": [
        "#vemos la informacion basica de la data, cuanto datos no nulos\n",
        "df_ventas.info()"
      ],
      "metadata": {
        "colab": {
          "base_uri": "https://localhost:8080/"
        },
        "id": "T3jeMG7zeNxb",
        "outputId": "10356b50-d963-4a08-fc1f-e9c02c11af1a"
      },
      "execution_count": 33,
      "outputs": [
        {
          "output_type": "stream",
          "name": "stdout",
          "text": [
            "<class 'pandas.core.frame.DataFrame'>\n",
            "RangeIndex: 1116 entries, 0 to 1115\n",
            "Data columns (total 3 columns):\n",
            " #   Column         Non-Null Count  Dtype  \n",
            "---  ------         --------------  -----  \n",
            " 0   area           1116 non-null   float64\n",
            " 1   num_productos  1116 non-null   float64\n",
            " 2   ventas         1116 non-null   int64  \n",
            "dtypes: float64(2), int64(1)\n",
            "memory usage: 26.3 KB\n"
          ]
        }
      ]
    },
    {
      "cell_type": "markdown",
      "source": [
        "**DIVISION DE LA DATA EN TRAIN Y TEST**\n",
        "\n",
        "La función train_test_split nos permite dividir la data de forma aleatoria en conjuntos de entrenamiento(train) y prueba(test) para poder entrenar nuestro modelo"
      ],
      "metadata": {
        "id": "1TmYiD7Eeer4"
      }
    },
    {
      "cell_type": "code",
      "source": [
        "#se carga la libreria para la division de la data del sklean\n",
        "from sklearn.model_selection import train_test_split\n",
        "#se devide la data en df_train y df_test, con un 20% de la data en df_test y una semilla de aleatoriedad 2023\n",
        "df_train, df_test = train_test_split(df_ventas, test_size = 0.20, random_state = 2023)"
      ],
      "metadata": {
        "id": "ZiSS-jXgeqK8"
      },
      "execution_count": 34,
      "outputs": []
    },
    {
      "cell_type": "code",
      "source": [
        "#vemos las dimensiones de la data train\n",
        "df_train.shape"
      ],
      "metadata": {
        "colab": {
          "base_uri": "https://localhost:8080/"
        },
        "id": "oikBqnn5foj8",
        "outputId": "91956a95-fac5-4ebb-c136-c33acc48cd3a"
      },
      "execution_count": 35,
      "outputs": [
        {
          "output_type": "execute_result",
          "data": {
            "text/plain": [
              "(892, 3)"
            ]
          },
          "metadata": {},
          "execution_count": 35
        }
      ]
    },
    {
      "cell_type": "code",
      "source": [
        "#se muestra los primeros 10 elementos de la data\n",
        "df_train.head(10)"
      ],
      "metadata": {
        "colab": {
          "base_uri": "https://localhost:8080/",
          "height": 363
        },
        "id": "TifWWAtZfrlJ",
        "outputId": "c67f0c9a-36ea-403c-b742-a4e770db8156"
      },
      "execution_count": 36,
      "outputs": [
        {
          "output_type": "execute_result",
          "data": {
            "text/plain": [
              "           area  num_productos  ventas\n",
              "468   44.834952      24.175217   70642\n",
              "777   38.716953      14.395952   68040\n",
              "738   49.939670      15.740714   79080\n",
              "1025  41.475491      20.752021   69649\n",
              "294   45.264330      28.954984   77936\n",
              "891   45.906836      13.513593   49620\n",
              "880   52.783184      32.421376   85235\n",
              "314   51.423132      26.468755   73204\n",
              "437   34.162867      20.832900   68069\n",
              "190   48.210438      21.161101   72921"
            ],
            "text/html": [
              "\n",
              "  <div id=\"df-1a32441a-66e7-415b-a905-a8076b28b7ef\" class=\"colab-df-container\">\n",
              "    <div>\n",
              "<style scoped>\n",
              "    .dataframe tbody tr th:only-of-type {\n",
              "        vertical-align: middle;\n",
              "    }\n",
              "\n",
              "    .dataframe tbody tr th {\n",
              "        vertical-align: top;\n",
              "    }\n",
              "\n",
              "    .dataframe thead th {\n",
              "        text-align: right;\n",
              "    }\n",
              "</style>\n",
              "<table border=\"1\" class=\"dataframe\">\n",
              "  <thead>\n",
              "    <tr style=\"text-align: right;\">\n",
              "      <th></th>\n",
              "      <th>area</th>\n",
              "      <th>num_productos</th>\n",
              "      <th>ventas</th>\n",
              "    </tr>\n",
              "  </thead>\n",
              "  <tbody>\n",
              "    <tr>\n",
              "      <th>468</th>\n",
              "      <td>44.834952</td>\n",
              "      <td>24.175217</td>\n",
              "      <td>70642</td>\n",
              "    </tr>\n",
              "    <tr>\n",
              "      <th>777</th>\n",
              "      <td>38.716953</td>\n",
              "      <td>14.395952</td>\n",
              "      <td>68040</td>\n",
              "    </tr>\n",
              "    <tr>\n",
              "      <th>738</th>\n",
              "      <td>49.939670</td>\n",
              "      <td>15.740714</td>\n",
              "      <td>79080</td>\n",
              "    </tr>\n",
              "    <tr>\n",
              "      <th>1025</th>\n",
              "      <td>41.475491</td>\n",
              "      <td>20.752021</td>\n",
              "      <td>69649</td>\n",
              "    </tr>\n",
              "    <tr>\n",
              "      <th>294</th>\n",
              "      <td>45.264330</td>\n",
              "      <td>28.954984</td>\n",
              "      <td>77936</td>\n",
              "    </tr>\n",
              "    <tr>\n",
              "      <th>891</th>\n",
              "      <td>45.906836</td>\n",
              "      <td>13.513593</td>\n",
              "      <td>49620</td>\n",
              "    </tr>\n",
              "    <tr>\n",
              "      <th>880</th>\n",
              "      <td>52.783184</td>\n",
              "      <td>32.421376</td>\n",
              "      <td>85235</td>\n",
              "    </tr>\n",
              "    <tr>\n",
              "      <th>314</th>\n",
              "      <td>51.423132</td>\n",
              "      <td>26.468755</td>\n",
              "      <td>73204</td>\n",
              "    </tr>\n",
              "    <tr>\n",
              "      <th>437</th>\n",
              "      <td>34.162867</td>\n",
              "      <td>20.832900</td>\n",
              "      <td>68069</td>\n",
              "    </tr>\n",
              "    <tr>\n",
              "      <th>190</th>\n",
              "      <td>48.210438</td>\n",
              "      <td>21.161101</td>\n",
              "      <td>72921</td>\n",
              "    </tr>\n",
              "  </tbody>\n",
              "</table>\n",
              "</div>\n",
              "    <div class=\"colab-df-buttons\">\n",
              "\n",
              "  <div class=\"colab-df-container\">\n",
              "    <button class=\"colab-df-convert\" onclick=\"convertToInteractive('df-1a32441a-66e7-415b-a905-a8076b28b7ef')\"\n",
              "            title=\"Convert this dataframe to an interactive table.\"\n",
              "            style=\"display:none;\">\n",
              "\n",
              "  <svg xmlns=\"http://www.w3.org/2000/svg\" height=\"24px\" viewBox=\"0 -960 960 960\">\n",
              "    <path d=\"M120-120v-720h720v720H120Zm60-500h600v-160H180v160Zm220 220h160v-160H400v160Zm0 220h160v-160H400v160ZM180-400h160v-160H180v160Zm440 0h160v-160H620v160ZM180-180h160v-160H180v160Zm440 0h160v-160H620v160Z\"/>\n",
              "  </svg>\n",
              "    </button>\n",
              "\n",
              "  <style>\n",
              "    .colab-df-container {\n",
              "      display:flex;\n",
              "      gap: 12px;\n",
              "    }\n",
              "\n",
              "    .colab-df-convert {\n",
              "      background-color: #E8F0FE;\n",
              "      border: none;\n",
              "      border-radius: 50%;\n",
              "      cursor: pointer;\n",
              "      display: none;\n",
              "      fill: #1967D2;\n",
              "      height: 32px;\n",
              "      padding: 0 0 0 0;\n",
              "      width: 32px;\n",
              "    }\n",
              "\n",
              "    .colab-df-convert:hover {\n",
              "      background-color: #E2EBFA;\n",
              "      box-shadow: 0px 1px 2px rgba(60, 64, 67, 0.3), 0px 1px 3px 1px rgba(60, 64, 67, 0.15);\n",
              "      fill: #174EA6;\n",
              "    }\n",
              "\n",
              "    .colab-df-buttons div {\n",
              "      margin-bottom: 4px;\n",
              "    }\n",
              "\n",
              "    [theme=dark] .colab-df-convert {\n",
              "      background-color: #3B4455;\n",
              "      fill: #D2E3FC;\n",
              "    }\n",
              "\n",
              "    [theme=dark] .colab-df-convert:hover {\n",
              "      background-color: #434B5C;\n",
              "      box-shadow: 0px 1px 3px 1px rgba(0, 0, 0, 0.15);\n",
              "      filter: drop-shadow(0px 1px 2px rgba(0, 0, 0, 0.3));\n",
              "      fill: #FFFFFF;\n",
              "    }\n",
              "  </style>\n",
              "\n",
              "    <script>\n",
              "      const buttonEl =\n",
              "        document.querySelector('#df-1a32441a-66e7-415b-a905-a8076b28b7ef button.colab-df-convert');\n",
              "      buttonEl.style.display =\n",
              "        google.colab.kernel.accessAllowed ? 'block' : 'none';\n",
              "\n",
              "      async function convertToInteractive(key) {\n",
              "        const element = document.querySelector('#df-1a32441a-66e7-415b-a905-a8076b28b7ef');\n",
              "        const dataTable =\n",
              "          await google.colab.kernel.invokeFunction('convertToInteractive',\n",
              "                                                    [key], {});\n",
              "        if (!dataTable) return;\n",
              "\n",
              "        const docLinkHtml = 'Like what you see? Visit the ' +\n",
              "          '<a target=\"_blank\" href=https://colab.research.google.com/notebooks/data_table.ipynb>data table notebook</a>'\n",
              "          + ' to learn more about interactive tables.';\n",
              "        element.innerHTML = '';\n",
              "        dataTable['output_type'] = 'display_data';\n",
              "        await google.colab.output.renderOutput(dataTable, element);\n",
              "        const docLink = document.createElement('div');\n",
              "        docLink.innerHTML = docLinkHtml;\n",
              "        element.appendChild(docLink);\n",
              "      }\n",
              "    </script>\n",
              "  </div>\n",
              "\n",
              "\n",
              "<div id=\"df-8d5e4a49-1a21-4720-8a72-911c0ef8592e\">\n",
              "  <button class=\"colab-df-quickchart\" onclick=\"quickchart('df-8d5e4a49-1a21-4720-8a72-911c0ef8592e')\"\n",
              "            title=\"Suggest charts\"\n",
              "            style=\"display:none;\">\n",
              "\n",
              "<svg xmlns=\"http://www.w3.org/2000/svg\" height=\"24px\"viewBox=\"0 0 24 24\"\n",
              "     width=\"24px\">\n",
              "    <g>\n",
              "        <path d=\"M19 3H5c-1.1 0-2 .9-2 2v14c0 1.1.9 2 2 2h14c1.1 0 2-.9 2-2V5c0-1.1-.9-2-2-2zM9 17H7v-7h2v7zm4 0h-2V7h2v10zm4 0h-2v-4h2v4z\"/>\n",
              "    </g>\n",
              "</svg>\n",
              "  </button>\n",
              "\n",
              "<style>\n",
              "  .colab-df-quickchart {\n",
              "      --bg-color: #E8F0FE;\n",
              "      --fill-color: #1967D2;\n",
              "      --hover-bg-color: #E2EBFA;\n",
              "      --hover-fill-color: #174EA6;\n",
              "      --disabled-fill-color: #AAA;\n",
              "      --disabled-bg-color: #DDD;\n",
              "  }\n",
              "\n",
              "  [theme=dark] .colab-df-quickchart {\n",
              "      --bg-color: #3B4455;\n",
              "      --fill-color: #D2E3FC;\n",
              "      --hover-bg-color: #434B5C;\n",
              "      --hover-fill-color: #FFFFFF;\n",
              "      --disabled-bg-color: #3B4455;\n",
              "      --disabled-fill-color: #666;\n",
              "  }\n",
              "\n",
              "  .colab-df-quickchart {\n",
              "    background-color: var(--bg-color);\n",
              "    border: none;\n",
              "    border-radius: 50%;\n",
              "    cursor: pointer;\n",
              "    display: none;\n",
              "    fill: var(--fill-color);\n",
              "    height: 32px;\n",
              "    padding: 0;\n",
              "    width: 32px;\n",
              "  }\n",
              "\n",
              "  .colab-df-quickchart:hover {\n",
              "    background-color: var(--hover-bg-color);\n",
              "    box-shadow: 0 1px 2px rgba(60, 64, 67, 0.3), 0 1px 3px 1px rgba(60, 64, 67, 0.15);\n",
              "    fill: var(--button-hover-fill-color);\n",
              "  }\n",
              "\n",
              "  .colab-df-quickchart-complete:disabled,\n",
              "  .colab-df-quickchart-complete:disabled:hover {\n",
              "    background-color: var(--disabled-bg-color);\n",
              "    fill: var(--disabled-fill-color);\n",
              "    box-shadow: none;\n",
              "  }\n",
              "\n",
              "  .colab-df-spinner {\n",
              "    border: 2px solid var(--fill-color);\n",
              "    border-color: transparent;\n",
              "    border-bottom-color: var(--fill-color);\n",
              "    animation:\n",
              "      spin 1s steps(1) infinite;\n",
              "  }\n",
              "\n",
              "  @keyframes spin {\n",
              "    0% {\n",
              "      border-color: transparent;\n",
              "      border-bottom-color: var(--fill-color);\n",
              "      border-left-color: var(--fill-color);\n",
              "    }\n",
              "    20% {\n",
              "      border-color: transparent;\n",
              "      border-left-color: var(--fill-color);\n",
              "      border-top-color: var(--fill-color);\n",
              "    }\n",
              "    30% {\n",
              "      border-color: transparent;\n",
              "      border-left-color: var(--fill-color);\n",
              "      border-top-color: var(--fill-color);\n",
              "      border-right-color: var(--fill-color);\n",
              "    }\n",
              "    40% {\n",
              "      border-color: transparent;\n",
              "      border-right-color: var(--fill-color);\n",
              "      border-top-color: var(--fill-color);\n",
              "    }\n",
              "    60% {\n",
              "      border-color: transparent;\n",
              "      border-right-color: var(--fill-color);\n",
              "    }\n",
              "    80% {\n",
              "      border-color: transparent;\n",
              "      border-right-color: var(--fill-color);\n",
              "      border-bottom-color: var(--fill-color);\n",
              "    }\n",
              "    90% {\n",
              "      border-color: transparent;\n",
              "      border-bottom-color: var(--fill-color);\n",
              "    }\n",
              "  }\n",
              "</style>\n",
              "\n",
              "  <script>\n",
              "    async function quickchart(key) {\n",
              "      const quickchartButtonEl =\n",
              "        document.querySelector('#' + key + ' button');\n",
              "      quickchartButtonEl.disabled = true;  // To prevent multiple clicks.\n",
              "      quickchartButtonEl.classList.add('colab-df-spinner');\n",
              "      try {\n",
              "        const charts = await google.colab.kernel.invokeFunction(\n",
              "            'suggestCharts', [key], {});\n",
              "      } catch (error) {\n",
              "        console.error('Error during call to suggestCharts:', error);\n",
              "      }\n",
              "      quickchartButtonEl.classList.remove('colab-df-spinner');\n",
              "      quickchartButtonEl.classList.add('colab-df-quickchart-complete');\n",
              "    }\n",
              "    (() => {\n",
              "      let quickchartButtonEl =\n",
              "        document.querySelector('#df-8d5e4a49-1a21-4720-8a72-911c0ef8592e button');\n",
              "      quickchartButtonEl.style.display =\n",
              "        google.colab.kernel.accessAllowed ? 'block' : 'none';\n",
              "    })();\n",
              "  </script>\n",
              "</div>\n",
              "\n",
              "    </div>\n",
              "  </div>\n"
            ]
          },
          "metadata": {},
          "execution_count": 36
        }
      ]
    },
    {
      "cell_type": "code",
      "source": [
        "#vemos las dimensiones de la data test\n",
        "df_test.shape"
      ],
      "metadata": {
        "colab": {
          "base_uri": "https://localhost:8080/"
        },
        "id": "lSATsEwrzNaC",
        "outputId": "79489221-81dc-4f76-e339-1941d74ce99c"
      },
      "execution_count": 37,
      "outputs": [
        {
          "output_type": "execute_result",
          "data": {
            "text/plain": [
              "(224, 3)"
            ]
          },
          "metadata": {},
          "execution_count": 37
        }
      ]
    },
    {
      "cell_type": "code",
      "source": [
        "#De la data df_train, se borrara la columna ventas el cual sera la variable\n",
        "#objetivo de la regresion lineal.Este nueva data lo guardaremos con las\n",
        "#variables dependientes X_train\n",
        "X_train = df_train.drop('ventas', axis = 1)\n",
        "\n",
        "#De la data df_train, solo se consultara la variable objetivo, el cual se\n",
        "#guardara como variable independiente y_train\n",
        "y_train = df_train['ventas']\n",
        "\n",
        "#De la data df_test, se borrara la columna ventas el cual sera la variable\n",
        "#objetivo de la regresion lineal.Este nueva data lo guardaremos con las\n",
        "#variables dependientes X_test\n",
        "X_test = df_test.drop('ventas', axis = 1)\n",
        "\n",
        "#De la data df_test, solo se consultara la variable objetivo, el cual se\n",
        "#guardara como variable independiente y_test\n",
        "y_test = df_test['ventas']"
      ],
      "metadata": {
        "id": "UrjjlQC_zguY"
      },
      "execution_count": 38,
      "outputs": []
    },
    {
      "cell_type": "markdown",
      "source": [
        "**ANALISIS DE LA DATA, PARA LA REGRESION LINEAL**\n",
        "\n",
        "Elegimos una variable que tenga una relación aparentemente lineal con el target. Hacemos las graficas de cada variable dependiente con la variable independiente objetivo y_train. Lo graficaremos con diagra de dispersion"
      ],
      "metadata": {
        "id": "CHd3n-wx3zZo"
      }
    },
    {
      "cell_type": "code",
      "source": [
        "#Diagrama de dispersion entre x=num_productos y y=ventas\n",
        "plt.scatter(X_train['num_productos'], y_train)\n",
        "plt.show()"
      ],
      "metadata": {
        "colab": {
          "base_uri": "https://localhost:8080/",
          "height": 430
        },
        "id": "F44dHe8Q2WjQ",
        "outputId": "5d86e03e-60e2-4f30-a1f7-8d358e76f2f3"
      },
      "execution_count": 39,
      "outputs": [
        {
          "output_type": "display_data",
          "data": {
            "text/plain": [
              "<Figure size 640x480 with 1 Axes>"
            ],
            "image/png": "[encoded data removed]"
          },
          "metadata": {}
        }
      ]
    },
    {
      "cell_type": "code",
      "source": [
        "#Diagrama de dispersion entre x=are y y=ventas\n",
        "plt.scatter(X_train['area'], y_train)\n",
        "plt.show()"
      ],
      "metadata": {
        "colab": {
          "base_uri": "https://localhost:8080/",
          "height": 430
        },
        "id": "vA6V3cwW2eJQ",
        "outputId": "f08ccb61-669f-455e-87e1-f14c68b04c49"
      },
      "execution_count": 40,
      "outputs": [
        {
          "output_type": "display_data",
          "data": {
            "text/plain": [
              "<Figure size 640x480 with 1 Axes>"
            ],
            "image/png": "[encoded data removed]"
          },
          "metadata": {}
        }
      ]
    },
    {
      "cell_type": "markdown",
      "source": [
        "OBSERVACION: De los graficos de dispersion se usara la variable x=num_productos y y=ventas"
      ],
      "metadata": {
        "id": "QDkEfiYE6yYc"
      }
    },
    {
      "cell_type": "markdown",
      "source": [
        "**MODELO DE REGRESION LINEAL**\n",
        "\n",
        "Ahora queremos validar si podemos crear un modelo que permita predecir las ventas de cada cafetería a partir de sus caracteristicas. Para el modelo lineal simple tenemos:\n",
        "\n",
        "$$\n",
        "ventas = \\beta_0 + \\beta_1    *  num\\_productos\n",
        "$$"
      ],
      "metadata": {
        "id": "mQIiQvfffoSp"
      }
    },
    {
      "cell_type": "code",
      "source": [
        "#cargamos la libreria para cargar el modelo de regresion lineal\n",
        "from sklearn.linear_model import LinearRegression\n",
        "\n",
        "#definimos el objeto del modelo lineal a usar lr\n",
        "lr = LinearRegression()\n",
        "\n",
        "#ajuste de la recta de regresión (entrenamiento del modelo X_train y y_train)\n",
        "lr.fit(X_train[['num_productos']], y_train)"
      ],
      "metadata": {
        "colab": {
          "base_uri": "https://localhost:8080/",
          "height": 74
        },
        "id": "ww8rabMO6oxd",
        "outputId": "9d641e02-bdd7-4c8b-9717-b8915fe76f9b"
      },
      "execution_count": 42,
      "outputs": [
        {
          "output_type": "execute_result",
          "data": {
            "text/plain": [
              "LinearRegression()"
            ],
            "text/html": [
              "<style>#sk-container-id-3 {color: black;background-color: white;}#sk-container-id-3 pre{padding: 0;}#sk-container-id-3 div.sk-toggleable {background-color: white;}#sk-container-id-3 label.sk-toggleable__label {cursor: pointer;display: block;width: 100%;margin-bottom: 0;padding: 0.3em;box-sizing: border-box;text-align: center;}#sk-container-id-3 label.sk-toggleable__label-arrow:before {content: \"▸\";float: left;margin-right: 0.25em;color: #696969;}#sk-container-id-3 label.sk-toggleable__label-arrow:hover:before {color: black;}#sk-container-id-3 div.sk-estimator:hover label.sk-toggleable__label-arrow:before {color: black;}#sk-container-id-3 div.sk-toggleable__content {max-height: 0;max-width: 0;overflow: hidden;text-align: left;background-color: #f0f8ff;}#sk-container-id-3 div.sk-toggleable__content pre {margin: 0.2em;color: black;border-radius: 0.25em;background-color: #f0f8ff;}#sk-container-id-3 input.sk-toggleable__control:checked~div.sk-toggleable__content {max-height: 200px;max-width: 100%;overflow: auto;}#sk-container-id-3 input.sk-toggleable__control:checked~label.sk-toggleable__label-arrow:before {content: \"▾\";}#sk-container-id-3 div.sk-estimator input.sk-toggleable__control:checked~label.sk-toggleable__label {background-color: #d4ebff;}#sk-container-id-3 div.sk-label input.sk-toggleable__control:checked~label.sk-toggleable__label {background-color: #d4ebff;}#sk-container-id-3 input.sk-hidden--visually {border: 0;clip: rect(1px 1px 1px 1px);clip: rect(1px, 1px, 1px, 1px);height: 1px;margin: -1px;overflow: hidden;padding: 0;position: absolute;width: 1px;}#sk-container-id-3 div.sk-estimator {font-family: monospace;background-color: #f0f8ff;border: 1px dotted black;border-radius: 0.25em;box-sizing: border-box;margin-bottom: 0.5em;}#sk-container-id-3 div.sk-estimator:hover {background-color: #d4ebff;}#sk-container-id-3 div.sk-parallel-item::after {content: \"\";width: 100%;border-bottom: 1px solid gray;flex-grow: 1;}#sk-container-id-3 div.sk-label:hover label.sk-toggleable__label {background-color: #d4ebff;}#sk-container-id-3 div.sk-serial::before {content: \"\";position: absolute;border-left: 1px solid gray;box-sizing: border-box;top: 0;bottom: 0;left: 50%;z-index: 0;}#sk-container-id-3 div.sk-serial {display: flex;flex-direction: column;align-items: center;background-color: white;padding-right: 0.2em;padding-left: 0.2em;position: relative;}#sk-container-id-3 div.sk-item {position: relative;z-index: 1;}#sk-container-id-3 div.sk-parallel {display: flex;align-items: stretch;justify-content: center;background-color: white;position: relative;}#sk-container-id-3 div.sk-item::before, #sk-container-id-3 div.sk-parallel-item::before {content: \"\";position: absolute;border-left: 1px solid gray;box-sizing: border-box;top: 0;bottom: 0;left: 50%;z-index: -1;}#sk-container-id-3 div.sk-parallel-item {display: flex;flex-direction: column;z-index: 1;position: relative;background-color: white;}#sk-container-id-3 div.sk-parallel-item:first-child::after {align-self: flex-end;width: 50%;}#sk-container-id-3 div.sk-parallel-item:last-child::after {align-self: flex-start;width: 50%;}#sk-container-id-3 div.sk-parallel-item:only-child::after {width: 0;}#sk-container-id-3 div.sk-dashed-wrapped {border: 1px dashed gray;margin: 0 0.4em 0.5em 0.4em;box-sizing: border-box;padding-bottom: 0.4em;background-color: white;}#sk-container-id-3 div.sk-label label {font-family: monospace;font-weight: bold;display: inline-block;line-height: 1.2em;}#sk-container-id-3 div.sk-label-container {text-align: center;}#sk-container-id-3 div.sk-container {/* jupyter's `normalize.less` sets `[hidden] { display: none; }` but bootstrap.min.css set `[hidden] { display: none !important; }` so we also need the `!important` here to be able to override the default hidden behavior on the sphinx rendered scikit-learn.org. See: https://github.com/scikit-learn/scikit-learn/issues/21755 */display: inline-block !important;position: relative;}#sk-container-id-3 div.sk-text-repr-fallback {display: none;}</style><div id=\"sk-container-id-3\" class=\"sk-top-container\"><div class=\"sk-text-repr-fallback\"><pre>LinearRegression()</pre><b>In a Jupyter environment, please rerun this cell to show the HTML representation or trust the notebook. <br />On GitHub, the HTML representation is unable to render, please try loading this page with nbviewer.org.</b></div><div class=\"sk-container\" hidden><div class=\"sk-item\"><div class=\"sk-estimator sk-toggleable\"><input class=\"sk-toggleable__control sk-hidden--visually\" id=\"sk-estimator-id-3\" type=\"checkbox\" checked><label for=\"sk-estimator-id-3\" class=\"sk-toggleable__label sk-toggleable__label-arrow\">LinearRegression</label><div class=\"sk-toggleable__content\"><pre>LinearRegression()</pre></div></div></div></div></div>"
            ]
          },
          "metadata": {},
          "execution_count": 42
        }
      ]
    },
    {
      "cell_type": "markdown",
      "source": [
        "**Calculo del coeficiente $\\beta_1 =$ lr.coef_**"
      ],
      "metadata": {
        "id": "xiIOKvm79ffJ"
      }
    },
    {
      "cell_type": "code",
      "source": [
        "lr.coef_"
      ],
      "metadata": {
        "colab": {
          "base_uri": "https://localhost:8080/"
        },
        "id": "SxoOgqnN74Y0",
        "outputId": "7083b496-4f68-403e-bf28-c9445c85e052"
      },
      "execution_count": 43,
      "outputs": [
        {
          "output_type": "execute_result",
          "data": {
            "text/plain": [
              "array([1047.20207079])"
            ]
          },
          "metadata": {},
          "execution_count": 43
        }
      ]
    },
    {
      "cell_type": "markdown",
      "source": [
        "**Calculo del coeficiente $\\beta_0 =$ lr.intercept_**"
      ],
      "metadata": {
        "id": "f93MoDz4-OfA"
      }
    },
    {
      "cell_type": "code",
      "source": [
        "lr.intercept_"
      ],
      "metadata": {
        "colab": {
          "base_uri": "https://localhost:8080/"
        },
        "id": "5l_YxL6A-UEQ",
        "outputId": "f2ab1dfb-aafc-4daa-d9a9-e110f1918483"
      },
      "execution_count": 44,
      "outputs": [
        {
          "output_type": "execute_result",
          "data": {
            "text/plain": [
              "42892.554585839025"
            ]
          },
          "metadata": {},
          "execution_count": 44
        }
      ]
    },
    {
      "cell_type": "code",
      "source": [
        "#se plotea la grafica la dispersion con la recta de ajuste lineal\n",
        "#esto lo hace internamente el sns, no usa la regresion previamente\n",
        "#ajustada.\n",
        "sns.regplot(x=X_train['num_productos'], y=y_train)\n",
        "plt.show()"
      ],
      "metadata": {
        "colab": {
          "base_uri": "https://localhost:8080/",
          "height": 450
        },
        "id": "wmw4yunW_DqZ",
        "outputId": "0bb486d8-2b9c-496c-87de-dd45a01ca84e"
      },
      "execution_count": 45,
      "outputs": [
        {
          "output_type": "display_data",
          "data": {
            "text/plain": [
              "<Figure size 640x480 with 1 Axes>"
            ],
            "image/png": "[encoded data removed]"
          },
          "metadata": {}
        }
      ]
    },
    {
      "cell_type": "markdown",
      "source": [
        "**CALCULO DE ERROR**\n",
        "\n",
        "Evaluación de la regresión lineal los rendimiento de lo predicho contra la data de testeo, para ello usaremos las metricas MSE, RMSE y Coeficiente Regresion.\n",
        "\n",
        "\n",
        "---\n",
        "\n",
        "\n",
        "\n",
        "**MSE (mean_squared_error) y RMSE(Root Mean Squared Error)**\n",
        "\n",
        "El error cuadrático medio es una métrica comúnmente utilizada para evaluar el rendimiento de modelos de regresión en machine learning. La fórmula general es:\n",
        "\n",
        "$$\n",
        "MSE=\\frac{1}{n}\\sum\\limits _{i=1}^{n}( y_{i} -\\hat{y}_{i})^{2}\n",
        "$$\n",
        "Donde:\n",
        "\n",
        "* $n$ es el número de observaciones (datos).\n",
        "* $y_{i}$ es el valor real u observado para la i-ésima observación.\n",
        "* $\\hat{y}_{i}$ es el valor predicho por el modelo para la i-ésima observación.\n",
        "\n",
        "$$ $$\n",
        "El Error Cuadrático Medio de la Raíz, o RMSE por sus siglas en inglés (Root Mean Squared Error), es otra métrica comúnmente utilizada en problemas de regresión para evaluar la precisión de un modelo en sus predicciones. El RMSE es una medida de la dispersión de las diferencias entre los valores reales y los valores predichos por el modelo. La fórmula para el RMSE es la siguiente:\n",
        "$$\n",
        "RMSE=\\sqrt{MSE}\n",
        "$$\n",
        "\n",
        "\n",
        "---\n",
        "\n",
        "**COEFICIENTE DE DETERMINACION (r2_score)**\n",
        "\n",
        "El coeficiente de determinación, comúnmente conocido como $R^{2}$ o coeficiente $R^{2}$, es otra métrica utilizada para evaluar el rendimiento de un modelo de regresión. Representa la proporción de la varianza en la variable dependiente que es predecible a partir de las variables independientes en el modelo.\n",
        "\n",
        "El $R^{2}$ varía entre 0 y 1. Un $R^{2}$ de 1 indica que el modelo explica perfectamente la variabilidad de la variable dependiente, mientras que un\n",
        "$R^{2}$ de 0 indica que el modelo no explica nada de esa variabilidad. En términos sencillos, $R^{2}$ proporciona una medida de qué tan bien las predicciones del modelo se ajustan a los datos reales. La fórmula para el $R^{2}$ es la siguiente:\n",
        "\n",
        "$$\n",
        " \\begin{array}{l}\n",
        "R^{2} =1-\\frac{\\sum\\limits _{i=1}^{n}( y_{i} -\\hat{y}_{i})^{2}}{\\sum\\limits _{i=1}^{n}( y_{i} -\\overline{y})^{2}}\\\\\n",
        "\\end{array}\n",
        "$$\n",
        "\n",
        "Donde:\n",
        "\n",
        "* $n$ es el número de observaciones.\n",
        "* $y_{i}$ es el valor real de la i-ésima observación.\n",
        "* $\\hat{y}_{i}$  es el valor predicho por el modelo para la i-ésima observación.\n",
        "* $\\overline{y}$ es la media de los valores reales"
      ],
      "metadata": {
        "id": "p_mjxrfM_51H"
      }
    },
    {
      "cell_type": "code",
      "source": [
        "from sklearn.metrics import mean_squared_error, r2_score"
      ],
      "metadata": {
        "id": "iRmW1UrV_0KO"
      },
      "execution_count": 46,
      "outputs": []
    },
    {
      "cell_type": "code",
      "source": [
        "#obtenemos las predicciones del modelo para poder evaluarlas los errores\n",
        "y_train_pred = lr.predict(X_train[['num_productos']])\n",
        "y_test_pred = lr.predict(X_test[['num_productos']])\n",
        "\n",
        "print('MSE train:', mean_squared_error(y_train, y_train_pred))\n",
        "print('MSE test:', mean_squared_error(y_test, y_test_pred))\n",
        "\n",
        "print('RMSE train:', mean_squared_error(y_train, y_train_pred) ** 0.5)\n",
        "print('RMSE test:', mean_squared_error(y_test, y_test_pred) ** 0.5)\n",
        "\n",
        "print('R2 train:', r2_score(y_train, y_train_pred))\n",
        "print('R2 test:', r2_score(y_test, y_test_pred))"
      ],
      "metadata": {
        "colab": {
          "base_uri": "https://localhost:8080/"
        },
        "id": "47VD04aqApf0",
        "outputId": "d5d3cc16-b573-4953-b59f-f9c233aa42a3"
      },
      "execution_count": 47,
      "outputs": [
        {
          "output_type": "stream",
          "name": "stdout",
          "text": [
            "MSE train: 79867463.27846073\n",
            "MSE test: 80853598.78438337\n",
            "RMSE train: 8936.859810831807\n",
            "RMSE test: 8991.862920684644\n",
            "R2 train: 0.40321210470894786\n",
            "R2 test: 0.33908779548515366\n"
          ]
        }
      ]
    },
    {
      "cell_type": "markdown",
      "source": [
        "# **2.- REGRESION LINEAL MULTIPLE**\n",
        "\n",
        "---\n"
      ],
      "metadata": {
        "id": "-QQ9Pw7mSKut"
      }
    },
    {
      "cell_type": "markdown",
      "source": [
        "**MODELO DE REGRESION LINEAL MULTIPLE**\n",
        "\n",
        "Utilizamos todas las variables para la predicción:\n",
        "\n",
        "$$\n",
        "ventas = \\beta_0 + \\beta_1 * area + \\beta_3    *  num\\_productos\n",
        "$$"
      ],
      "metadata": {
        "id": "S4jSVletS-aI"
      }
    },
    {
      "cell_type": "code",
      "source": [
        "#cargamos la libreria para cargar el modelo de regresion lineal\n",
        "from sklearn.linear_model import LinearRegression\n",
        "\n",
        "#definimos el objeto del modelo lineal a usar lr_multiple\n",
        "lr_multiple = LinearRegression()\n",
        "\n",
        "#ajuste del modelo de regresión (entrenamiento del modelo X_train y y_train)\n",
        "lr_multiple.fit(X_train, y_train)"
      ],
      "metadata": {
        "colab": {
          "base_uri": "https://localhost:8080/",
          "height": 74
        },
        "id": "oTFjAJQySaE4",
        "outputId": "92c7999d-48c8-4e4e-ca4d-a6135fcbd2b5"
      },
      "execution_count": 48,
      "outputs": [
        {
          "output_type": "execute_result",
          "data": {
            "text/plain": [
              "LinearRegression()"
            ],
            "text/html": [
              "<style>#sk-container-id-4 {color: black;background-color: white;}#sk-container-id-4 pre{padding: 0;}#sk-container-id-4 div.sk-toggleable {background-color: white;}#sk-container-id-4 label.sk-toggleable__label {cursor: pointer;display: block;width: 100%;margin-bottom: 0;padding: 0.3em;box-sizing: border-box;text-align: center;}#sk-container-id-4 label.sk-toggleable__label-arrow:before {content: \"▸\";float: left;margin-right: 0.25em;color: #696969;}#sk-container-id-4 label.sk-toggleable__label-arrow:hover:before {color: black;}#sk-container-id-4 div.sk-estimator:hover label.sk-toggleable__label-arrow:before {color: black;}#sk-container-id-4 div.sk-toggleable__content {max-height: 0;max-width: 0;overflow: hidden;text-align: left;background-color: #f0f8ff;}#sk-container-id-4 div.sk-toggleable__content pre {margin: 0.2em;color: black;border-radius: 0.25em;background-color: #f0f8ff;}#sk-container-id-4 input.sk-toggleable__control:checked~div.sk-toggleable__content {max-height: 200px;max-width: 100%;overflow: auto;}#sk-container-id-4 input.sk-toggleable__control:checked~label.sk-toggleable__label-arrow:before {content: \"▾\";}#sk-container-id-4 div.sk-estimator input.sk-toggleable__control:checked~label.sk-toggleable__label {background-color: #d4ebff;}#sk-container-id-4 div.sk-label input.sk-toggleable__control:checked~label.sk-toggleable__label {background-color: #d4ebff;}#sk-container-id-4 input.sk-hidden--visually {border: 0;clip: rect(1px 1px 1px 1px);clip: rect(1px, 1px, 1px, 1px);height: 1px;margin: -1px;overflow: hidden;padding: 0;position: absolute;width: 1px;}#sk-container-id-4 div.sk-estimator {font-family: monospace;background-color: #f0f8ff;border: 1px dotted black;border-radius: 0.25em;box-sizing: border-box;margin-bottom: 0.5em;}#sk-container-id-4 div.sk-estimator:hover {background-color: #d4ebff;}#sk-container-id-4 div.sk-parallel-item::after {content: \"\";width: 100%;border-bottom: 1px solid gray;flex-grow: 1;}#sk-container-id-4 div.sk-label:hover label.sk-toggleable__label {background-color: #d4ebff;}#sk-container-id-4 div.sk-serial::before {content: \"\";position: absolute;border-left: 1px solid gray;box-sizing: border-box;top: 0;bottom: 0;left: 50%;z-index: 0;}#sk-container-id-4 div.sk-serial {display: flex;flex-direction: column;align-items: center;background-color: white;padding-right: 0.2em;padding-left: 0.2em;position: relative;}#sk-container-id-4 div.sk-item {position: relative;z-index: 1;}#sk-container-id-4 div.sk-parallel {display: flex;align-items: stretch;justify-content: center;background-color: white;position: relative;}#sk-container-id-4 div.sk-item::before, #sk-container-id-4 div.sk-parallel-item::before {content: \"\";position: absolute;border-left: 1px solid gray;box-sizing: border-box;top: 0;bottom: 0;left: 50%;z-index: -1;}#sk-container-id-4 div.sk-parallel-item {display: flex;flex-direction: column;z-index: 1;position: relative;background-color: white;}#sk-container-id-4 div.sk-parallel-item:first-child::after {align-self: flex-end;width: 50%;}#sk-container-id-4 div.sk-parallel-item:last-child::after {align-self: flex-start;width: 50%;}#sk-container-id-4 div.sk-parallel-item:only-child::after {width: 0;}#sk-container-id-4 div.sk-dashed-wrapped {border: 1px dashed gray;margin: 0 0.4em 0.5em 0.4em;box-sizing: border-box;padding-bottom: 0.4em;background-color: white;}#sk-container-id-4 div.sk-label label {font-family: monospace;font-weight: bold;display: inline-block;line-height: 1.2em;}#sk-container-id-4 div.sk-label-container {text-align: center;}#sk-container-id-4 div.sk-container {/* jupyter's `normalize.less` sets `[hidden] { display: none; }` but bootstrap.min.css set `[hidden] { display: none !important; }` so we also need the `!important` here to be able to override the default hidden behavior on the sphinx rendered scikit-learn.org. See: https://github.com/scikit-learn/scikit-learn/issues/21755 */display: inline-block !important;position: relative;}#sk-container-id-4 div.sk-text-repr-fallback {display: none;}</style><div id=\"sk-container-id-4\" class=\"sk-top-container\"><div class=\"sk-text-repr-fallback\"><pre>LinearRegression()</pre><b>In a Jupyter environment, please rerun this cell to show the HTML representation or trust the notebook. <br />On GitHub, the HTML representation is unable to render, please try loading this page with nbviewer.org.</b></div><div class=\"sk-container\" hidden><div class=\"sk-item\"><div class=\"sk-estimator sk-toggleable\"><input class=\"sk-toggleable__control sk-hidden--visually\" id=\"sk-estimator-id-4\" type=\"checkbox\" checked><label for=\"sk-estimator-id-4\" class=\"sk-toggleable__label sk-toggleable__label-arrow\">LinearRegression</label><div class=\"sk-toggleable__content\"><pre>LinearRegression()</pre></div></div></div></div></div>"
            ]
          },
          "metadata": {},
          "execution_count": 48
        }
      ]
    },
    {
      "cell_type": "markdown",
      "source": [
        "**CALCULO DE ERROR**\n",
        "\n",
        "Evaluación de la regresión lineal multiploe los rendimiento de lo predicho contra la data de testeo, para ello usaremos las metricas MSE, RMSE y Coeficiente Regresion.\n",
        "\n",
        "---"
      ],
      "metadata": {
        "id": "UGjsuKWGW76P"
      }
    },
    {
      "cell_type": "code",
      "source": [
        "#obtenemos las predicciones del modelo para poder evaluarlas los errores\n",
        "y_test_pred = lr_multiple.predict(X_test)\n",
        "y_train_pred = lr_multiple.predict(X_train)\n",
        "\n",
        "print('MSE train:', mean_squared_error(y_train, y_train_pred))\n",
        "print('MSE test:', mean_squared_error(y_test, y_test_pred))\n",
        "\n",
        "print('RMSE train:', mean_squared_error(y_train, y_train_pred) ** 0.5)\n",
        "print('RMSE test:', mean_squared_error(y_test, y_test_pred) ** 0.5)\n",
        "\n",
        "print('R2 train:', r2_score(y_train, y_train_pred))\n",
        "print('R2 test:', r2_score(y_test, y_test_pred))"
      ],
      "metadata": {
        "colab": {
          "base_uri": "https://localhost:8080/"
        },
        "id": "1e5g4u2aVggv",
        "outputId": "c7faf8a2-4b90-45ed-d82d-c43cefb2f193"
      },
      "execution_count": 49,
      "outputs": [
        {
          "output_type": "stream",
          "name": "stdout",
          "text": [
            "MSE train: 59919533.10395228\n",
            "MSE test: 64275804.91708984\n",
            "RMSE train: 7740.770833964295\n",
            "RMSE test: 8017.219275851811\n",
            "R2 train: 0.5522675870741716\n",
            "R2 test: 0.47459773512363357\n"
          ]
        }
      ]
    },
    {
      "cell_type": "code",
      "source": [
        "lr_multiple.coef_"
      ],
      "metadata": {
        "colab": {
          "base_uri": "https://localhost:8080/"
        },
        "id": "LTXf0y1S3zS9",
        "outputId": "82204875-0529-4942-e844-7312d2e03989"
      },
      "execution_count": 50,
      "outputs": [
        {
          "output_type": "execute_result",
          "data": {
            "text/plain": [
              "array([722.59869369, 837.06894869])"
            ]
          },
          "metadata": {},
          "execution_count": 50
        }
      ]
    },
    {
      "cell_type": "code",
      "source": [
        "lr_multiple.intercept_"
      ],
      "metadata": {
        "colab": {
          "base_uri": "https://localhost:8080/"
        },
        "id": "ABHLcMT84YQk",
        "outputId": "6ddac00a-ab1e-40a5-bdce-578573ee5a4c"
      },
      "execution_count": 51,
      "outputs": [
        {
          "output_type": "execute_result",
          "data": {
            "text/plain": [
              "13920.438610116442"
            ]
          },
          "metadata": {},
          "execution_count": 51
        }
      ]
    },
    {
      "cell_type": "code",
      "source": [
        "betas = pd.DataFrame({'features': X_train.columns, 'beta': lr_multiple.coef_})\n",
        "betas"
      ],
      "metadata": {
        "colab": {
          "base_uri": "https://localhost:8080/",
          "height": 125
        },
        "id": "jHif9sO84lW7",
        "outputId": "e5c51d75-bcdc-4c2e-f6da-94087060f4c0"
      },
      "execution_count": 52,
      "outputs": [
        {
          "output_type": "execute_result",
          "data": {
            "text/plain": [
              "        features        beta\n",
              "0           area  722.598694\n",
              "1  num_productos  837.068949"
            ],
            "text/html": [
              "\n",
              "  <div id=\"df-c617680d-29f6-4214-99c2-9750273e215e\" class=\"colab-df-container\">\n",
              "    <div>\n",
              "<style scoped>\n",
              "    .dataframe tbody tr th:only-of-type {\n",
              "        vertical-align: middle;\n",
              "    }\n",
              "\n",
              "    .dataframe tbody tr th {\n",
              "        vertical-align: top;\n",
              "    }\n",
              "\n",
              "    .dataframe thead th {\n",
              "        text-align: right;\n",
              "    }\n",
              "</style>\n",
              "<table border=\"1\" class=\"dataframe\">\n",
              "  <thead>\n",
              "    <tr style=\"text-align: right;\">\n",
              "      <th></th>\n",
              "      <th>features</th>\n",
              "      <th>beta</th>\n",
              "    </tr>\n",
              "  </thead>\n",
              "  <tbody>\n",
              "    <tr>\n",
              "      <th>0</th>\n",
              "      <td>area</td>\n",
              "      <td>722.598694</td>\n",
              "    </tr>\n",
              "    <tr>\n",
              "      <th>1</th>\n",
              "      <td>num_productos</td>\n",
              "      <td>837.068949</td>\n",
              "    </tr>\n",
              "  </tbody>\n",
              "</table>\n",
              "</div>\n",
              "    <div class=\"colab-df-buttons\">\n",
              "\n",
              "  <div class=\"colab-df-container\">\n",
              "    <button class=\"colab-df-convert\" onclick=\"convertToInteractive('df-c617680d-29f6-4214-99c2-9750273e215e')\"\n",
              "            title=\"Convert this dataframe to an interactive table.\"\n",
              "            style=\"display:none;\">\n",
              "\n",
              "  <svg xmlns=\"http://www.w3.org/2000/svg\" height=\"24px\" viewBox=\"0 -960 960 960\">\n",
              "    <path d=\"M120-120v-720h720v720H120Zm60-500h600v-160H180v160Zm220 220h160v-160H400v160Zm0 220h160v-160H400v160ZM180-400h160v-160H180v160Zm440 0h160v-160H620v160ZM180-180h160v-160H180v160Zm440 0h160v-160H620v160Z\"/>\n",
              "  </svg>\n",
              "    </button>\n",
              "\n",
              "  <style>\n",
              "    .colab-df-container {\n",
              "      display:flex;\n",
              "      gap: 12px;\n",
              "    }\n",
              "\n",
              "    .colab-df-convert {\n",
              "      background-color: #E8F0FE;\n",
              "      border: none;\n",
              "      border-radius: 50%;\n",
              "      cursor: pointer;\n",
              "      display: none;\n",
              "      fill: #1967D2;\n",
              "      height: 32px;\n",
              "      padding: 0 0 0 0;\n",
              "      width: 32px;\n",
              "    }\n",
              "\n",
              "    .colab-df-convert:hover {\n",
              "      background-color: #E2EBFA;\n",
              "      box-shadow: 0px 1px 2px rgba(60, 64, 67, 0.3), 0px 1px 3px 1px rgba(60, 64, 67, 0.15);\n",
              "      fill: #174EA6;\n",
              "    }\n",
              "\n",
              "    .colab-df-buttons div {\n",
              "      margin-bottom: 4px;\n",
              "    }\n",
              "\n",
              "    [theme=dark] .colab-df-convert {\n",
              "      background-color: #3B4455;\n",
              "      fill: #D2E3FC;\n",
              "    }\n",
              "\n",
              "    [theme=dark] .colab-df-convert:hover {\n",
              "      background-color: #434B5C;\n",
              "      box-shadow: 0px 1px 3px 1px rgba(0, 0, 0, 0.15);\n",
              "      filter: drop-shadow(0px 1px 2px rgba(0, 0, 0, 0.3));\n",
              "      fill: #FFFFFF;\n",
              "    }\n",
              "  </style>\n",
              "\n",
              "    <script>\n",
              "      const buttonEl =\n",
              "        document.querySelector('#df-c617680d-29f6-4214-99c2-9750273e215e button.colab-df-convert');\n",
              "      buttonEl.style.display =\n",
              "        google.colab.kernel.accessAllowed ? 'block' : 'none';\n",
              "\n",
              "      async function convertToInteractive(key) {\n",
              "        const element = document.querySelector('#df-c617680d-29f6-4214-99c2-9750273e215e');\n",
              "        const dataTable =\n",
              "          await google.colab.kernel.invokeFunction('convertToInteractive',\n",
              "                                                    [key], {});\n",
              "        if (!dataTable) return;\n",
              "\n",
              "        const docLinkHtml = 'Like what you see? Visit the ' +\n",
              "          '<a target=\"_blank\" href=https://colab.research.google.com/notebooks/data_table.ipynb>data table notebook</a>'\n",
              "          + ' to learn more about interactive tables.';\n",
              "        element.innerHTML = '';\n",
              "        dataTable['output_type'] = 'display_data';\n",
              "        await google.colab.output.renderOutput(dataTable, element);\n",
              "        const docLink = document.createElement('div');\n",
              "        docLink.innerHTML = docLinkHtml;\n",
              "        element.appendChild(docLink);\n",
              "      }\n",
              "    </script>\n",
              "  </div>\n",
              "\n",
              "\n",
              "<div id=\"df-4c29fee9-1982-4f49-b57b-eec22d34429f\">\n",
              "  <button class=\"colab-df-quickchart\" onclick=\"quickchart('df-4c29fee9-1982-4f49-b57b-eec22d34429f')\"\n",
              "            title=\"Suggest charts\"\n",
              "            style=\"display:none;\">\n",
              "\n",
              "<svg xmlns=\"http://www.w3.org/2000/svg\" height=\"24px\"viewBox=\"0 0 24 24\"\n",
              "     width=\"24px\">\n",
              "    <g>\n",
              "        <path d=\"M19 3H5c-1.1 0-2 .9-2 2v14c0 1.1.9 2 2 2h14c1.1 0 2-.9 2-2V5c0-1.1-.9-2-2-2zM9 17H7v-7h2v7zm4 0h-2V7h2v10zm4 0h-2v-4h2v4z\"/>\n",
              "    </g>\n",
              "</svg>\n",
              "  </button>\n",
              "\n",
              "<style>\n",
              "  .colab-df-quickchart {\n",
              "      --bg-color: #E8F0FE;\n",
              "      --fill-color: #1967D2;\n",
              "      --hover-bg-color: #E2EBFA;\n",
              "      --hover-fill-color: #174EA6;\n",
              "      --disabled-fill-color: #AAA;\n",
              "      --disabled-bg-color: #DDD;\n",
              "  }\n",
              "\n",
              "  [theme=dark] .colab-df-quickchart {\n",
              "      --bg-color: #3B4455;\n",
              "      --fill-color: #D2E3FC;\n",
              "      --hover-bg-color: #434B5C;\n",
              "      --hover-fill-color: #FFFFFF;\n",
              "      --disabled-bg-color: #3B4455;\n",
              "      --disabled-fill-color: #666;\n",
              "  }\n",
              "\n",
              "  .colab-df-quickchart {\n",
              "    background-color: var(--bg-color);\n",
              "    border: none;\n",
              "    border-radius: 50%;\n",
              "    cursor: pointer;\n",
              "    display: none;\n",
              "    fill: var(--fill-color);\n",
              "    height: 32px;\n",
              "    padding: 0;\n",
              "    width: 32px;\n",
              "  }\n",
              "\n",
              "  .colab-df-quickchart:hover {\n",
              "    background-color: var(--hover-bg-color);\n",
              "    box-shadow: 0 1px 2px rgba(60, 64, 67, 0.3), 0 1px 3px 1px rgba(60, 64, 67, 0.15);\n",
              "    fill: var(--button-hover-fill-color);\n",
              "  }\n",
              "\n",
              "  .colab-df-quickchart-complete:disabled,\n",
              "  .colab-df-quickchart-complete:disabled:hover {\n",
              "    background-color: var(--disabled-bg-color);\n",
              "    fill: var(--disabled-fill-color);\n",
              "    box-shadow: none;\n",
              "  }\n",
              "\n",
              "  .colab-df-spinner {\n",
              "    border: 2px solid var(--fill-color);\n",
              "    border-color: transparent;\n",
              "    border-bottom-color: var(--fill-color);\n",
              "    animation:\n",
              "      spin 1s steps(1) infinite;\n",
              "  }\n",
              "\n",
              "  @keyframes spin {\n",
              "    0% {\n",
              "      border-color: transparent;\n",
              "      border-bottom-color: var(--fill-color);\n",
              "      border-left-color: var(--fill-color);\n",
              "    }\n",
              "    20% {\n",
              "      border-color: transparent;\n",
              "      border-left-color: var(--fill-color);\n",
              "      border-top-color: var(--fill-color);\n",
              "    }\n",
              "    30% {\n",
              "      border-color: transparent;\n",
              "      border-left-color: var(--fill-color);\n",
              "      border-top-color: var(--fill-color);\n",
              "      border-right-color: var(--fill-color);\n",
              "    }\n",
              "    40% {\n",
              "      border-color: transparent;\n",
              "      border-right-color: var(--fill-color);\n",
              "      border-top-color: var(--fill-color);\n",
              "    }\n",
              "    60% {\n",
              "      border-color: transparent;\n",
              "      border-right-color: var(--fill-color);\n",
              "    }\n",
              "    80% {\n",
              "      border-color: transparent;\n",
              "      border-right-color: var(--fill-color);\n",
              "      border-bottom-color: var(--fill-color);\n",
              "    }\n",
              "    90% {\n",
              "      border-color: transparent;\n",
              "      border-bottom-color: var(--fill-color);\n",
              "    }\n",
              "  }\n",
              "</style>\n",
              "\n",
              "  <script>\n",
              "    async function quickchart(key) {\n",
              "      const quickchartButtonEl =\n",
              "        document.querySelector('#' + key + ' button');\n",
              "      quickchartButtonEl.disabled = true;  // To prevent multiple clicks.\n",
              "      quickchartButtonEl.classList.add('colab-df-spinner');\n",
              "      try {\n",
              "        const charts = await google.colab.kernel.invokeFunction(\n",
              "            'suggestCharts', [key], {});\n",
              "      } catch (error) {\n",
              "        console.error('Error during call to suggestCharts:', error);\n",
              "      }\n",
              "      quickchartButtonEl.classList.remove('colab-df-spinner');\n",
              "      quickchartButtonEl.classList.add('colab-df-quickchart-complete');\n",
              "    }\n",
              "    (() => {\n",
              "      let quickchartButtonEl =\n",
              "        document.querySelector('#df-4c29fee9-1982-4f49-b57b-eec22d34429f button');\n",
              "      quickchartButtonEl.style.display =\n",
              "        google.colab.kernel.accessAllowed ? 'block' : 'none';\n",
              "    })();\n",
              "  </script>\n",
              "</div>\n",
              "\n",
              "  <div id=\"id_469b101e-7cc7-4e29-8cf3-023f573320a0\">\n",
              "    <style>\n",
              "      .colab-df-generate {\n",
              "        background-color: #E8F0FE;\n",
              "        border: none;\n",
              "        border-radius: 50%;\n",
              "        cursor: pointer;\n",
              "        display: none;\n",
              "        fill: #1967D2;\n",
              "        height: 32px;\n",
              "        padding: 0 0 0 0;\n",
              "        width: 32px;\n",
              "      }\n",
              "\n",
              "      .colab-df-generate:hover {\n",
              "        background-color: #E2EBFA;\n",
              "        box-shadow: 0px 1px 2px rgba(60, 64, 67, 0.3), 0px 1px 3px 1px rgba(60, 64, 67, 0.15);\n",
              "        fill: #174EA6;\n",
              "      }\n",
              "\n",
              "      [theme=dark] .colab-df-generate {\n",
              "        background-color: #3B4455;\n",
              "        fill: #D2E3FC;\n",
              "      }\n",
              "\n",
              "      [theme=dark] .colab-df-generate:hover {\n",
              "        background-color: #434B5C;\n",
              "        box-shadow: 0px 1px 3px 1px rgba(0, 0, 0, 0.15);\n",
              "        filter: drop-shadow(0px 1px 2px rgba(0, 0, 0, 0.3));\n",
              "        fill: #FFFFFF;\n",
              "      }\n",
              "    </style>\n",
              "    <button class=\"colab-df-generate\" onclick=\"generateWithVariable('betas')\"\n",
              "            title=\"Generate code using this dataframe.\"\n",
              "            style=\"display:none;\">\n",
              "\n",
              "  <svg xmlns=\"http://www.w3.org/2000/svg\" height=\"24px\"viewBox=\"0 0 24 24\"\n",
              "       width=\"24px\">\n",
              "    <path d=\"M7,19H8.4L18.45,9,17,7.55,7,17.6ZM5,21V16.75L18.45,3.32a2,2,0,0,1,2.83,0l1.4,1.43a1.91,1.91,0,0,1,.58,1.4,1.91,1.91,0,0,1-.58,1.4L9.25,21ZM18.45,9,17,7.55Zm-12,3A5.31,5.31,0,0,0,4.9,8.1,5.31,5.31,0,0,0,1,6.5,5.31,5.31,0,0,0,4.9,4.9,5.31,5.31,0,0,0,6.5,1,5.31,5.31,0,0,0,8.1,4.9,5.31,5.31,0,0,0,12,6.5,5.46,5.46,0,0,0,6.5,12Z\"/>\n",
              "  </svg>\n",
              "    </button>\n",
              "    <script>\n",
              "      (() => {\n",
              "      const buttonEl =\n",
              "        document.querySelector('#id_469b101e-7cc7-4e29-8cf3-023f573320a0 button.colab-df-generate');\n",
              "      buttonEl.style.display =\n",
              "        google.colab.kernel.accessAllowed ? 'block' : 'none';\n",
              "\n",
              "      buttonEl.onclick = () => {\n",
              "        google.colab.notebook.generateWithVariable('betas');\n",
              "      }\n",
              "      })();\n",
              "    </script>\n",
              "  </div>\n",
              "\n",
              "    </div>\n",
              "  </div>\n"
            ]
          },
          "metadata": {},
          "execution_count": 52
        }
      ]
    }
  ]
}