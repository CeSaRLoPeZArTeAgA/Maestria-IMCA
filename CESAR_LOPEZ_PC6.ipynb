{
  "nbformat": 4,
  "nbformat_minor": 0,
  "metadata": {
    "colab": {
      "provenance": [],
      "authorship_tag": "ABX9TyPyu4nkqgi+cgMNRF8iKWql",
      "include_colab_link": true
    },
    "kernelspec": {
      "name": "python3",
      "display_name": "Python 3"
    },
    "language_info": {
      "name": "python"
    }
  },
  "cells": [
    {
      "cell_type": "markdown",
      "metadata": {
        "id": "view-in-github",
        "colab_type": "text"
      },
      "source": [
        "<a href=\"https://colab.research.google.com/github/CeSaRLoPeZArTeAgA/Maestria-IMCA/blob/main/CESAR_LOPEZ_PC6.ipynb\" target=\"_parent\"><img src=\"https://colab.research.google.com/assets/colab-badge.svg\" alt=\"Open In Colab\"/></a>"
      ]
    },
    {
      "cell_type": "markdown",
      "source": [
        "# PRACTICA CALIFICADA 6\n",
        "# ALUMNO: CESAR OMAR LOPEZ ARTEAGA\n",
        "# COD: 20215508C"
      ],
      "metadata": {
        "id": "65Yu2n3_FPQs"
      }
    },
    {
      "cell_type": "markdown",
      "source": [
        "PROBELA 1, PARTE B, SE USA NEWTON 2-D"
      ],
      "metadata": {
        "id": "1mUawtDl9Oky"
      }
    },
    {
      "cell_type": "code",
      "source": [
        "import numpy as np\n",
        "import pandas as pd\n",
        "from tabulate import tabulate\n",
        "tabla = {'x':[]  , 'error':[]}\n",
        "\n",
        "def F(x):\n",
        "    #funcion f1, funcion f2\n",
        "    #manualmente\n",
        "    f1=x[0]*x[1]-42\n",
        "    f2=x[0]*x[1]+5*x[0]+5*x[1]-107\n",
        "    return np.array([f1,f2])\n",
        "\n",
        "def dF(x):\n",
        "    #matriz jacobiana introducir valores\n",
        "    #manualmente .\n",
        "    return np.array([[x[1], x[0]],\n",
        "                      [x[1]+5,x[0]+5]])\n",
        "\n",
        "def Gauss(x0):\n",
        "    N=100\n",
        "    x=x0\n",
        "    tabla[\"x\"].append(x.flatten())\n",
        "    tabla[\"error\"].append(\"=====\")\n",
        "    for k in range (N):\n",
        "        xold=x\n",
        "        Jinv=np.linalg.inv(dF(x))\n",
        "        x=x-np.dot(Jinv,F(x))\n",
        "        e=np.linalg.norm(x-xold)\n",
        "        tabla[\"x\"].append(x.flatten())\n",
        "        tabla[\"error\"].append(e)\n",
        "        if e<1e-5:\n",
        "            break\n",
        "    df = pd.DataFrame(tabla)\n",
        "    print(tabulate(df,headers = \"keys\",tablefmt = \"fancy_grid\"))\n",
        "\n",
        "\n",
        "x0 = np.array([3,4])\n",
        "Gauss(x0)"
      ],
      "metadata": {
        "colab": {
          "base_uri": "https://localhost:8080/"
        },
        "id": "FpwdOdmp84KR",
        "outputId": "75a24fdd-efbd-43dc-b839-cfa9cbab2b26"
      },
      "execution_count": 35,
      "outputs": [
        {
          "output_type": "stream",
          "name": "stdout",
          "text": [
            "╒════╤═══════════════════════════╤════════════════════════╕\n",
            "│    │ x                         │ error                  │\n",
            "╞════╪═══════════════════════════╪════════════════════════╡\n",
            "│  0 │ [3 4]                     │ =====                  │\n",
            "├────┼───────────────────────────┼────────────────────────┤\n",
            "│  1 │ [15. -2.]                 │ 13.416407864998744     │\n",
            "├────┼───────────────────────────┼────────────────────────┤\n",
            "│  2 │ [10.76470588  2.23529412] │ 5.989610381815467      │\n",
            "├────┼───────────────────────────┼────────────────────────┤\n",
            "│  3 │ [8.66166329 4.33833671]   │ 2.97415136200492       │\n",
            "├────┼───────────────────────────┼────────────────────────┤\n",
            "│  4 │ [7.63865749 5.36134251]   │ 1.446748677923759      │\n",
            "├────┼───────────────────────────┼────────────────────────┤\n",
            "│  5 │ [7.17910715 5.82089285]   │ 0.6499023231906841     │\n",
            "├────┼───────────────────────────┼────────────────────────┤\n",
            "│  6 │ [7.02361878 5.97638122]   │ 0.21989374985596724    │\n",
            "├────┼───────────────────────────┼────────────────────────┤\n",
            "│  7 │ [7.00053268 5.99946732]   │ 0.032648674924813235   │\n",
            "├────┼───────────────────────────┼────────────────────────┤\n",
            "│  8 │ [7.00000028 5.99999972]   │ 0.0007529284096014052  │\n",
            "├────┼───────────────────────────┼────────────────────────┤\n",
            "│  9 │ [7. 6.]                   │ 4.0085946342895973e-07 │\n",
            "╘════╧═══════════════════════════╧════════════════════════╛\n"
          ]
        },
        {
          "output_type": "stream",
          "name": "stderr",
          "text": [
            "/usr/local/lib/python3.10/dist-packages/tabulate/__init__.py:107: FutureWarning: elementwise comparison failed; returning scalar instead, but in the future will perform elementwise comparison\n",
            "  (len(row) >= 1 and row[0] == SEPARATING_LINE)\n",
            "/usr/local/lib/python3.10/dist-packages/tabulate/__init__.py:108: FutureWarning: elementwise comparison failed; returning scalar instead, but in the future will perform elementwise comparison\n",
            "  or (len(row) >= 2 and row[1] == SEPARATING_LINE)\n"
          ]
        }
      ]
    },
    {
      "cell_type": "markdown",
      "source": [
        "PROBELA 1, PARTE C, SE USA BROYDEN"
      ],
      "metadata": {
        "id": "idbcPFdr5tV7"
      }
    },
    {
      "cell_type": "code",
      "source": [
        "from numpy import dot,sqrt,array,eye,zeros_like,cos,sin,diag,exp,pi\n",
        "from numpy.linalg import solve\n",
        "from math import *\n",
        "\n",
        "import pandas as pd\n",
        "from tabulate import tabulate\n",
        "print(\"Metodo de Broyden\")\n",
        "tabla = {  'x': [] , 'error': []}\n",
        "\n",
        "def f(x):\n",
        "    z = zeros_like(x)\n",
        "    z[0] = x[0]*x[1]-42\n",
        "    z[1] = x[0]*x[1]+5*x[0]+5*x[1]-107\n",
        "    return z\n",
        "\n",
        "def broyden(x0,A0):\n",
        "    TOL = 1E-5\n",
        "    MAXITER = 100\n",
        "    k = 0\n",
        "    xk = x0\n",
        "    Ak = A0\n",
        "    terminar = False\n",
        "    tabla[\"x\"].append(xk.flatten())\n",
        "    tabla[\"error\"].append(\"====\")\n",
        "    while not terminar:\n",
        "        fk = f(xk)\n",
        "        absfk = sqrt(dot(fk.T,fk))\n",
        "        if absfk<TOL or k>MAXITER:\n",
        "            terminar = True\n",
        "        else:\n",
        "            sk = solve(Ak,-fk)\n",
        "            xk1 = xk + sk\n",
        "            fk1 = f(xk1)\n",
        "            yk = fk1 - fk\n",
        "            Ak +=  (yk - Ak@sk)@sk.T *(1/dot(sk.T,sk))\n",
        "            k += 1\n",
        "            fk = fk1\n",
        "            xk = xk1\n",
        "\n",
        "            tabla[\"x\"].append(xk.flatten())\n",
        "            tabla[\"error\"].append(absfk)\n",
        "\n",
        "    df = pd.DataFrame(tabla)\n",
        "    print(tabulate(df,headers = \"keys\",tablefmt = \"fancy_grid\"))\n",
        "\n",
        "    return xk\n",
        "\n",
        "x0 = array([[3.00,4.00]]).T\n",
        "\n",
        "A0 = array([[4.00 , 3.00],\n",
        "            [9.00 ,8.00]])\n",
        "print(A0)\n",
        "xk = broyden(x0,A0)"
      ],
      "metadata": {
        "colab": {
          "base_uri": "https://localhost:8080/"
        },
        "id": "hCDtWkuI-RZR",
        "outputId": "4b3141ed-e3c9-45cc-93a1-771153fa686c"
      },
      "execution_count": null,
      "outputs": [
        {
          "output_type": "stream",
          "name": "stdout",
          "text": [
            "Metodo de Broyden\n",
            "[[4. 3.]\n",
            " [9. 8.]]\n",
            "╒════╤═══════════════════════════╤════════════════════════╕\n",
            "│    │ x                         │ error                  │\n",
            "╞════╪═══════════════════════════╪════════════════════════╡\n",
            "│  0 │ [3. 4.]                   │ ====                   │\n",
            "├────┼───────────────────────────┼────────────────────────┤\n",
            "│  1 │ [15. -2.]                 │ 67.08203932499369      │\n",
            "├────┼───────────────────────────┼────────────────────────┤\n",
            "│  2 │ [3.38709677 9.61290323]   │ 101.823376490863       │\n",
            "├────┼───────────────────────────┼────────────────────────┤\n",
            "│  3 │ [ 1.63473054 11.36526946] │ 13.350411485794625     │\n",
            "├────┼───────────────────────────┼────────────────────────┤\n",
            "│  4 │ [4.57034598 8.42965402]   │ 33.122079369109656     │\n",
            "├────┼───────────────────────────┼────────────────────────┤\n",
            "│  5 │ [5.08154594 7.91845406]   │ 4.912362220864351      │\n",
            "├────┼───────────────────────────┼────────────────────────┤\n",
            "│  6 │ [5.60781686 7.39218314]   │ 2.4918611405201196     │\n",
            "├────┼───────────────────────────┼────────────────────────┤\n",
            "│  7 │ [5.84411131 7.15588869]   │ 0.7721475277984426     │\n",
            "├────┼───────────────────────────┼────────────────────────┤\n",
            "│  8 │ [5.9605077 7.0394923]     │ 0.2548270958903941     │\n",
            "├────┼───────────────────────────┼────────────────────────┤\n",
            "│  9 │ [5.99484984 7.00515016]   │ 0.05805620984254116    │\n",
            "├────┼───────────────────────────┼────────────────────────┤\n",
            "│ 10 │ [5.9998053 7.0001947]     │ 0.007320935854633596   │\n",
            "├────┼───────────────────────────┼────────────────────────┤\n",
            "│ 11 │ [5.999999 7.000001]       │ 0.00027540063539921016 │\n",
            "╘════╧═══════════════════════════╧════════════════════════╛\n"
          ]
        },
        {
          "output_type": "stream",
          "name": "stderr",
          "text": [
            "/usr/local/lib/python3.10/dist-packages/tabulate/__init__.py:107: FutureWarning: elementwise comparison failed; returning scalar instead, but in the future will perform elementwise comparison\n",
            "  (len(row) >= 1 and row[0] == SEPARATING_LINE)\n",
            "/usr/local/lib/python3.10/dist-packages/tabulate/__init__.py:108: FutureWarning: elementwise comparison failed; returning scalar instead, but in the future will perform elementwise comparison\n",
            "  or (len(row) >= 2 and row[1] == SEPARATING_LINE)\n"
          ]
        }
      ]
    },
    {
      "cell_type": "markdown",
      "source": [
        "PROBLEMA 2, PARTE B, USANDO NEWTON"
      ],
      "metadata": {
        "id": "5VHXd8dE16Pf"
      }
    },
    {
      "cell_type": "code",
      "source": [
        "import numpy as np\n",
        "import pandas as pd\n",
        "from tabulate import tabulate\n",
        "tabla = {'x':[]  , 'error':[]}\n",
        "\n",
        "def F(x):\n",
        "    #funcion f1, funcion f2\n",
        "    #manualmente\n",
        "    f1=x[0]*x[1]-72\n",
        "    f2=x[0]*x[1]+2*x[0]-3*x[1]-78\n",
        "    return np.array([f1,f2])\n",
        "\n",
        "def dF(x):\n",
        "    #matriz jacobiana introducir valores\n",
        "    #manualmente .\n",
        "    return np.array([[x[1], x[0]],\n",
        "                      [x[1]+2,x[0]-3]])\n",
        "\n",
        "def Newton2D(x0):\n",
        "    N=100\n",
        "    x=x0\n",
        "    tabla[\"x\"].append(x.flatten())\n",
        "    tabla[\"error\"].append(\"=====\")\n",
        "    for k in range (N):\n",
        "        xold=x\n",
        "        Jinv=np.linalg.inv(dF(x))\n",
        "        x=x-np.dot(Jinv,F(x))\n",
        "        e=np.linalg.norm(x-xold)\n",
        "        tabla[\"x\"].append(x.flatten())\n",
        "        tabla[\"error\"].append(e)\n",
        "        if e<1e-5:\n",
        "            break\n",
        "    df = pd.DataFrame(tabla)\n",
        "    print(tabulate(df,headers = \"keys\",tablefmt = \"fancy_grid\"))\n",
        "\n",
        "\n",
        "x0 = np.array([3,6])\n",
        "Newton2D(x0)"
      ],
      "metadata": {
        "colab": {
          "base_uri": "https://localhost:8080/"
        },
        "id": "fy9uZFyFyuO2",
        "outputId": "43f20cdf-03f9-459b-d9b0-702e8913d091"
      },
      "execution_count": null,
      "outputs": [
        {
          "output_type": "stream",
          "name": "stdout",
          "text": [
            "╒════╤═══════════╤════════════════════════╕\n",
            "│    │ x         │ error                  │\n",
            "╞════╪═══════════╪════════════════════════╡\n",
            "│  0 │ [3 6]     │ =====                  │\n",
            "├────┼───────────┼────────────────────────┤\n",
            "│  1 │ [12.  6.] │ 9.0                    │\n",
            "├────┼───────────┼────────────────────────┤\n",
            "│  2 │ [12.  6.] │ 1.9860273225978185e-15 │\n",
            "╘════╧═══════════╧════════════════════════╛\n"
          ]
        },
        {
          "output_type": "stream",
          "name": "stderr",
          "text": [
            "/usr/local/lib/python3.10/dist-packages/tabulate/__init__.py:107: FutureWarning: elementwise comparison failed; returning scalar instead, but in the future will perform elementwise comparison\n",
            "  (len(row) >= 1 and row[0] == SEPARATING_LINE)\n",
            "/usr/local/lib/python3.10/dist-packages/tabulate/__init__.py:108: FutureWarning: elementwise comparison failed; returning scalar instead, but in the future will perform elementwise comparison\n",
            "  or (len(row) >= 2 and row[1] == SEPARATING_LINE)\n"
          ]
        }
      ]
    },
    {
      "cell_type": "markdown",
      "source": [
        "PROBLEMA 2, PARTE C, USANDO HOMOTOPIA"
      ],
      "metadata": {
        "id": "M34au8da9udZ"
      }
    },
    {
      "cell_type": "code",
      "source": [
        "import numpy as np\n",
        "\n",
        "from numpy import dot,sqrt,array,eye,zeros_like,cos,sin,diag,exp,pi\n",
        "from numpy.linalg import solve\n",
        "from math import *\n",
        "\n",
        "\n",
        "def f(x):\n",
        "    ft = np.zeros((2, 1))\n",
        "    ft[0] = x[0]*x[1]-72\n",
        "    ft[1] = x[0]*x[1]+2*x[0]-3*x[1]-78\n",
        "    return ft\n",
        "\n",
        "\n",
        "def J(x):\n",
        "    Jf = np.zeros((2, 2))\n",
        "    Jf[:, 0] = np.transpose([x[1],x[0]])\n",
        "    Jf[:, 1] = np.transpose([x[1]+2,x[0]-3])\n",
        "    return Jf\n",
        "\n",
        "\n",
        "def homotopia(f, J, x0, N=10):\n",
        "    k = 1\n",
        "    h = 1/N\n",
        "    a = f(x0)\n",
        "    b = -1*h*a\n",
        "    while k <= N:\n",
        "        A = J(x0)\n",
        "        k1 = ((np.linalg.inv(A)@ b)).T\n",
        "        C = x0+(1/2*k1)\n",
        "        C = C.ravel().tolist()\n",
        "        D = J(C)\n",
        "        k2 = ((np.linalg.inv(D)@ b)).T\n",
        "        E = x0+(1/2*k2)\n",
        "        E = E.ravel().tolist()\n",
        "        F = J(E)\n",
        "        k3 = ((np.linalg.inv(F)@ b)).T\n",
        "        G = x0+k3\n",
        "        G = G.ravel().tolist()\n",
        "        I = J(G)\n",
        "        k4 = ((np.linalg.inv(I)@ b)).T\n",
        "        x = x0+(k1+2*k2+2*k3+k4)/6\n",
        "        print(\"Iteracion\", k, x[0])\n",
        "        x0 = x.ravel().tolist()\n",
        "        k = k+1\n",
        "\n",
        "\n",
        "x0 = [3.00, 6.00]\n",
        "\n",
        "print(\"x0 = [3.00, 6.00]\")\n",
        "homotopia(f, J, x0)"
      ],
      "metadata": {
        "colab": {
          "base_uri": "https://localhost:8080/"
        },
        "id": "2Hb8mP1k9mpi",
        "outputId": "66593d9f-a912-4ab9-e84e-a17edc1c3edd"
      },
      "execution_count": null,
      "outputs": [
        {
          "output_type": "stream",
          "name": "stdout",
          "text": [
            "x0 = [3.00, 6.00]\n",
            "Iteracion 1 [4.971809   5.26162248]\n",
            "Iteracion 2 [6.34604674 5.03218702]\n",
            "Iteracion 3 [7.37545209 5.06346901]\n",
            "Iteracion 4 [8.19767641 5.22828307]\n",
            "Iteracion 5 [8.88868626 5.46131199]\n",
            "Iteracion 6 [9.49201227 5.72824811]\n",
            "Iteracion 7 [10.03372503  6.01062217]\n",
            "Iteracion 8 [10.53014102  6.29830025]\n",
            "Iteracion 9 [10.99190532  6.58567069]\n",
            "Iteracion 10 [11.42623491  6.8696423 ]\n"
          ]
        }
      ]
    },
    {
      "cell_type": "markdown",
      "source": [
        "PUNTO FIJO"
      ],
      "metadata": {
        "id": "E1EAoIyZ-Nc7"
      }
    },
    {
      "cell_type": "code",
      "source": [
        "from tabulate import tabulate\n",
        "import numpy as np\n",
        "tabla = { 'n':[] , 'x': [] , 'f(x)': []}\n",
        "def puntofijo(f,x0):\n",
        "    eps=1e-5\n",
        "    maxIter=100\n",
        "    f0=f(x0)\n",
        "    i=0\n",
        "    tabla[\"n\"].append(i.__int__())\n",
        "    tabla[\"x\"].append(x0.__float__())\n",
        "    tabla[\"f(x)\"].append(f0)\n",
        "    while i<maxIter and abs(f0-x0) >= eps:\n",
        "        x0=f0\n",
        "        f0=f(x0)\n",
        "        i+=1\n",
        "        tabla[\"n\"].append(i.__int__())\n",
        "        tabla[\"x\"].append(np.round(x0.__float__(),decimals=5))\n",
        "        tabla[\"f(x)\"].append(np.round(f0.__float__(),decimals=5))\n",
        "    if abs(f0-x0)>=eps:\n",
        "        print(f'Metodo no converge')\n",
        "    else:\n",
        "        print(tabulate(tabular_data=tabla,headers = \"keys\",tablefmt = \"fancy_grid\"))\n",
        "        print(f'Solucion c={x0:5.5f}')\n",
        "        print(f'Numero de iteraciones ={i}')\n",
        "\n",
        "puntofijo(f=lambda x: (x**3+1)/4, x0=0.5)"
      ],
      "metadata": {
        "colab": {
          "base_uri": "https://localhost:8080/"
        },
        "id": "JZrzTBgU95hB",
        "outputId": "d11f45bf-2fa3-41c5-e0a6-77acd6cb81eb"
      },
      "execution_count": null,
      "outputs": [
        {
          "output_type": "stream",
          "name": "stdout",
          "text": [
            "╒═════╤═════════╤═════════╕\n",
            "│   n │       x │    f(x) │\n",
            "╞═════╪═════════╪═════════╡\n",
            "│   0 │ 0.5     │ 0.28125 │\n",
            "├─────┼─────────┼─────────┤\n",
            "│   1 │ 0.28125 │ 0.25556 │\n",
            "├─────┼─────────┼─────────┤\n",
            "│   2 │ 0.25556 │ 0.25417 │\n",
            "├─────┼─────────┼─────────┤\n",
            "│   3 │ 0.25417 │ 0.25411 │\n",
            "├─────┼─────────┼─────────┤\n",
            "│   4 │ 0.25411 │ 0.2541  │\n",
            "╘═════╧═════════╧═════════╛\n",
            "Solucion c=0.25411\n",
            "Numero de iteraciones =4\n"
          ]
        }
      ]
    }
  ]
}