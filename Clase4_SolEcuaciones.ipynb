{
  "cells": [
    {
      "cell_type": "markdown",
      "metadata": {
        "id": "view-in-github",
        "colab_type": "text"
      },
      "source": [
        "<a href=\"https://colab.research.google.com/github/CeSaRLoPeZArTeAgA/Maestria-IMCA/blob/main/Clase4_SolEcuaciones.ipynb\" target=\"_parent\"><img src=\"https://colab.research.google.com/assets/colab-badge.svg\" alt=\"Open In Colab\"/></a>"
      ]
    },
    {
      "cell_type": "markdown",
      "source": [
        "# MAESTRIA DE MODELIZACION MATEMATICA Y COMPUTACIONAL\n",
        "---\n",
        "![IMCA.jpg](data:image/jpeg;base64,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)\n",
        "\n",
        "\n",
        "---\n",
        "\n",
        "\n",
        "# CLASE: SOLUCION DE ECUACIONES DE 1 VARIABLE"
      ],
      "metadata": {
        "id": "owQ-Ko0uWqt0"
      }
    },
    {
      "cell_type": "markdown",
      "source": [
        "# Metodo de Bissecion\n",
        "\n",
        "Sea f la funcion que se quiere hallar la raiz, el método consiste en lo siguiente:\n",
        "\n",
        "* Debe existir seguridad sobre la continuidad de la función f en el intervalo [a,b]\n",
        "\n",
        "* A continuación se verifica que f(a).f(b)<0\n",
        "\n",
        "* Se calcula el punto medio m del intervalo [a,b] y se evalúa f(m) si ese valor es igual a cero, ya hemos encontrado la raíz buscada\n",
        "\n",
        "* En caso de que no lo sea, verificamos si f(m) tiene signo opuesto con f(a) o con f(b).\n",
        "\n",
        "* Se redefine el intervalo [a,b] como [a,m] o [m,b] según se haya determinado en cuál de estos intervalos ocurre un cambio de signo.\n",
        "\n",
        "* Con este nuevo intervalo se continúa sucesivamente encerrando la solución en un intervalo cada vez más pequeño, hasta alcanzar la precisión deseada"
      ],
      "metadata": {
        "id": "ccqj5cG9XCgb"
      }
    },
    {
      "cell_type": "code",
      "execution_count": 6,
      "metadata": {
        "id": "CJ7bj-pZPAK7"
      },
      "outputs": [],
      "source": [
        "import numpy as np\n",
        "import pandas as pd\n",
        "\n",
        "#definimos la funcion para usar el metodo\n",
        "def f(x):\n",
        "  return x**3+4*x**2-10"
      ]
    },
    {
      "cell_type": "code",
      "execution_count": 7,
      "metadata": {
        "id": "gkbICs-5H2We"
      },
      "outputs": [],
      "source": [
        "def biseccion(a,b,TOL,N):\n",
        "  i=1\n",
        "  #inicializando matriz vacia\n",
        "  Resul=np.empty(shape=[0, 5])\n",
        "  while i<N:\n",
        "    p=(a+b)/2\n",
        "\n",
        "    #rellenando la matriz con los calculos\n",
        "    row = np.array([i,a, b, p, f(p)])\n",
        "    Resul = np.vstack([Resul, row])\n",
        "\n",
        "    if f(p)==0 or (b-a)<TOL:\n",
        "      raiz=p\n",
        "      break\n",
        "    elif f(a)*f(p)<0:\n",
        "      i+=1\n",
        "      b=p\n",
        "    else:\n",
        "      i+=1\n",
        "      a=p\n",
        "  #creacion de dataframe de los calculos\n",
        "  df= pd.DataFrame(Resul,columns=['n', 'a', 'b','p','f(p)'])\n",
        "  df=df.style.format(\"{:.7f}\").hide()\n",
        "\n",
        "  return df,raiz,i"
      ]
    },
    {
      "cell_type": "code",
      "execution_count": 8,
      "metadata": {
        "colab": {
          "base_uri": "https://localhost:8080/",
          "height": 556
        },
        "id": "NIAOXGXiPfrz",
        "outputId": "321947f9-ba5f-499a-dc0a-bfdc0229e9b1"
      },
      "outputs": [
        {
          "output_type": "stream",
          "name": "stdout",
          "text": [
            "La raiz de la funcion es: 1.365203857421875\n",
            "El numero de iteraciones son: 15\n"
          ]
        },
        {
          "output_type": "execute_result",
          "data": {
            "text/plain": [
              "<pandas.io.formats.style.Styler at 0x78230e11b100>"
            ],
            "text/html": [
              "<style type=\"text/css\">\n",
              "</style>\n",
              "<table id=\"T_179f8\" class=\"dataframe\">\n",
              "  <thead>\n",
              "    <tr>\n",
              "      <th id=\"T_179f8_level0_col0\" class=\"col_heading level0 col0\" >n</th>\n",
              "      <th id=\"T_179f8_level0_col1\" class=\"col_heading level0 col1\" >a</th>\n",
              "      <th id=\"T_179f8_level0_col2\" class=\"col_heading level0 col2\" >b</th>\n",
              "      <th id=\"T_179f8_level0_col3\" class=\"col_heading level0 col3\" >p</th>\n",
              "      <th id=\"T_179f8_level0_col4\" class=\"col_heading level0 col4\" >f(p)</th>\n",
              "    </tr>\n",
              "  </thead>\n",
              "  <tbody>\n",
              "    <tr>\n",
              "      <td id=\"T_179f8_row0_col0\" class=\"data row0 col0\" >1.0000000</td>\n",
              "      <td id=\"T_179f8_row0_col1\" class=\"data row0 col1\" >1.0000000</td>\n",
              "      <td id=\"T_179f8_row0_col2\" class=\"data row0 col2\" >2.0000000</td>\n",
              "      <td id=\"T_179f8_row0_col3\" class=\"data row0 col3\" >1.5000000</td>\n",
              "      <td id=\"T_179f8_row0_col4\" class=\"data row0 col4\" >2.3750000</td>\n",
              "    </tr>\n",
              "    <tr>\n",
              "      <td id=\"T_179f8_row1_col0\" class=\"data row1 col0\" >2.0000000</td>\n",
              "      <td id=\"T_179f8_row1_col1\" class=\"data row1 col1\" >1.0000000</td>\n",
              "      <td id=\"T_179f8_row1_col2\" class=\"data row1 col2\" >1.5000000</td>\n",
              "      <td id=\"T_179f8_row1_col3\" class=\"data row1 col3\" >1.2500000</td>\n",
              "      <td id=\"T_179f8_row1_col4\" class=\"data row1 col4\" >-1.7968750</td>\n",
              "    </tr>\n",
              "    <tr>\n",
              "      <td id=\"T_179f8_row2_col0\" class=\"data row2 col0\" >3.0000000</td>\n",
              "      <td id=\"T_179f8_row2_col1\" class=\"data row2 col1\" >1.2500000</td>\n",
              "      <td id=\"T_179f8_row2_col2\" class=\"data row2 col2\" >1.5000000</td>\n",
              "      <td id=\"T_179f8_row2_col3\" class=\"data row2 col3\" >1.3750000</td>\n",
              "      <td id=\"T_179f8_row2_col4\" class=\"data row2 col4\" >0.1621094</td>\n",
              "    </tr>\n",
              "    <tr>\n",
              "      <td id=\"T_179f8_row3_col0\" class=\"data row3 col0\" >4.0000000</td>\n",
              "      <td id=\"T_179f8_row3_col1\" class=\"data row3 col1\" >1.2500000</td>\n",
              "      <td id=\"T_179f8_row3_col2\" class=\"data row3 col2\" >1.3750000</td>\n",
              "      <td id=\"T_179f8_row3_col3\" class=\"data row3 col3\" >1.3125000</td>\n",
              "      <td id=\"T_179f8_row3_col4\" class=\"data row3 col4\" >-0.8483887</td>\n",
              "    </tr>\n",
              "    <tr>\n",
              "      <td id=\"T_179f8_row4_col0\" class=\"data row4 col0\" >5.0000000</td>\n",
              "      <td id=\"T_179f8_row4_col1\" class=\"data row4 col1\" >1.3125000</td>\n",
              "      <td id=\"T_179f8_row4_col2\" class=\"data row4 col2\" >1.3750000</td>\n",
              "      <td id=\"T_179f8_row4_col3\" class=\"data row4 col3\" >1.3437500</td>\n",
              "      <td id=\"T_179f8_row4_col4\" class=\"data row4 col4\" >-0.3509827</td>\n",
              "    </tr>\n",
              "    <tr>\n",
              "      <td id=\"T_179f8_row5_col0\" class=\"data row5 col0\" >6.0000000</td>\n",
              "      <td id=\"T_179f8_row5_col1\" class=\"data row5 col1\" >1.3437500</td>\n",
              "      <td id=\"T_179f8_row5_col2\" class=\"data row5 col2\" >1.3750000</td>\n",
              "      <td id=\"T_179f8_row5_col3\" class=\"data row5 col3\" >1.3593750</td>\n",
              "      <td id=\"T_179f8_row5_col4\" class=\"data row5 col4\" >-0.0964088</td>\n",
              "    </tr>\n",
              "    <tr>\n",
              "      <td id=\"T_179f8_row6_col0\" class=\"data row6 col0\" >7.0000000</td>\n",
              "      <td id=\"T_179f8_row6_col1\" class=\"data row6 col1\" >1.3593750</td>\n",
              "      <td id=\"T_179f8_row6_col2\" class=\"data row6 col2\" >1.3750000</td>\n",
              "      <td id=\"T_179f8_row6_col3\" class=\"data row6 col3\" >1.3671875</td>\n",
              "      <td id=\"T_179f8_row6_col4\" class=\"data row6 col4\" >0.0323558</td>\n",
              "    </tr>\n",
              "    <tr>\n",
              "      <td id=\"T_179f8_row7_col0\" class=\"data row7 col0\" >8.0000000</td>\n",
              "      <td id=\"T_179f8_row7_col1\" class=\"data row7 col1\" >1.3593750</td>\n",
              "      <td id=\"T_179f8_row7_col2\" class=\"data row7 col2\" >1.3671875</td>\n",
              "      <td id=\"T_179f8_row7_col3\" class=\"data row7 col3\" >1.3632812</td>\n",
              "      <td id=\"T_179f8_row7_col4\" class=\"data row7 col4\" >-0.0321500</td>\n",
              "    </tr>\n",
              "    <tr>\n",
              "      <td id=\"T_179f8_row8_col0\" class=\"data row8 col0\" >9.0000000</td>\n",
              "      <td id=\"T_179f8_row8_col1\" class=\"data row8 col1\" >1.3632812</td>\n",
              "      <td id=\"T_179f8_row8_col2\" class=\"data row8 col2\" >1.3671875</td>\n",
              "      <td id=\"T_179f8_row8_col3\" class=\"data row8 col3\" >1.3652344</td>\n",
              "      <td id=\"T_179f8_row8_col4\" class=\"data row8 col4\" >0.0000720</td>\n",
              "    </tr>\n",
              "    <tr>\n",
              "      <td id=\"T_179f8_row9_col0\" class=\"data row9 col0\" >10.0000000</td>\n",
              "      <td id=\"T_179f8_row9_col1\" class=\"data row9 col1\" >1.3632812</td>\n",
              "      <td id=\"T_179f8_row9_col2\" class=\"data row9 col2\" >1.3652344</td>\n",
              "      <td id=\"T_179f8_row9_col3\" class=\"data row9 col3\" >1.3642578</td>\n",
              "      <td id=\"T_179f8_row9_col4\" class=\"data row9 col4\" >-0.0160467</td>\n",
              "    </tr>\n",
              "    <tr>\n",
              "      <td id=\"T_179f8_row10_col0\" class=\"data row10 col0\" >11.0000000</td>\n",
              "      <td id=\"T_179f8_row10_col1\" class=\"data row10 col1\" >1.3642578</td>\n",
              "      <td id=\"T_179f8_row10_col2\" class=\"data row10 col2\" >1.3652344</td>\n",
              "      <td id=\"T_179f8_row10_col3\" class=\"data row10 col3\" >1.3647461</td>\n",
              "      <td id=\"T_179f8_row10_col4\" class=\"data row10 col4\" >-0.0079893</td>\n",
              "    </tr>\n",
              "    <tr>\n",
              "      <td id=\"T_179f8_row11_col0\" class=\"data row11 col0\" >12.0000000</td>\n",
              "      <td id=\"T_179f8_row11_col1\" class=\"data row11 col1\" >1.3647461</td>\n",
              "      <td id=\"T_179f8_row11_col2\" class=\"data row11 col2\" >1.3652344</td>\n",
              "      <td id=\"T_179f8_row11_col3\" class=\"data row11 col3\" >1.3649902</td>\n",
              "      <td id=\"T_179f8_row11_col4\" class=\"data row11 col4\" >-0.0039591</td>\n",
              "    </tr>\n",
              "    <tr>\n",
              "      <td id=\"T_179f8_row12_col0\" class=\"data row12 col0\" >13.0000000</td>\n",
              "      <td id=\"T_179f8_row12_col1\" class=\"data row12 col1\" >1.3649902</td>\n",
              "      <td id=\"T_179f8_row12_col2\" class=\"data row12 col2\" >1.3652344</td>\n",
              "      <td id=\"T_179f8_row12_col3\" class=\"data row12 col3\" >1.3651123</td>\n",
              "      <td id=\"T_179f8_row12_col4\" class=\"data row12 col4\" >-0.0019437</td>\n",
              "    </tr>\n",
              "    <tr>\n",
              "      <td id=\"T_179f8_row13_col0\" class=\"data row13 col0\" >14.0000000</td>\n",
              "      <td id=\"T_179f8_row13_col1\" class=\"data row13 col1\" >1.3651123</td>\n",
              "      <td id=\"T_179f8_row13_col2\" class=\"data row13 col2\" >1.3652344</td>\n",
              "      <td id=\"T_179f8_row13_col3\" class=\"data row13 col3\" >1.3651733</td>\n",
              "      <td id=\"T_179f8_row13_col4\" class=\"data row13 col4\" >-0.0009358</td>\n",
              "    </tr>\n",
              "    <tr>\n",
              "      <td id=\"T_179f8_row14_col0\" class=\"data row14 col0\" >15.0000000</td>\n",
              "      <td id=\"T_179f8_row14_col1\" class=\"data row14 col1\" >1.3651733</td>\n",
              "      <td id=\"T_179f8_row14_col2\" class=\"data row14 col2\" >1.3652344</td>\n",
              "      <td id=\"T_179f8_row14_col3\" class=\"data row14 col3\" >1.3652039</td>\n",
              "      <td id=\"T_179f8_row14_col4\" class=\"data row14 col4\" >-0.0004319</td>\n",
              "    </tr>\n",
              "  </tbody>\n",
              "</table>\n"
            ]
          },
          "metadata": {},
          "execution_count": 8
        }
      ],
      "source": [
        "Mat,Res,iter=biseccion(1,2,10**(-4),50)\n",
        "print(\"La raiz de la funcion es:\",Res)\n",
        "print(\"El numero de iteraciones son:\",iter)\n",
        "Mat"
      ]
    },
    {
      "cell_type": "markdown",
      "source": [
        "# Metodo del Punto Fijo\n",
        "\n",
        "El método de iteración de punto fijo, también denominado método de aproximación sucesiva, requiere volver a escribir la ecuación f(x)=0\n",
        "f(x)=0 en la forma x=g(x).\n",
        "\n",
        "Llamemos x* a la raíz de f. Supongamos que existe y es conocida la función g tal que:\n",
        "\n",
        "f(x)=x-g(x)     ∀x∈Df\n",
        "\n",
        "Entonces:\n",
        "f(x*)=0   ⇔   x*-g(x*)=0     ⇔    x*=g(x*)\n",
        "\n",
        "Tenemos, asi a x* como punto fijo de g.\n",
        "\n",
        "* Se ubica la raíz de f(x) analizando la gráfica.\n",
        "\n",
        "* Se despeja de manera: x=g(x)\n",
        "\n",
        "* Obtenemos de x=g(x) su derivada g′(x)\n",
        "\n",
        "* Resolviendo la desigualdad -1 ≤ g′(x) ≤ 1 obtenemos el rango de valores en los cuales esta el punto fijo llamado R.\n",
        "\n",
        "* Con R buscamos la raíz en g(x), es decir g(R)=R haciendo iteración de las operaciones.\n"
      ],
      "metadata": {
        "id": "vtpAgNu4awkD"
      }
    },
    {
      "cell_type": "code",
      "execution_count": 9,
      "metadata": {
        "id": "eIj0-pY1dz5J"
      },
      "outputs": [],
      "source": [
        "def g(x):\n",
        "  return 0.5*(10-x**3)**(0.5)"
      ]
    },
    {
      "cell_type": "code",
      "execution_count": 10,
      "metadata": {
        "id": "um_G4MUVdcdH"
      },
      "outputs": [],
      "source": [
        "def puntoFijo(p0,tol,N):\n",
        "  i=1\n",
        "  while i<N:\n",
        "    p=g(p0)\n",
        "    if abs(p0-p)<tol:\n",
        "      fijo=p\n",
        "      break\n",
        "    else:\n",
        "      i=+1\n",
        "      p0=p\n",
        "\n",
        "  if i==N:\n",
        "    print(\"Numero maximo de iteraciones, Valor no encontrado\")\n",
        "\n",
        "  return fijo,i"
      ]
    },
    {
      "cell_type": "markdown",
      "source": [
        "Ejemplo. Encontrar una raíz para el polinomio $x^3+4x^2-10$ sabiendo que tiene una raíz única en $[1,2]$."
      ],
      "metadata": {
        "id": "TWzk6keMl8dc"
      }
    },
    {
      "cell_type": "code",
      "execution_count": 11,
      "metadata": {
        "colab": {
          "base_uri": "https://localhost:8080/"
        },
        "id": "pufv8Aqdfh95",
        "outputId": "8527caf0-018c-4121-c4e3-e8b04962bae4"
      },
      "outputs": [
        {
          "output_type": "execute_result",
          "data": {
            "text/plain": [
              "(1.3652058502970472, 1)"
            ]
          },
          "metadata": {},
          "execution_count": 11
        }
      ],
      "source": [
        "puntoFijo(1.5,10**(-4),50)"
      ]
    },
    {
      "cell_type": "markdown",
      "source": [
        "# Metodo de Newton"
      ],
      "metadata": {
        "id": "2sewzV5hoSM0"
      }
    },
    {
      "cell_type": "code",
      "source": [
        "def newton(p_0, TOL, N):\n",
        "  i=1\n",
        "  while i<N:\n",
        "    #### Definir la iteración.\n",
        "    if #### Si se cumple la condición de parada (TOL).\n",
        "      raiz=\n",
        "      break\n",
        "    else:\n",
        "      #### Incrementamos el contador y\n",
        "      #### Actualizamos p_0.\n",
        "  if #### Mostrar la aproximación o mensaje de no encontrado."
      ],
      "metadata": {
        "id": "QLjvld9JoXcL"
      },
      "execution_count": null,
      "outputs": []
    }
  ],
  "metadata": {
    "colab": {
      "provenance": [],
      "authorship_tag": "ABX9TyOCDl4YRIu9TOfnjTBsCXmq",
      "include_colab_link": true
    },
    "kernelspec": {
      "display_name": "Python 3",
      "name": "python3"
    },
    "language_info": {
      "name": "python"
    }
  },
  "nbformat": 4,
  "nbformat_minor": 0
}